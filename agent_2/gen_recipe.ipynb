{
 "cells": [
  {
   "cell_type": "code",
   "execution_count": null,
   "metadata": {},
   "outputs": [
    {
     "name": "stderr",
     "output_type": "stream",
     "text": [
      "/home/jaesung/anaconda3/envs/pm1/lib/python3.12/site-packages/transformers/tokenization_utils_base.py:1601: FutureWarning: `clean_up_tokenization_spaces` was not set. It will be set to `True` by default. This behavior will be depracted in transformers v4.45, and will be then set to `False` by default. For more details check this issue: https://github.com/huggingface/transformers/issues/31884\n",
      "  warnings.warn(\n"
     ]
    }
   ],
   "source": [
    "import os\n",
    "import pandas as pd\n",
    "import faiss\n",
    "import torch\n",
    "import numpy as np\n",
    "from transformers import AutoModel, AutoTokenizer\n",
    "from torch.utils.data import Dataset, DataLoader\n",
    "from tqdm import tqdm\n",
    "\n",
    "output_dir = 'vectordb_2/categorywise/'\n",
    "if not os.path.exists(output_dir):\n",
    "    os.makedirs(output_dir)\n",
    "\n",
    "class TextDataset(Dataset):\n",
    "    def __init__(self, texts):\n",
    "        self.texts = texts\n",
    "\n",
    "    def __len__(self):\n",
    "        return len(self.texts)\n",
    "\n",
    "    def __getitem__(self, idx):\n",
    "        return self.texts[idx]\n",
    "\n",
    "model = AutoModel.from_pretrained('BM-K/KosimCSE-bert-multitask').cuda()\n",
    "tokenizer = AutoTokenizer.from_pretrained('BM-K/kosimCSE-bert-multitask')\n",
    "\n",
    "def get_embeddings_in_batches(texts, batch_size=8192):\n",
    "    dataset = TextDataset(texts)\n",
    "    data_loader = DataLoader(dataset, batch_size=batch_size, shuffle=False, num_workers=4)\n",
    "\n",
    "    embeddings_list = []\n",
    "    model.eval()\n",
    "\n",
    "    with torch.no_grad():\n",
    "        for batch_texts in tqdm(data_loader, desc=\"Processing batches\", leave=True):\n",
    "            inputs = tokenizer(batch_texts, padding=True, truncation=True, return_tensors=\"pt\").to('cuda')\n",
    "\n",
    "            with torch.cuda.amp.autocast(): \n",
    "                outputs = model(**inputs).last_hidden_state[:, 0, :]  \n",
    "                embeddings = outputs.cpu().numpy()\n",
    "\n",
    "            embeddings_list.append(embeddings)\n",
    "\n",
    "    return np.vstack(embeddings_list)"
   ]
  },
  {
   "cell_type": "code",
   "execution_count": null,
   "metadata": {},
   "outputs": [],
   "source": [
    "from langchain_community.chat_models import ChatOllama\n",
    "from langchain_core.output_parsers import StrOutputParser   #출력을 파싱하여 문자열 형태로 만드는 클래스\n",
    "from langchain_core.prompts import ChatPromptTemplate, MessagesPlaceholder  #langchain_core.prompts로부터 프롬프트를 관리하는 클래스를 가져옮\n",
    "from langchain.chat_models import ChatOpenAI\n",
    "\n",
    "\n",
    "# llm = ChatOllama(model=\"EEVE-Korean-10.8B:latest\")\n",
    "llm = ChatOpenAI(\n",
    "        api_key=\"ollama\",\n",
    "        # model=\"EEVE-Korean-10.8B:latest\",\n",
    "        model=\"bnksys/eeve:10.8b-korean-instruct-q8-v1\",\n",
    "        # model=\"bnksys/eeve:10.8b-korean-instruct-f16-v1\",\n",
    "        base_url=\"http://localhost:11434/v1\",\n",
    "        temperature=0,\n",
    "        streaming=True    \n",
    "    ) \n",
    "\n",
    "prompt_prompt = ChatPromptTemplate.from_template(\"{topic} 에 대하여 간략히 설명해 줘.\")\n",
    "\n",
    "chain = prompt_prompt | llm | StrOutputParser()\n",
    "\n",
    "chat_prompt = ChatPromptTemplate.from_messages(\n",
    "    [\n",
    "        (\n",
    "            \"system\",\n",
    "            \"You are a helpful AI Assistant. You must answer in Korean.\",\n",
    "        ),\n",
    "        MessagesPlaceholder(variable_name=\"messages\")\n",
    "    ]\n",
    ")\n",
    "\n",
    "chat_chain = chat_prompt | llm | StrOutputParser()"
   ]
  },
  {
   "cell_type": "code",
   "execution_count": null,
   "metadata": {},
   "outputs": [],
   "source": [
    "import os\n",
    "import pandas as pd\n",
    "import faiss\n",
    "\n",
    "def find_similar(query):\n",
    "    category_dir = 'vectordb_2/categorywise'\n",
    "\n",
    "    first_element = query.split(',')[0].strip()  \n",
    "\n",
    "    index_file = os.path.join(category_dir, f\"{first_element}_faiss_index.bin\")\n",
    "    metadata_file = os.path.join(category_dir, f\"{first_element}_metadata.csv\")\n",
    "\n",
    "    if os.path.exists(index_file) and os.path.exists(metadata_file):\n",
    "        index = faiss.read_index(index_file)\n",
    "        meta_df = pd.read_csv(metadata_file)\n",
    "        metadata = meta_df.apply(lambda row: ', '.join(row.astype(str)), axis=1).tolist()\n",
    "\n",
    "        # meta_df.columns = ['original']\n",
    "        # metadata = meta_df['original'].tolist()\n",
    "\n",
    "        query_embedding = get_embeddings_in_batches([query])\n",
    "\n",
    "        D, I = index.search(query_embedding, k=1)\n",
    "\n",
    "        return metadata[I[0][0]]\n",
    "    else:\n",
    "        all_index_files = [f for f in os.listdir(category_dir) if f.endswith('_faiss_index.bin')]\n",
    "        if all_index_files:\n",
    "            for idx_file in all_index_files:\n",
    "                file_base = idx_file.replace('_faiss_index.bin', '')\n",
    "                index_file = os.path.join(category_dir, f\"{file_base}_faiss_index.bin\")\n",
    "                metadata_file = os.path.join(category_dir, f\"{file_base}_metadata.csv\")\n",
    "\n",
    "                if os.path.exists(index_file) and os.path.exists(metadata_file):\n",
    "                    index = faiss.read_index(index_file)\n",
    "                    meta_df = pd.read_csv(metadata_file)\n",
    "                    metadata = meta_df.apply(lambda row: ', '.join(row.astype(str)), axis=1).tolist()\n",
    "                    \n",
    "                    # meta_df.columns = ['original']\n",
    "                    # metadata = meta_df['original'].tolist()\n",
    "\n",
    "                    query_embedding = get_embeddings_in_batches([query])\n",
    "\n",
    "                    D, I = index.search(query_embedding, k=1)\n",
    "\n",
    "                    if I[0][0] != -1:  #\n",
    "                        return metadata[I[0][0]]\n",
    "\n",
    "        return None\n"
   ]
  },
  {
   "cell_type": "code",
   "execution_count": 11,
   "metadata": {},
   "outputs": [],
   "source": [
    "def gen_response(query, most_similar, category):\n",
    "    \n",
    "    instruction = f\"\"\"\n",
    "    너는 식품 개발자야.\n",
    "    \"\"\"\n",
    "    # 1. 배합비를 생성해줘. 이 때, 배합비를 생성할 때 {query.split(', ')[1:]}은 조합을 헤치지 않는 이상 포함되어야 해.\n",
    "    # 2. 배합비의 합이 100%가 되게 재계산 해줘. \n",
    "    # 3. 출력 형식은 example들과 반드시 같도록 수정해줘.\n",
    "    # # Q와 A를 모두 제공하는 예시 (형식 강화)\n",
    "    example_1 = \"\"\"Q: 원본 식재료 ['토마토', '아보카도', '적양파', '바질']의 카테고리는 소스류야. 새로운 식재료로 대체하여 식재료 리스트를 다시 생성하고, 배합비를 100%로 맞춰줘.\n",
    "    A: 레드 벨 페퍼: 40%, 아보카도: 30%, 적양파: 20%, 파슬리: 10%\"\"\"\n",
    "\n",
    "    example_2 = \"\"\"Q: 원본 식재료 ['올리브 오일', '발사믹 식초', '레몬즙']의 카테고리는 소스류야. 새로운 식재료로 대체하여 식재료 리스트를 다시 생성하고, 배합비를 100%로 맞춰줘.\n",
    "    A: 올리브 오일: 50%, 레드 와인 식초: 30%, 시트러스 주스: 20%\"\"\"\n",
    "\n",
    "    example_3 = \"\"\"Q: 원본 식재료 ['감자', '당근', '양파', '마늘', '파슬리', '버터']의 카테고리는 스튜야. 새로운 식재료로 대체하여 식재료 리스트를 다시 생성하고, 배합비를 100%로 맞춰줘.\n",
    "    A: 감자: 35%, 당근: 20%, 샬롯: 15%, 생강: 10%, 고수: 10%, 올리브 오일: 10%\"\"\"\n",
    "\n",
    "    example_4 = \"\"\"Q: 원본 식재료 ['돼지고기', '간장', '설탕', '생강', '파', '마늘']의 카테고리는 조림류야. 새로운 식재료로 대체하여 식재료 리스트를 다시 생성하고, 배합비를 100%로 맞춰줘.\n",
    "    A: 닭고기: 40%, 간장: 20%, 꿀: 15%, 생강: 10%, 샬롯: 10%, 미림: 5%\"\"\"\n",
    "\n",
    "    example_5 = \"\"\"Q: 원본 식재료 ['쌀', '김', '참기름', '계란', '간장', '소금']의 카테고리는 밥류야. 새로운 식재료로 대체하여 식재료 리스트를 다시 생성하고, 배합비를 100%로 맞춰줘.\n",
    "    A: 현미: 30%, 김: 15%, 들기름: 20%, 메추리알: 10%, 간장: 15%, 소금: 10%\"\"\"\n",
    "\n",
    "    # 사용자의 입력\n",
    "    user_input = f\"\"\"Q: 원본 식재료 {most_similar}의 카테고리는 {category}야. 새로운 식재료로 대체하여 식재료 리스트를 다시 생성하고, 배합비를 100% 로 맞춰줘.\"\"\"\n",
    "\n",
    "    \n",
    "    response = llm.invoke(f\"{instruction}\\n{example_1}\\n{example_2}\\n{example_3}\\n{example_4}\\n{example_5}\\n{user_input}\")\n",
    "\n",
    "    return response"
   ]
  },
  {
   "cell_type": "code",
   "execution_count": 12,
   "metadata": {},
   "outputs": [],
   "source": [
    "def gen_response(query, most_similar, category):\n",
    "    instruction = \"\"\"\n",
    "    너는 식품 개발자야. 다음 순서대로 빠르게 배합비를 생성해줘:\n",
    "\n",
    "    1. 카테고리에 대한 식품을 만들기 위한 메인 재료를 필수적으로 포함해.\n",
    "    2. 추가 재료에서 식재료를 추가해.\n",
    "    3. 배합비의 합이 100%가 되도록 배합비를 완성해\n",
    "    4. 불필요한 정보는 무시하고, 배합비만 간결하게 제시해줘.\n",
    "\n",
    "    이 지침을 따르면서 응답 시간을 최소화해줘.\n",
    "    \"\"\"\n",
    "\n",
    "    example_1 = f\"Q: 샐러드를 만들고 있어. 상추, 토마토, 오이, 드레싱과 케일, 방울토마토, 애호박, 발사믹 식초를 참고해서 배합비를 생성해줘. A: 상추: 30%, 방울토마토: 25%, 오이: 15%, 애호박: 10%, 발사믹 식초: 10%, 케일: 10%\"\n",
    "    example_2 = f\"Q: 스파게티를 만들고 있어. 면, 토마토 소스, 올리브 오일, 바질과 페투치니, 마리나라 소스, 해바라기유, 파슬리를 참고해서 배합비를 생성해줘. A: 면: 40%, 마리나라 소스: 30%, 해바라기유: 15%, 파슬리: 10%, 바질: 5%\"\n",
    "    # example_3 = f\"Q: 볶음밥을 만들고 있어. 쌀, 당근, 달걀, 간장과 현미, 브로콜리, 치킨, 된장을 참고해서 배합비를 생성해줘. A: 쌀: 35%, 현미: 30%, 치킨: 20%, 브로콜리: 10%, 된장: 5%\"\n",
    "    # example_4 = f\"Q: 스무디를 만들고 있어. 바나나, 딸기, 요거트, 꿀과 망고, 블루베리, 두유, 아가베 시럽을 참고해서 배합비를 생성해줘. A: 바나나: 30%, 딸기: 25%, 망고: 20%, 블루베리: 15%, 두유: 5%, 아가베 시럽: 5%\"\n",
    "    # example_5 = f\"Q: 찜닭을 만들고 있어. 닭고기, 감자, 양파, 당면과 오리고기, 고구마, 대파, 당면을 참고해서 배합비를 생성해줘. A: 닭고기: 40%, 감자: 25%, 오리고기: 15%, 당면: 10%, 대파: 5%, 고구마: 5%\"\n",
    "\n",
    "    user_input = f\"\"\"Q: {category}의 요리 만들고 있어.메인 재료 {', '.join(query.split(', ')[1:])}와 추가 재료 {most_similar}를 참고해서 배합비를 생성해줘.\"\"\"\n",
    "    \n",
    "    response = llm.invoke(f\"{instruction}\\n{example_1}\\n{example_2}\\n{user_input}\")\n",
    "\n",
    "    return response"
   ]
  },
  {
   "cell_type": "code",
   "execution_count": 13,
   "metadata": {},
   "outputs": [],
   "source": [
    "def gen_response_v2(A, missed_q):\n",
    "    instruction = \"\"\"\n",
    "    너는 식품 개발자야. 주어진 배합비에 빠진 재료를 추가하고, 배합비의 합이 100%가 되게 조정해줘.\n",
    "    \n",
    "    1. 주어진 재료와 배합비를 유지하면서, 추가된 재료를 포함하여 배합비를 다시 조정해야 해.\n",
    "    2. 출력 형식은 '재료명: 비율%'의 형태로, 각 재료마다 비율을 정확히 기입해야 해.\n",
    "    3. 불필요한 설명 없이, 재료와 비율만 출력해. 그 외에 설명은 전혀 포함하지 말 것.\n",
    "    4. 예시는 반드시 '재료명: 비율%' 형태를 따르고, 형식을 지켜서 출력해.\n",
    "    \"\"\"\n",
    "\n",
    "    example = f\"\"\"Q: 참치: 30%, 밥: 45%, 다시마: 5%, 김: 10%, 정제소금: 5%, 냉동다진마늘: 2%, 풋고추풍미료p: 1%, 이온엿물엿: 1%, 표고무밑국물: 1%, 5리보뉴클레오티드이나트륨: 1%, 당근: 2%, 마늘쫑: 2%, 절임무: 2%, 조미김: 2%, 절임우엉: 2%, 지리멸치: 2%, 참기름: 2%, 대두유: 2%, 냉동청양고추: 2%, 두부곤약쌀: 2%, 양조간장: 2%의 배합비에 '마라'를 추가하여 배합비를 다시 생성해줘.\n",
    "    A: 참치: 28%, 밥: 42%, 마라: 5%, 다시마: 5%, 김: 8%, 정제소금: 4%, 냉동다진마늘: 2%, 풋고추풍미료p: 1%, 이온엿물엿: 1%, 표고무밑국물: 1%, 5리보뉴클레오티드이나트륨: 1%, 당근: 1%, 마늘쫑: 1%, 절임무: 1%, 조미김: 1%, 절임우엉: 1%, 지리멸치: 1%, 참기름: 1%, 대두유: 1%, 냉동청양고추: 1%, 두부곤약쌀: 1%, 양조간장: 1%.\n",
    "    \"\"\"\n",
    "\n",
    "    user_input = f\"Q: {A}에 {', '.join(missed_q)}를 추가해서 배합비를 다시 생성해줘. 오직 '재료명: 비율%' 형식으로 출력해.\"\n",
    "\n",
    "    response = llm.invoke(f\"{instruction}\\n{example}\\n{user_input}\")\n",
    "\n",
    "    return response\n",
    "\n",
    "\n",
    "\n"
   ]
  },
  {
   "cell_type": "code",
   "execution_count": 18,
   "metadata": {},
   "outputs": [
    {
     "name": "stderr",
     "output_type": "stream",
     "text": [
      "Processing batches:   0%|          | 0/1 [00:00<?, ?it/s]"
     ]
    },
    {
     "name": "stderr",
     "output_type": "stream",
     "text": [
      "huggingface/tokenizers: The current process just got forked, after parallelism has already been used. Disabling parallelism to avoid deadlocks...\n",
      "To disable this warning, you can either:\n",
      "\t- Avoid using `tokenizers` before the fork if possible\n",
      "\t- Explicitly set the environment variable TOKENIZERS_PARALLELISM=(true | false)\n",
      "huggingface/tokenizers: The current process just got forked, after parallelism has already been used. Disabling parallelism to avoid deadlocks...\n",
      "To disable this warning, you can either:\n",
      "\t- Avoid using `tokenizers` before the fork if possible\n",
      "\t- Explicitly set the environment variable TOKENIZERS_PARALLELISM=(true | false)\n",
      "huggingface/tokenizers: The current process just got forked, after parallelism has already been used. Disabling parallelism to avoid deadlocks...\n",
      "To disable this warning, you can either:\n",
      "\t- Avoid using `tokenizers` before the fork if possible\n",
      "\t- Explicitly set the environment variable TOKENIZERS_PARALLELISM=(true | false)\n",
      "huggingface/tokenizers: The current process just got forked, after parallelism has already been used. Disabling parallelism to avoid deadlocks...\n",
      "To disable this warning, you can either:\n",
      "\t- Avoid using `tokenizers` before the fork if possible\n",
      "\t- Explicitly set the environment variable TOKENIZERS_PARALLELISM=(true | false)\n",
      "/tmp/ipykernel_1231174/3384497375.py:41: FutureWarning: `torch.cuda.amp.autocast(args...)` is deprecated. Please use `torch.amp.autocast('cuda', args...)` instead.\n",
      "  with torch.cuda.amp.autocast():  # FP16에서 실행 후 추출\n",
      "Processing batches: 100%|██████████| 1/1 [00:00<00:00,  5.54it/s]\n"
     ]
    },
    {
     "name": "stdout",
     "output_type": "stream",
     "text": [
      "정제염, 볶음쌀가루, 볶음귀리분말, 내츄락dp, 참깨페이스트, 볶음통밀분말, 가는정백당, 볶은콩가루, 생크림, 볶음현미분말, 볶은퀴노아분말, 렌틸콩볶음분말, 정제수, 원유\n",
      "content='A: 김치: 30%, 돼지고기: 25%, 참깨페이스트: 10%, 내츄락스: 10%, 생크림: 10%, 정제수: 10%, 볶음쌀가루: 5%, 볶음귀리분말: 5%, 볶음통밀분말: 5%, 가는정백당: 5%, 볶은콩가루: 5%, 볶은현미분말: 5%, 볶은퀴노아분말: 5%, 렌틸콩볶음분말: 5%' additional_kwargs={} response_metadata={'finish_reason': 'stop'} id='run-b8e7a176-85ea-4378-b9a2-b8734ca75d7d-0'\n",
      "김치: 30%, 돼지고기: 25%, 참깨페이스트: 10%, 내츄락스: 10%, 생크림: 10%, 정제수: 10%, 볶음쌀가루: 5%, 볶음귀리분말: 5%, 볶음통밀분말: 5%, 가는정백당: 5%, 볶은콩가루: 5%, 볶은현미분말: 5%, 볶은퀴노아분말: 5%, 렌틸콩볶음분말: 5%\n",
      "유음료, 김치, 돼지고기, 마라\n",
      "['마라']\n"
     ]
    }
   ],
   "source": [
    "import re\n",
    "# query = \"떡류, 맵쌀, 가당백앙금, 냉동쑥\"\n",
    "# query = \"유음료, 원유, 정제수, 가는정백당\"\n",
    "# query = \"빵류, 딸기, 생크림\"\n",
    "# query = \"빵류, 전란액, 하얀설탕, 박력분\"\n",
    "query = \"유음료, 김치, 돼지고기, 마라\"\n",
    "category = query.split(', ')[0].strip()\n",
    "\n",
    "\n",
    "most_similar = find_similar(query)\n",
    "print(most_similar)\n",
    "\n",
    "response = gen_response(query, most_similar, category)\n",
    "print(response)\n",
    "\n",
    "# \n",
    "response = response.content.split('A:')[-1].strip()\n",
    "matches = re.findall(r'[가-힣a-zA-Z0-9]+:\\s*\\d+%', response)\n",
    "A = ', '.join(matches)\n",
    "\n",
    "missed_query = []\n",
    "for q in query.split(', ')[1:]:\n",
    "    if q.strip() not in A:\n",
    "        missed_query.append(q)\n",
    "\n",
    "print(A)\n",
    "print(query)\n",
    "print(missed_query)"
   ]
  },
  {
   "cell_type": "code",
   "execution_count": 39,
   "metadata": {},
   "outputs": [],
   "source": [
    "query_li = [\n",
    " '밥류, 김치, 돼지고기, 마라',\n",
    " '밥류, 간장, 달걀, 대파',\n",
    " '밥류, 된장, 시금치, 취두부',\n",
    " '밥류, 참치, 다시마, 김',\n",
    " '밥류, 고추장, 버섯, 닭고기',\n",
    " '국물류, 된장, 감자, 잔탄검',\n",
    " '국물류, 소고기, 무, 파',\n",
    " '국물류, 조개, 미역',\n",
    " '국물류, 고추장, 두부, 대파',\n",
    " '국물류, 멸치, 다시마, 무',\n",
    " '농산물, 감자, 양파, 당근',\n",
    " '농산물, 상추, 오이, 고추장',\n",
    " '농산물, 배추, 마늘, 고춧가루',\n",
    " '농산물, 시금치, 간장, 깨',\n",
    " '농산물, 무, 고추가루, 설탕',\n",
    " '두부, 두부, 간장, 파',\n",
    " '두부, 두부, 김치, 돼지고기',\n",
    " '두부, 두부, 참기름, 깨',\n",
    " '두부, 두부, 된장, 버섯',\n",
    " '두부, 두부, 달걀, 파',\n",
    " '디저트, 초콜릿, 우유, 설탕',\n",
    " '디저트, 버터, 설탕, 밀가루',\n",
    " '디저트, 계란, 우유, 딸기',\n",
    " '디저트, 밀가루, 바나나, 계란',\n",
    " '디저트, 생크림, 설탕, 과일',\n",
    " '만두, 돼지고기, 배추, 부추',\n",
    " '만두, 두부, 부추, 당면',\n",
    " '만두, 김치, 돼지고기, 양파',\n",
    " '만두, 새우, 돼지고기, 마늘',\n",
    " '만두, 소고기, 대파, 당면',\n",
    " '면, 돼지고기, 된장, 면',\n",
    " '면, 고추장, 참기름, 소면',\n",
    " '면, 해물, 파, 칼국수 면',\n",
    " '면, 간장, 마늘, 우동면',\n",
    " '면, 새우, 고추, 라면',\n",
    " '소스류, 간장, 고춧가루, 마늘',\n",
    " '소스류, 된장, 참기름, 깨',\n",
    " '소스류, 고추장, 설탕, 식초',\n",
    " '소스류, 마요네즈, 케첩, 레몬즙',\n",
    " '소스류, 간장, 설탕, 생강',\n",
    " '수산물, 새우, 마늘, 버터',\n",
    " '수산물, 고등어, 간장, 무',\n",
    " '수산물, 명태, 고춧가루, 파',\n",
    " '수산물, 조개, 된장, 다시마',\n",
    " '수산물, 오징어, 고추장, 양파',\n",
    " '음료, 커피, 우유, 설탕',\n",
    " '음료, 홍차, 우유, 꿀',\n",
    " '음료, 과일, 얼음, 시럽',\n",
    " '음료, 레몬, 설탕, 탄산수',\n",
    " '음료, 녹차, 꿀, 레몬',\n",
    " '제과제빵, 밀가루, 버터, 설탕',\n",
    " '제과제빵, 계란, 밀가루, 우유',\n",
    " '제과제빵, 초콜릿, 생크림, 딸기',\n",
    " '제과제빵, 바나나, 계란, 설탕',\n",
    " '제과제빵, 아몬드, 설탕, 버터',\n",
    " '죽수프, 쌀, 닭고기, 참기름',\n",
    " '죽수프, 감자, 버터, 우유',\n",
    " '죽수프, 호박, 생크림, 소금',\n",
    " '죽수프, 해물, 파, 마늘',\n",
    " '죽수프, 버섯, 소고기, 우유',\n",
    " '축산물, 소고기, 양파, 마늘',\n",
    " '축산물, 돼지고기, 된장, 고추장',\n",
    " '축산물, 양고기, 허브, 올리브유',\n",
    " '축산물, 닭고기, 간장, 마늘',\n",
    " '축산물, 베이컨, 계란, 감자'\n",
    "]\n"
   ]
  },
  {
   "cell_type": "code",
   "execution_count": null,
   "metadata": {},
   "outputs": [
    {
     "name": "stderr",
     "output_type": "stream",
     "text": [
      "/tmp/ipykernel_3229947/1013944166.py:20: DtypeWarning: Columns (20,21,22,23,24,25) have mixed types. Specify dtype option on import or set low_memory=False.\n",
      "  meta_df = pd.read_csv(metadata_file)\n",
      "Processing batches:   0%|          | 0/1 [00:00<?, ?it/s]huggingface/tokenizers: The current process just got forked, after parallelism has already been used. Disabling parallelism to avoid deadlocks...\n",
      "To disable this warning, you can either:\n",
      "\t- Avoid using `tokenizers` before the fork if possible\n",
      "\t- Explicitly set the environment variable TOKENIZERS_PARALLELISM=(true | false)\n",
      "huggingface/tokenizers: The current process just got forked, after parallelism has already been used. Disabling parallelism to avoid deadlocks...\n",
      "To disable this warning, you can either:\n",
      "\t- Avoid using `tokenizers` before the fork if possible\n",
      "\t- Explicitly set the environment variable TOKENIZERS_PARALLELISM=(true | false)\n",
      "huggingface/tokenizers: The current process just got forked, after parallelism has already been used. Disabling parallelism to avoid deadlocks...\n",
      "To disable this warning, you can either:\n",
      "\t- Avoid using `tokenizers` before the fork if possible\n",
      "\t- Explicitly set the environment variable TOKENIZERS_PARALLELISM=(true | false)\n",
      "huggingface/tokenizers: The current process just got forked, after parallelism has already been used. Disabling parallelism to avoid deadlocks...\n",
      "To disable this warning, you can either:\n",
      "\t- Avoid using `tokenizers` before the fork if possible\n",
      "\t- Explicitly set the environment variable TOKENIZERS_PARALLELISM=(true | false)\n",
      "/tmp/ipykernel_3229947/3384497375.py:41: FutureWarning: `torch.cuda.amp.autocast(args...)` is deprecated. Please use `torch.amp.autocast('cuda', args...)` instead.\n",
      "  with torch.cuda.amp.autocast():  # FP16에서 실행 후 추출\n",
      "Processing batches: 100%|██████████| 1/1 [00:00<00:00,  1.78it/s]\n"
     ]
    },
    {
     "name": "stdout",
     "output_type": "stream",
     "text": [
      "A: 김치: 20%, 돼지고기: 30%, 쌀: 25%, 마늘쫑: 10%, 절임무: 5%, 조미김: 5%, 지리멸치: 5%\n",
      "A: 김치: 18%, 돼지고기: 27%, 마라: 5%, 쌀: 23%, 마늘쫑: 9%, 절임무: 4%, 조미김: 4%, 지리멸치: 4%.\n"
     ]
    },
    {
     "name": "stderr",
     "output_type": "stream",
     "text": [
      "/tmp/ipykernel_3229947/1013944166.py:20: DtypeWarning: Columns (20,21,22,23,24,25) have mixed types. Specify dtype option on import or set low_memory=False.\n",
      "  meta_df = pd.read_csv(metadata_file)\n",
      "Processing batches:   0%|          | 0/1 [00:00<?, ?it/s]huggingface/tokenizers: The current process just got forked, after parallelism has already been used. Disabling parallelism to avoid deadlocks...\n",
      "To disable this warning, you can either:\n",
      "\t- Avoid using `tokenizers` before the fork if possible\n",
      "\t- Explicitly set the environment variable TOKENIZERS_PARALLELISM=(true | false)\n",
      "huggingface/tokenizers: The current process just got forked, after parallelism has already been used. Disabling parallelism to avoid deadlocks...\n",
      "To disable this warning, you can either:\n",
      "\t- Avoid using `tokenizers` before the fork if possible\n",
      "\t- Explicitly set the environment variable TOKENIZERS_PARALLELISM=(true | false)\n",
      "huggingface/tokenizers: The current process just got forked, after parallelism has already been used. Disabling parallelism to avoid deadlocks...\n",
      "To disable this warning, you can either:\n",
      "\t- Avoid using `tokenizers` before the fork if possible\n",
      "\t- Explicitly set the environment variable TOKENIZERS_PARALLELISM=(true | false)\n",
      "huggingface/tokenizers: The current process just got forked, after parallelism has already been used. Disabling parallelism to avoid deadlocks...\n",
      "To disable this warning, you can either:\n",
      "\t- Avoid using `tokenizers` before the fork if possible\n",
      "\t- Explicitly set the environment variable TOKENIZERS_PARALLELISM=(true | false)\n",
      "/tmp/ipykernel_3229947/3384497375.py:41: FutureWarning: `torch.cuda.amp.autocast(args...)` is deprecated. Please use `torch.amp.autocast('cuda', args...)` instead.\n",
      "  with torch.cuda.amp.autocast():  # FP16에서 실행 후 추출\n",
      "Processing batches: 100%|██████████| 1/1 [00:00<00:00,  1.69it/s]\n"
     ]
    },
    {
     "name": "stdout",
     "output_type": "stream",
     "text": [
      "A: 1. 밥류의 요리 만들기:\n",
      "    간장: 20%, 달걀: 5%, 대파: 3%, 올레오레진파프리카: 10%, 흑후추분말: 2%, 정제소금: 2%, 쌀: 40%, 대두단백: 5%, 백설탕: 5%, 볶음참깨: 2%, 숯불양념소스: 3%, 조각가슴살: 10%, 양배추: 5%, 양파: 5%, 옥수수전분: 2%, 냉동마늘: 2%, 당근: 5%, 로스티드치킨엑기스: 2%, 대파: 2%, 참기름: 3%, 매콤직화구이맛소스: 2%, 5리보뉴클레오티드나트륨: 1%, 대두유: 2%, 찹쌀: 10%, 양조간장: 2%\n",
      "\n",
      "    이 배합비는 모든 재료를 혼합하여 맛있는 밥류 요리를 만드는 데 사용할 수 있습니다. 맛을 조절하고 필요에 따라 추가 재료로 맞춤화하세요.\n",
      "1. 밥류의 요리 만들기:\n",
      "    간장: 20%, 달걀: 5%, 대파: 3%, 올레오레진파프리카: 10%, 흑후추분말: 2%, 정제소금: 2%, 쌀: 40%, 대두단백: 5%, 백설탕: 5%, 볶음참깨: 2%, 숯불양념소스: 3%, 조각가슴살: 10%, 양배추: 5%, 양파: 5%, 옥수수전분: 2%, 냉동마늘: 2%, 당근: 5%, 로스티드치킨엑기스: 2%, 대파: 2%, 참기름: 3%, 매콤직화구이맛소스: 2%, 5리보뉴클레오티드나트륨: 1%, 대두유: 2%, 찹쌀: 10%, 양조간장: 2%\n",
      "\n",
      "    이 배합비는 모든 재료를 혼합하여 맛있는 밥류 요리를 만드는 데 사용할 수 있습니다. 맛을 조절하고 필요에 따라 추가 재료로 맞춤화하세요.\n"
     ]
    },
    {
     "name": "stderr",
     "output_type": "stream",
     "text": [
      "/tmp/ipykernel_3229947/1013944166.py:20: DtypeWarning: Columns (20,21,22,23,24,25) have mixed types. Specify dtype option on import or set low_memory=False.\n",
      "  meta_df = pd.read_csv(metadata_file)\n",
      "Processing batches:   0%|          | 0/1 [00:00<?, ?it/s]huggingface/tokenizers: The current process just got forked, after parallelism has already been used. Disabling parallelism to avoid deadlocks...\n",
      "To disable this warning, you can either:\n",
      "\t- Avoid using `tokenizers` before the fork if possible\n",
      "\t- Explicitly set the environment variable TOKENIZERS_PARALLELISM=(true | false)\n",
      "huggingface/tokenizers: The current process just got forked, after parallelism has already been used. Disabling parallelism to avoid deadlocks...\n",
      "To disable this warning, you can either:\n",
      "\t- Avoid using `tokenizers` before the fork if possible\n",
      "\t- Explicitly set the environment variable TOKENIZERS_PARALLELISM=(true | false)\n",
      "huggingface/tokenizers: The current process just got forked, after parallelism has already been used. Disabling parallelism to avoid deadlocks...\n",
      "To disable this warning, you can either:\n",
      "\t- Avoid using `tokenizers` before the fork if possible\n",
      "\t- Explicitly set the environment variable TOKENIZERS_PARALLELISM=(true | false)\n",
      "huggingface/tokenizers: The current process just got forked, after parallelism has already been used. Disabling parallelism to avoid deadlocks...\n",
      "To disable this warning, you can either:\n",
      "\t- Avoid using `tokenizers` before the fork if possible\n",
      "\t- Explicitly set the environment variable TOKENIZERS_PARALLELISM=(true | false)\n",
      "/tmp/ipykernel_3229947/3384497375.py:41: FutureWarning: `torch.cuda.amp.autocast(args...)` is deprecated. Please use `torch.amp.autocast('cuda', args...)` instead.\n",
      "  with torch.cuda.amp.autocast():  # FP16에서 실행 후 추출\n",
      "Processing batches: 100%|██████████| 1/1 [00:00<00:00,  2.36it/s]huggingface/tokenizers: The current process just got forked, after parallelism has already been used. Disabling parallelism to avoid deadlocks...\n",
      "To disable this warning, you can either:\n",
      "\t- Avoid using `tokenizers` before the fork if possible\n",
      "\t- Explicitly set the environment variable TOKENIZERS_PARALLELISM=(true | false)\n",
      "Processing batches: 100%|██████████| 1/1 [00:00<00:00,  1.78it/s]\n"
     ]
    },
    {
     "name": "stdout",
     "output_type": "stream",
     "text": [
      "A: 된장: 20%, 시금치: 15%, 취두부: 10%, 고춧가루: 8%, 쪽파: 6%, 당근: 5%, 홍고추: 4%, 일식데리야끼소스: 3%, 현미: 3%, 백미: 2%, 참기름: 2%, 천일염: 1%, 난: 1%, 찹쌀: 1%, 마리네이드: 1%, 냉동표고버섯: 1%, 검정콩: 1%, 볶음참깨: 1%, 바삭한선불고기: 1%, 두부: 1%, 카놀라유: 1%\n",
      "된장: 20%, 시금치: 15%, 취두부: 10%, 고춧가루: 8%, 쪽파: 6%, 당근: 5%, 홍고추: 4%, 일식데리야끼소스: 3%, 현미: 3%, 백미: 2%, 참기름: 2%, 천일염: 1%, 난: 1%, 찹쌀: 1%, 마리네이드: 1%, 냉동표고버섯: 1%, 검정콩: 1%, 볶음참깨: 1%, 바삭한선불고기: 1%, 두부: 1%, 카놀라유: 1%\n"
     ]
    },
    {
     "name": "stderr",
     "output_type": "stream",
     "text": [
      "/tmp/ipykernel_3229947/1013944166.py:20: DtypeWarning: Columns (20,21,22,23,24,25) have mixed types. Specify dtype option on import or set low_memory=False.\n",
      "  meta_df = pd.read_csv(metadata_file)\n",
      "Processing batches:   0%|          | 0/1 [00:00<?, ?it/s]huggingface/tokenizers: The current process just got forked, after parallelism has already been used. Disabling parallelism to avoid deadlocks...\n",
      "To disable this warning, you can either:\n",
      "\t- Avoid using `tokenizers` before the fork if possible\n",
      "\t- Explicitly set the environment variable TOKENIZERS_PARALLELISM=(true | false)\n",
      "huggingface/tokenizers: The current process just got forked, after parallelism has already been used. Disabling parallelism to avoid deadlocks...\n",
      "To disable this warning, you can either:\n",
      "\t- Avoid using `tokenizers` before the fork if possible\n",
      "\t- Explicitly set the environment variable TOKENIZERS_PARALLELISM=(true | false)\n",
      "huggingface/tokenizers: The current process just got forked, after parallelism has already been used. Disabling parallelism to avoid deadlocks...\n",
      "To disable this warning, you can either:\n",
      "\t- Avoid using `tokenizers` before the fork if possible\n",
      "\t- Explicitly set the environment variable TOKENIZERS_PARALLELISM=(true | false)\n",
      "huggingface/tokenizers: The current process just got forked, after parallelism has already been used. Disabling parallelism to avoid deadlocks...\n",
      "To disable this warning, you can either:\n",
      "\t- Avoid using `tokenizers` before the fork if possible\n",
      "\t- Explicitly set the environment variable TOKENIZERS_PARALLELISM=(true | false)\n",
      "/tmp/ipykernel_3229947/3384497375.py:41: FutureWarning: `torch.cuda.amp.autocast(args...)` is deprecated. Please use `torch.amp.autocast('cuda', args...)` instead.\n",
      "  with torch.cuda.amp.autocast():  # FP16에서 실행 후 추출\n",
      "Processing batches: 100%|██████████| 1/1 [00:00<00:00,  1.80it/s]\n"
     ]
    },
    {
     "name": "stdout",
     "output_type": "stream",
     "text": [
      "참치밥을 만드는 데 도움이 될 간단한 배합비입니다:\n",
      "\n",
      "1. 참치: 30%\n",
      "2. 밥: 45%\n",
      "3. 다시마: 5%\n",
      "4. 김: 10%\n",
      "5. 정제소금: 5%\n",
      "6. 냉동다진마늘: 2%\n",
      "7. 풋고추풍미료p: 1%\n",
      "8. 이온엿물엿: 1%\n",
      "9. 표고무밑국물: 1%\n",
      "10. 5리보뉴클레오티드이나트륨: 1%\n",
      "11. 당근: 2%\n",
      "12. 마늘쫑: 2%\n",
      "13. 절임무: 2%\n",
      "14. 조미김: 2%\n",
      "15. 절임우엉: 2%\n",
      "16. 지리멸치: 2%\n",
      "17. 참기름: 2%\n",
      "18. 대두유: 2%\n",
      "19. 냉동청양고추: 2%\n",
      "20. 두부곤약쌀: 2%\n",
      "21. 양조간장: 2%\n",
      "22. 난, 난, 난, 난, 난, 난 (이것들은 재료가 아니라 요리 과정의 단계입니다)\n",
      "\n",
      "참고로 이 배합비는 기본적인 가이드일 뿐이며 개인의 취향에 따라 조정할 수 있습니다. 또한, 모든 재료를 정확하게 측정하는 것이 중요하며, 이는 최종 제품의 맛과 질감에 영향을 줄 수 있습니다.\n",
      "참치밥을 만드는 데 도움이 될 간단한 배합비입니다:\n",
      "\n",
      "1. 참치: 30%\n",
      "2. 밥: 45%\n",
      "3. 다시마: 5%\n",
      "4. 김: 10%\n",
      "5. 정제소금: 5%\n",
      "6. 냉동다진마늘: 2%\n",
      "7. 풋고추풍미료p: 1%\n",
      "8. 이온엿물엿: 1%\n",
      "9. 표고무밑국물: 1%\n",
      "10. 5리보뉴클레오티드이나트륨: 1%\n",
      "11. 당근: 2%\n",
      "12. 마늘쫑: 2%\n",
      "13. 절임무: 2%\n",
      "14. 조미김: 2%\n",
      "15. 절임우엉: 2%\n",
      "16. 지리멸치: 2%\n",
      "17. 참기름: 2%\n",
      "18. 대두유: 2%\n",
      "19. 냉동청양고추: 2%\n",
      "20. 두부곤약쌀: 2%\n",
      "21. 양조간장: 2%\n",
      "22. 난, 난, 난, 난, 난, 난 (이것들은 재료가 아니라 요리 과정의 단계입니다)\n",
      "\n",
      "참고로 이 배합비는 기본적인 가이드일 뿐이며 개인의 취향에 따라 조정할 수 있습니다. 또한, 모든 재료를 정확하게 측정하는 것이 중요하며, 이는 최종 제품의 맛과 질감에 영향을 줄 수 있습니다.\n"
     ]
    },
    {
     "name": "stderr",
     "output_type": "stream",
     "text": [
      "/tmp/ipykernel_3229947/1013944166.py:20: DtypeWarning: Columns (20,21,22,23,24,25) have mixed types. Specify dtype option on import or set low_memory=False.\n",
      "  meta_df = pd.read_csv(metadata_file)\n",
      "Processing batches:   0%|          | 0/1 [00:00<?, ?it/s]huggingface/tokenizers: The current process just got forked, after parallelism has already been used. Disabling parallelism to avoid deadlocks...\n",
      "To disable this warning, you can either:\n",
      "\t- Avoid using `tokenizers` before the fork if possible\n",
      "\t- Explicitly set the environment variable TOKENIZERS_PARALLELISM=(true | false)\n",
      "huggingface/tokenizers: The current process just got forked, after parallelism has already been used. Disabling parallelism to avoid deadlocks...\n",
      "To disable this warning, you can either:\n",
      "\t- Avoid using `tokenizers` before the fork if possible\n",
      "\t- Explicitly set the environment variable TOKENIZERS_PARALLELISM=(true | false)\n",
      "huggingface/tokenizers: The current process just got forked, after parallelism has already been used. Disabling parallelism to avoid deadlocks...\n",
      "To disable this warning, you can either:\n",
      "\t- Avoid using `tokenizers` before the fork if possible\n",
      "\t- Explicitly set the environment variable TOKENIZERS_PARALLELISM=(true | false)\n",
      "huggingface/tokenizers: The current process just got forked, after parallelism has already been used. Disabling parallelism to avoid deadlocks...\n",
      "To disable this warning, you can either:\n",
      "\t- Avoid using `tokenizers` before the fork if possible\n",
      "\t- Explicitly set the environment variable TOKENIZERS_PARALLELISM=(true | false)\n",
      "/tmp/ipykernel_3229947/3384497375.py:41: FutureWarning: `torch.cuda.amp.autocast(args...)` is deprecated. Please use `torch.amp.autocast('cuda', args...)` instead.\n",
      "  with torch.cuda.amp.autocast():  # FP16에서 실행 후 추출\n",
      "Processing batches: 100%|██████████| 1/1 [00:00<00:00,  1.74it/s]\n"
     ]
    },
    {
     "name": "stdout",
     "output_type": "stream",
     "text": [
      "A: 고추장: 20%, 버섯: 15%, 닭가슴살: 15%, 굴소스p: 10%, 김치: 10%, 청피망: 5%, 깍두기: 5%, 양배추: 5%, 콩발효맛내기진: 5%, 양파: 5%, 맛내기양념: 3%, 볶음김치향미유: 2%, 파프리카추출색소: 1%, 옥수수유: 1%, 홍파프리카: 1%, 치킨스탁p: 1%, 대파: 1%, 참기름: 1%, 핫스파이스분말: 0.5%, 마늘: 0.5%, 정제염: 0.5%, 양조간장: 0.25%, 고추기름1: 0.25%\n",
      "A: 고추장: 20%, 버섯: 15%, 닭가슴살: 15%, 굴소스p: 10%, 김치: 10%, 청피망: 5%, 깍두기: 5%, 양배추: 5%, 콩발효맛내기진: 5%, 양파: 5%, 맛내기양념: 3%, 볶음김치향미유: 2%, 파프리카추출색소: 1%, 옥수수유: 1%, 홍파프리카: 1%, 치킨스탁p: 1%, 대파: 1%, 참기름: 1%, 닭고기: 5%.\n"
     ]
    },
    {
     "name": "stderr",
     "output_type": "stream",
     "text": [
      "/tmp/ipykernel_3229947/1013944166.py:20: DtypeWarning: Columns (26,27) have mixed types. Specify dtype option on import or set low_memory=False.\n",
      "  meta_df = pd.read_csv(metadata_file)\n",
      "Processing batches:   0%|          | 0/1 [00:00<?, ?it/s]huggingface/tokenizers: The current process just got forked, after parallelism has already been used. Disabling parallelism to avoid deadlocks...\n",
      "To disable this warning, you can either:\n",
      "\t- Avoid using `tokenizers` before the fork if possible\n",
      "\t- Explicitly set the environment variable TOKENIZERS_PARALLELISM=(true | false)\n",
      "huggingface/tokenizers: The current process just got forked, after parallelism has already been used. Disabling parallelism to avoid deadlocks...\n",
      "To disable this warning, you can either:\n",
      "\t- Avoid using `tokenizers` before the fork if possible\n",
      "\t- Explicitly set the environment variable TOKENIZERS_PARALLELISM=(true | false)\n",
      "huggingface/tokenizers: The current process just got forked, after parallelism has already been used. Disabling parallelism to avoid deadlocks...\n",
      "To disable this warning, you can either:\n",
      "\t- Avoid using `tokenizers` before the fork if possible\n",
      "\t- Explicitly set the environment variable TOKENIZERS_PARALLELISM=(true | false)\n",
      "huggingface/tokenizers: The current process just got forked, after parallelism has already been used. Disabling parallelism to avoid deadlocks...\n",
      "To disable this warning, you can either:\n",
      "\t- Avoid using `tokenizers` before the fork if possible\n",
      "\t- Explicitly set the environment variable TOKENIZERS_PARALLELISM=(true | false)\n",
      "/tmp/ipykernel_3229947/3384497375.py:41: FutureWarning: `torch.cuda.amp.autocast(args...)` is deprecated. Please use `torch.amp.autocast('cuda', args...)` instead.\n",
      "  with torch.cuda.amp.autocast():  # FP16에서 실행 후 추출\n",
      "Processing batches: 100%|██████████| 1/1 [00:00<00:00,  1.95it/s]\n"
     ]
    },
    {
     "name": "stdout",
     "output_type": "stream",
     "text": [
      "A: 된장: 20%, 감자: 30%, 당면: 15%, 대파: 10%, 맛내기양념: 10%, 곰탕소스올가: 5%, 유기농설탕: 5%, 소고기무항생제: 5%\n",
      "A: 된장: 18%, 감자: 27%, 당면: 13%, 대파: 9%, 맛내기양념: 9%, 곰탕소스올가: 4%, 유기농설탕: 4%, 소고기무항생제: 4%, 잔탄검: 5%.\n"
     ]
    },
    {
     "name": "stderr",
     "output_type": "stream",
     "text": [
      "/tmp/ipykernel_3229947/1013944166.py:20: DtypeWarning: Columns (26,27) have mixed types. Specify dtype option on import or set low_memory=False.\n",
      "  meta_df = pd.read_csv(metadata_file)\n",
      "Processing batches:   0%|          | 0/1 [00:00<?, ?it/s]huggingface/tokenizers: The current process just got forked, after parallelism has already been used. Disabling parallelism to avoid deadlocks...\n",
      "To disable this warning, you can either:\n",
      "\t- Avoid using `tokenizers` before the fork if possible\n",
      "\t- Explicitly set the environment variable TOKENIZERS_PARALLELISM=(true | false)\n",
      "huggingface/tokenizers: The current process just got forked, after parallelism has already been used. Disabling parallelism to avoid deadlocks...\n",
      "To disable this warning, you can either:\n",
      "\t- Avoid using `tokenizers` before the fork if possible\n",
      "\t- Explicitly set the environment variable TOKENIZERS_PARALLELISM=(true | false)\n",
      "huggingface/tokenizers: The current process just got forked, after parallelism has already been used. Disabling parallelism to avoid deadlocks...\n",
      "To disable this warning, you can either:\n",
      "\t- Avoid using `tokenizers` before the fork if possible\n",
      "\t- Explicitly set the environment variable TOKENIZERS_PARALLELISM=(true | false)\n",
      "huggingface/tokenizers: The current process just got forked, after parallelism has already been used. Disabling parallelism to avoid deadlocks...\n",
      "To disable this warning, you can either:\n",
      "\t- Avoid using `tokenizers` before the fork if possible\n",
      "\t- Explicitly set the environment variable TOKENIZERS_PARALLELISM=(true | false)\n",
      "/tmp/ipykernel_3229947/3384497375.py:41: FutureWarning: `torch.cuda.amp.autocast(args...)` is deprecated. Please use `torch.amp.autocast('cuda', args...)` instead.\n",
      "  with torch.cuda.amp.autocast():  # FP16에서 실행 후 추출\n",
      "Processing batches: 100%|██████████| 1/1 [00:00<00:00,  1.93it/s]\n"
     ]
    },
    {
     "name": "stdout",
     "output_type": "stream",
     "text": [
      "A: 소고기: 30%, 무: 25%, 양파: 10%, 대파: 10%, 마늘: 5%, 통후추: 5%, 한우정육: 10%, 한우사골추출액: 10%, 정제수: 10%\n",
      "소고기: 30%, 무: 25%, 양파: 10%, 대파: 10%, 마늘: 5%, 통후추: 5%, 한우정육: 10%, 한우사골추출액: 10%, 정제수: 10%\n"
     ]
    },
    {
     "name": "stderr",
     "output_type": "stream",
     "text": [
      "/tmp/ipykernel_3229947/1013944166.py:20: DtypeWarning: Columns (26,27) have mixed types. Specify dtype option on import or set low_memory=False.\n",
      "  meta_df = pd.read_csv(metadata_file)\n",
      "Processing batches:   0%|          | 0/1 [00:00<?, ?it/s]huggingface/tokenizers: The current process just got forked, after parallelism has already been used. Disabling parallelism to avoid deadlocks...\n",
      "To disable this warning, you can either:\n",
      "\t- Avoid using `tokenizers` before the fork if possible\n",
      "\t- Explicitly set the environment variable TOKENIZERS_PARALLELISM=(true | false)\n",
      "huggingface/tokenizers: The current process just got forked, after parallelism has already been used. Disabling parallelism to avoid deadlocks...\n",
      "To disable this warning, you can either:\n",
      "\t- Avoid using `tokenizers` before the fork if possible\n",
      "\t- Explicitly set the environment variable TOKENIZERS_PARALLELISM=(true | false)\n",
      "huggingface/tokenizers: The current process just got forked, after parallelism has already been used. Disabling parallelism to avoid deadlocks...\n",
      "To disable this warning, you can either:\n",
      "\t- Avoid using `tokenizers` before the fork if possible\n",
      "\t- Explicitly set the environment variable TOKENIZERS_PARALLELISM=(true | false)\n",
      "huggingface/tokenizers: The current process just got forked, after parallelism has already been used. Disabling parallelism to avoid deadlocks...\n",
      "To disable this warning, you can either:\n",
      "\t- Avoid using `tokenizers` before the fork if possible\n",
      "\t- Explicitly set the environment variable TOKENIZERS_PARALLELISM=(true | false)\n",
      "/tmp/ipykernel_3229947/3384497375.py:41: FutureWarning: `torch.cuda.amp.autocast(args...)` is deprecated. Please use `torch.amp.autocast('cuda', args...)` instead.\n",
      "  with torch.cuda.amp.autocast():  # FP16에서 실행 후 추출\n",
      "Processing batches: 100%|██████████| 1/1 [00:00<00:00,  1.89it/s]\n"
     ]
    },
    {
     "name": "stdout",
     "output_type": "stream",
     "text": [
      "조개: 20%, 미역: 30%, 추어농축액: 10%, 아미노베이스ps: 5%, 정제소금: 5%, 하얀설탕: 5%, 백태분말: 5%, 다들림참들깨가루: 5%, 국내산우거지: 5%, 고춧가루: 2.5%, 밀분해추출물: 2.5%, 생강: 2.5%, 정제수: 10%, 혼합야채엑기스: 2.5%, 5리보뉴클레오티드이나트륨: 2.5%, 바른선솜씨좋은시골된장: 2.5%, 맛있는요리애: 2.5%, 대구뼈추출물: 2.5%, 프리파레이션피에이1: 2.5%, 마늘: 2.5%, 사골추출농축액: 2.5%\n",
      "조개: 20%, 미역: 30%, 추어농축액: 10%, 아미노베이스ps: 5%, 정제소금: 5%, 하얀설탕: 5%, 백태분말: 5%, 다들림참들깨가루: 5%, 국내산우거지: 5%, 고춧가루: 2.5%, 밀분해추출물: 2.5%, 생강: 2.5%, 정제수: 10%, 혼합야채엑기스: 2.5%, 5리보뉴클레오티드이나트륨: 2.5%, 바른선솜씨좋은시골된장: 2.5%, 맛있는요리애: 2.5%, 대구뼈추출물: 2.5%, 프리파레이션피에이1: 2.5%, 마늘: 2.5%, 사골추출농축액: 2.5%\n"
     ]
    },
    {
     "name": "stderr",
     "output_type": "stream",
     "text": [
      "/tmp/ipykernel_3229947/1013944166.py:20: DtypeWarning: Columns (26,27) have mixed types. Specify dtype option on import or set low_memory=False.\n",
      "  meta_df = pd.read_csv(metadata_file)\n",
      "Processing batches:   0%|          | 0/1 [00:00<?, ?it/s]huggingface/tokenizers: The current process just got forked, after parallelism has already been used. Disabling parallelism to avoid deadlocks...\n",
      "To disable this warning, you can either:\n",
      "\t- Avoid using `tokenizers` before the fork if possible\n",
      "\t- Explicitly set the environment variable TOKENIZERS_PARALLELISM=(true | false)\n",
      "huggingface/tokenizers: The current process just got forked, after parallelism has already been used. Disabling parallelism to avoid deadlocks...\n",
      "To disable this warning, you can either:\n",
      "\t- Avoid using `tokenizers` before the fork if possible\n",
      "\t- Explicitly set the environment variable TOKENIZERS_PARALLELISM=(true | false)\n",
      "huggingface/tokenizers: The current process just got forked, after parallelism has already been used. Disabling parallelism to avoid deadlocks...\n",
      "To disable this warning, you can either:\n",
      "\t- Avoid using `tokenizers` before the fork if possible\n",
      "\t- Explicitly set the environment variable TOKENIZERS_PARALLELISM=(true | false)\n",
      "huggingface/tokenizers: The current process just got forked, after parallelism has already been used. Disabling parallelism to avoid deadlocks...\n",
      "To disable this warning, you can either:\n",
      "\t- Avoid using `tokenizers` before the fork if possible\n",
      "\t- Explicitly set the environment variable TOKENIZERS_PARALLELISM=(true | false)\n",
      "/tmp/ipykernel_3229947/3384497375.py:41: FutureWarning: `torch.cuda.amp.autocast(args...)` is deprecated. Please use `torch.amp.autocast('cuda', args...)` instead.\n",
      "  with torch.cuda.amp.autocast():  # FP16에서 실행 후 추출\n",
      "Processing batches: 100%|██████████| 1/1 [00:00<00:00,  1.88it/s]\n"
     ]
    },
    {
     "name": "stdout",
     "output_type": "stream",
     "text": [
      "A: 고추장: 20%, 두부: 30%, 대파: 15%, 한식간장원액: 10%, 정백당: 10%, 흑후추분말: 5%, 아미노베이스ps: 5%, 아로마일드: 5%, 토란대: 2%, 소고기: 2%, 고춧가루: 2%, 감칠맛베이스: 2%, 쇠고기육수베이스: 2%, 비프엑기스분말: 2%, 정제수: 10%, 양지엑기스: 5%, 무추출물분말: 3%, 육개장볶음다대기: 2%, 마늘추출농축액p: 2%, 쇠고기추출분말p: 2%, 파프리카추출색소: 1%, 막사롬셀렉트파우다효모추출물: 1%, 양파엑기스j: 1%, 펩리치고: 1%, 대파: 1%, 육개장다대기: 1%, 비프복합베이스1호: 1%, 정제염: 1%, 핵산아이지: 1%, 고추기름1: 1%, 사골추출농축액: 1%\n",
      "고추장: 20%, 두부: 30%, 대파: 15%, 한식간장원액: 10%, 정백당: 10%, 흑후추분말: 5%, 아미노베이스ps: 5%, 아로마일드: 5%, 토란대: 2%, 소고기: 2%, 고춧가루: 2%, 감칠맛베이스: 2%, 쇠고기육수베이스: 2%, 비프엑기스분말: 2%, 정제수: 10%, 양지엑기스: 5%, 무추출물분말: 3%, 육개장볶음다대기: 2%, 마늘추출농축액p: 2%, 쇠고기추출분말p: 2%, 파프리카추출색소: 1%, 막사롬셀렉트파우다효모추출물: 1%, 양파엑기스j: 1%, 펩리치고: 1%, 대파: 1%, 육개장다대기: 1%, 비프복합베이스1호: 1%, 정제염: 1%, 핵산아이지: 1%, 고추기름1: 1%, 사골추출농축액: 1%\n"
     ]
    },
    {
     "name": "stderr",
     "output_type": "stream",
     "text": [
      "/tmp/ipykernel_3229947/1013944166.py:20: DtypeWarning: Columns (26,27) have mixed types. Specify dtype option on import or set low_memory=False.\n",
      "  meta_df = pd.read_csv(metadata_file)\n",
      "Processing batches:   0%|          | 0/1 [00:00<?, ?it/s]huggingface/tokenizers: The current process just got forked, after parallelism has already been used. Disabling parallelism to avoid deadlocks...\n",
      "To disable this warning, you can either:\n",
      "\t- Avoid using `tokenizers` before the fork if possible\n",
      "\t- Explicitly set the environment variable TOKENIZERS_PARALLELISM=(true | false)\n",
      "huggingface/tokenizers: The current process just got forked, after parallelism has already been used. Disabling parallelism to avoid deadlocks...\n",
      "To disable this warning, you can either:\n",
      "\t- Avoid using `tokenizers` before the fork if possible\n",
      "\t- Explicitly set the environment variable TOKENIZERS_PARALLELISM=(true | false)\n",
      "huggingface/tokenizers: The current process just got forked, after parallelism has already been used. Disabling parallelism to avoid deadlocks...\n",
      "To disable this warning, you can either:\n",
      "\t- Avoid using `tokenizers` before the fork if possible\n",
      "\t- Explicitly set the environment variable TOKENIZERS_PARALLELISM=(true | false)\n",
      "huggingface/tokenizers: The current process just got forked, after parallelism has already been used. Disabling parallelism to avoid deadlocks...\n",
      "To disable this warning, you can either:\n",
      "\t- Avoid using `tokenizers` before the fork if possible\n",
      "\t- Explicitly set the environment variable TOKENIZERS_PARALLELISM=(true | false)\n",
      "/tmp/ipykernel_3229947/3384497375.py:41: FutureWarning: `torch.cuda.amp.autocast(args...)` is deprecated. Please use `torch.amp.autocast('cuda', args...)` instead.\n",
      "  with torch.cuda.amp.autocast():  # FP16에서 실행 후 추출\n",
      "Processing batches: 100%|██████████| 1/1 [00:00<00:00,  1.77it/s]\n"
     ]
    },
    {
     "name": "stdout",
     "output_type": "stream",
     "text": [
      "멸치: 20%, 다시마: 15%, 무: 10%, 사태조미분말: 10%, 대파엑기스: 5%, 아미노베이스ps: 5%, 우지: 5%, 고사리: 5%, 닭가슴살: 5%, 고춧가루: 3%, 보일드치킨p: 3%, 생강: 2%, 정제수: 10%, 치킨오일: 5%, 양파: 5%, 5리보뉴클레오티드이나트륨: 2%, 무추출물분말: 2%, 마늘추출농축액p: 2%, 숙주나물: 3%, 육개장맛베이스: 2%, 대파: 2%, 소고기밑국물분말: 1%, 참기름: 1%, 대두유: 1%, 마늘: 1%\n",
      "멸치: 20%, 다시마: 15%, 무: 10%, 사태조미분말: 10%, 대파엑기스: 5%, 아미노베이스ps: 5%, 우지: 5%, 고사리: 5%, 닭가슴살: 5%, 고춧가루: 3%, 보일드치킨p: 3%, 생강: 2%, 정제수: 10%, 치킨오일: 5%, 양파: 5%, 5리보뉴클레오티드이나트륨: 2%, 무추출물분말: 2%, 마늘추출농축액p: 2%, 숙주나물: 3%, 육개장맛베이스: 2%, 대파: 2%, 소고기밑국물분말: 1%, 참기름: 1%, 대두유: 1%, 마늘: 1%\n"
     ]
    },
    {
     "name": "stderr",
     "output_type": "stream",
     "text": [
      "/tmp/ipykernel_3229947/1013944166.py:20: DtypeWarning: Columns (15,16,17,18,19,20,21,22,23,24,25,26,27,28,29,30,31,32) have mixed types. Specify dtype option on import or set low_memory=False.\n",
      "  meta_df = pd.read_csv(metadata_file)\n",
      "Processing batches:   0%|          | 0/1 [00:00<?, ?it/s]huggingface/tokenizers: The current process just got forked, after parallelism has already been used. Disabling parallelism to avoid deadlocks...\n",
      "To disable this warning, you can either:\n",
      "\t- Avoid using `tokenizers` before the fork if possible\n",
      "\t- Explicitly set the environment variable TOKENIZERS_PARALLELISM=(true | false)\n",
      "huggingface/tokenizers: The current process just got forked, after parallelism has already been used. Disabling parallelism to avoid deadlocks...\n",
      "To disable this warning, you can either:\n",
      "\t- Avoid using `tokenizers` before the fork if possible\n",
      "\t- Explicitly set the environment variable TOKENIZERS_PARALLELISM=(true | false)\n",
      "huggingface/tokenizers: The current process just got forked, after parallelism has already been used. Disabling parallelism to avoid deadlocks...\n",
      "To disable this warning, you can either:\n",
      "\t- Avoid using `tokenizers` before the fork if possible\n",
      "\t- Explicitly set the environment variable TOKENIZERS_PARALLELISM=(true | false)\n",
      "huggingface/tokenizers: The current process just got forked, after parallelism has already been used. Disabling parallelism to avoid deadlocks...\n",
      "To disable this warning, you can either:\n",
      "\t- Avoid using `tokenizers` before the fork if possible\n",
      "\t- Explicitly set the environment variable TOKENIZERS_PARALLELISM=(true | false)\n",
      "/tmp/ipykernel_3229947/3384497375.py:41: FutureWarning: `torch.cuda.amp.autocast(args...)` is deprecated. Please use `torch.amp.autocast('cuda', args...)` instead.\n",
      "  with torch.cuda.amp.autocast():  # FP16에서 실행 후 추출\n",
      "Processing batches: 100%|██████████| 1/1 [00:00<00:00,  1.64it/s]\n"
     ]
    },
    {
     "name": "stdout",
     "output_type": "stream",
     "text": [
      "A: 감자: 30%, 당근: 25%, 양파: 15%, 시금치사랑: 10%, 볶음렌틸콩: 10%, 해바라기유: 5%, 비정제사탕수수당: 5%\n",
      "\n",
      "참고: 농산물의 요리 배합비는 다양한 재료와 선호도에 따라 달라질 수 있습니다. 이 배합비는 일반적인 가이드라인이며, 맛과 질감을 향상시키기 위해 조정할 수 있습니다.\n",
      "감자: 30%, 당근: 25%, 양파: 15%, 시금치사랑: 10%, 볶음렌틸콩: 10%, 해바라기유: 5%, 비정제사탕수수당: 5%\n",
      "\n",
      "참고: 농산물의 요리 배합비는 다양한 재료와 선호도에 따라 달라질 수 있습니다. 이 배합비는 일반적인 가이드라인이며, 맛과 질감을 향상시키기 위해 조정할 수 있습니다.\n"
     ]
    },
    {
     "name": "stderr",
     "output_type": "stream",
     "text": [
      "/tmp/ipykernel_3229947/1013944166.py:20: DtypeWarning: Columns (15,16,17,18,19,20,21,22,23,24,25,26,27,28,29,30,31,32) have mixed types. Specify dtype option on import or set low_memory=False.\n",
      "  meta_df = pd.read_csv(metadata_file)\n",
      "Processing batches:   0%|          | 0/1 [00:00<?, ?it/s]huggingface/tokenizers: The current process just got forked, after parallelism has already been used. Disabling parallelism to avoid deadlocks...\n",
      "To disable this warning, you can either:\n",
      "\t- Avoid using `tokenizers` before the fork if possible\n",
      "\t- Explicitly set the environment variable TOKENIZERS_PARALLELISM=(true | false)\n",
      "huggingface/tokenizers: The current process just got forked, after parallelism has already been used. Disabling parallelism to avoid deadlocks...\n",
      "To disable this warning, you can either:\n",
      "\t- Avoid using `tokenizers` before the fork if possible\n",
      "\t- Explicitly set the environment variable TOKENIZERS_PARALLELISM=(true | false)\n",
      "huggingface/tokenizers: The current process just got forked, after parallelism has already been used. Disabling parallelism to avoid deadlocks...\n",
      "To disable this warning, you can either:\n",
      "\t- Avoid using `tokenizers` before the fork if possible\n",
      "\t- Explicitly set the environment variable TOKENIZERS_PARALLELISM=(true | false)\n",
      "huggingface/tokenizers: The current process just got forked, after parallelism has already been used. Disabling parallelism to avoid deadlocks...\n",
      "To disable this warning, you can either:\n",
      "\t- Avoid using `tokenizers` before the fork if possible\n",
      "\t- Explicitly set the environment variable TOKENIZERS_PARALLELISM=(true | false)\n",
      "/tmp/ipykernel_3229947/3384497375.py:41: FutureWarning: `torch.cuda.amp.autocast(args...)` is deprecated. Please use `torch.amp.autocast('cuda', args...)` instead.\n",
      "  with torch.cuda.amp.autocast():  # FP16에서 실행 후 추출\n",
      "Processing batches: 100%|██████████| 1/1 [00:00<00:00,  2.35it/s]huggingface/tokenizers: The current process just got forked, after parallelism has already been used. Disabling parallelism to avoid deadlocks...\n",
      "To disable this warning, you can either:\n",
      "\t- Avoid using `tokenizers` before the fork if possible\n",
      "\t- Explicitly set the environment variable TOKENIZERS_PARALLELISM=(true | false)\n",
      "Processing batches: 100%|██████████| 1/1 [00:00<00:00,  1.86it/s]\n"
     ]
    },
    {
     "name": "stdout",
     "output_type": "stream",
     "text": [
      "A: 상추: 30%, 오이: 25%, 고추장: 15%, 비타젠S: 10%, 정백당: 10%, 포도당: 5%, 염화칼슘: 5%\n",
      "상추: 30%, 오이: 25%, 고추장: 15%, 비타젠S: 10%, 정백당: 10%, 포도당: 5%, 염화칼슘: 5%\n"
     ]
    },
    {
     "name": "stderr",
     "output_type": "stream",
     "text": [
      "/tmp/ipykernel_3229947/1013944166.py:20: DtypeWarning: Columns (15,16,17,18,19,20,21,22,23,24,25,26,27,28,29,30,31,32) have mixed types. Specify dtype option on import or set low_memory=False.\n",
      "  meta_df = pd.read_csv(metadata_file)\n",
      "Processing batches:   0%|          | 0/1 [00:00<?, ?it/s]huggingface/tokenizers: The current process just got forked, after parallelism has already been used. Disabling parallelism to avoid deadlocks...\n",
      "To disable this warning, you can either:\n",
      "\t- Avoid using `tokenizers` before the fork if possible\n",
      "\t- Explicitly set the environment variable TOKENIZERS_PARALLELISM=(true | false)\n",
      "huggingface/tokenizers: The current process just got forked, after parallelism has already been used. Disabling parallelism to avoid deadlocks...\n",
      "To disable this warning, you can either:\n",
      "\t- Avoid using `tokenizers` before the fork if possible\n",
      "\t- Explicitly set the environment variable TOKENIZERS_PARALLELISM=(true | false)\n",
      "huggingface/tokenizers: The current process just got forked, after parallelism has already been used. Disabling parallelism to avoid deadlocks...\n",
      "To disable this warning, you can either:\n",
      "\t- Avoid using `tokenizers` before the fork if possible\n",
      "\t- Explicitly set the environment variable TOKENIZERS_PARALLELISM=(true | false)\n",
      "huggingface/tokenizers: The current process just got forked, after parallelism has already been used. Disabling parallelism to avoid deadlocks...\n",
      "To disable this warning, you can either:\n",
      "\t- Avoid using `tokenizers` before the fork if possible\n",
      "\t- Explicitly set the environment variable TOKENIZERS_PARALLELISM=(true | false)\n",
      "/tmp/ipykernel_3229947/3384497375.py:41: FutureWarning: `torch.cuda.amp.autocast(args...)` is deprecated. Please use `torch.amp.autocast('cuda', args...)` instead.\n",
      "  with torch.cuda.amp.autocast():  # FP16에서 실행 후 추출\n",
      "Processing batches: 100%|██████████| 1/1 [00:00<00:00,  1.63it/s]\n"
     ]
    },
    {
     "name": "stdout",
     "output_type": "stream",
     "text": [
      "A: 배추: 50%, 마늘: 10%, 고춧가루: 10%, 양파: 10%, 무: 10%, 오이: 10%, 홍고추: 5%, 매실농축액: 5%, 발효식초: 5%, 양조간장: 3%, 구연산: 2%, 정제수: 10%\n",
      "배추: 50%, 마늘: 10%, 고춧가루: 10%, 양파: 10%, 무: 10%, 오이: 10%, 홍고추: 5%, 매실농축액: 5%, 발효식초: 5%, 양조간장: 3%, 구연산: 2%, 정제수: 10%\n"
     ]
    },
    {
     "name": "stderr",
     "output_type": "stream",
     "text": [
      "/tmp/ipykernel_3229947/1013944166.py:20: DtypeWarning: Columns (15,16,17,18,19,20,21,22,23,24,25,26,27,28,29,30,31,32) have mixed types. Specify dtype option on import or set low_memory=False.\n",
      "  meta_df = pd.read_csv(metadata_file)\n",
      "Processing batches:   0%|          | 0/1 [00:00<?, ?it/s]huggingface/tokenizers: The current process just got forked, after parallelism has already been used. Disabling parallelism to avoid deadlocks...\n",
      "To disable this warning, you can either:\n",
      "\t- Avoid using `tokenizers` before the fork if possible\n",
      "\t- Explicitly set the environment variable TOKENIZERS_PARALLELISM=(true | false)\n",
      "huggingface/tokenizers: The current process just got forked, after parallelism has already been used. Disabling parallelism to avoid deadlocks...\n",
      "To disable this warning, you can either:\n",
      "\t- Avoid using `tokenizers` before the fork if possible\n",
      "\t- Explicitly set the environment variable TOKENIZERS_PARALLELISM=(true | false)\n",
      "huggingface/tokenizers: The current process just got forked, after parallelism has already been used. Disabling parallelism to avoid deadlocks...\n",
      "To disable this warning, you can either:\n",
      "\t- Avoid using `tokenizers` before the fork if possible\n",
      "\t- Explicitly set the environment variable TOKENIZERS_PARALLELISM=(true | false)\n",
      "huggingface/tokenizers: The current process just got forked, after parallelism has already been used. Disabling parallelism to avoid deadlocks...\n",
      "To disable this warning, you can either:\n",
      "\t- Avoid using `tokenizers` before the fork if possible\n",
      "\t- Explicitly set the environment variable TOKENIZERS_PARALLELISM=(true | false)\n",
      "/tmp/ipykernel_3229947/3384497375.py:41: FutureWarning: `torch.cuda.amp.autocast(args...)` is deprecated. Please use `torch.amp.autocast('cuda', args...)` instead.\n",
      "  with torch.cuda.amp.autocast():  # FP16에서 실행 후 추출\n",
      "Processing batches: 100%|██████████| 1/1 [00:00<00:00,  1.80it/s]\n"
     ]
    },
    {
     "name": "stdout",
     "output_type": "stream",
     "text": [
      "A: 시금치: 50%, 간장: 20%, 깨: 10%, 카라멜색소: 5%, 볶은참깨: 5%, 폴리글리시톨시럽: 5%, 미향: 3%, 5리보뉴클레오티드이나트륨: 2%, 진간장: 2%, 지미베이스b: 1%, 메타인산나트륨: 1%, 물엿: 1%, 소브산칼륨: 1%, 변성전분아세틸아디핀산이전분: 0.5%, 불고기간장: 0.5%, l글루탐산나트륨: 0.25%, 글리신: 0.25%, 기타과당: 0.25%\n",
      "시금치: 50%, 간장: 20%, 깨: 10%, 카라멜색소: 5%, 볶은참깨: 5%, 폴리글리시톨시럽: 5%, 미향: 3%, 5리보뉴클레오티드이나트륨: 2%, 진간장: 2%, 지미베이스b: 1%, 메타인산나트륨: 1%, 물엿: 1%, 소브산칼륨: 1%, 변성전분아세틸아디핀산이전분: 0.5%, 불고기간장: 0.5%, l글루탐산나트륨: 0.25%, 글리신: 0.25%, 기타과당: 0.25%\n"
     ]
    },
    {
     "name": "stderr",
     "output_type": "stream",
     "text": [
      "/tmp/ipykernel_3229947/1013944166.py:20: DtypeWarning: Columns (15,16,17,18,19,20,21,22,23,24,25,26,27,28,29,30,31,32) have mixed types. Specify dtype option on import or set low_memory=False.\n",
      "  meta_df = pd.read_csv(metadata_file)\n",
      "Processing batches:   0%|          | 0/1 [00:00<?, ?it/s]huggingface/tokenizers: The current process just got forked, after parallelism has already been used. Disabling parallelism to avoid deadlocks...\n",
      "To disable this warning, you can either:\n",
      "\t- Avoid using `tokenizers` before the fork if possible\n",
      "\t- Explicitly set the environment variable TOKENIZERS_PARALLELISM=(true | false)\n",
      "huggingface/tokenizers: The current process just got forked, after parallelism has already been used. Disabling parallelism to avoid deadlocks...\n",
      "To disable this warning, you can either:\n",
      "\t- Avoid using `tokenizers` before the fork if possible\n",
      "\t- Explicitly set the environment variable TOKENIZERS_PARALLELISM=(true | false)\n",
      "huggingface/tokenizers: The current process just got forked, after parallelism has already been used. Disabling parallelism to avoid deadlocks...\n",
      "To disable this warning, you can either:\n",
      "\t- Avoid using `tokenizers` before the fork if possible\n",
      "\t- Explicitly set the environment variable TOKENIZERS_PARALLELISM=(true | false)\n",
      "huggingface/tokenizers: The current process just got forked, after parallelism has already been used. Disabling parallelism to avoid deadlocks...\n",
      "To disable this warning, you can either:\n",
      "\t- Avoid using `tokenizers` before the fork if possible\n",
      "\t- Explicitly set the environment variable TOKENIZERS_PARALLELISM=(true | false)\n",
      "/tmp/ipykernel_3229947/3384497375.py:41: FutureWarning: `torch.cuda.amp.autocast(args...)` is deprecated. Please use `torch.amp.autocast('cuda', args...)` instead.\n",
      "  with torch.cuda.amp.autocast():  # FP16에서 실행 후 추출\n",
      "Processing batches: 100%|██████████| 1/1 [00:00<00:00,  1.70it/s]\n"
     ]
    },
    {
     "name": "stdout",
     "output_type": "stream",
     "text": [
      "A: 무: 50%, 고추가루: 10%, 설탕: 10%, 젖산칼슘: 5%, 젖산: 5%, 과일야채발효당: 5%, 비타젠s: 2%, 정백당: 2%, 서양고추냉이분말: 2%, 와사비분: 2%, 효소처리스테비아: 1%, 농축레몬과즙: 1%, 고과당: 1%, 폴리인산나트륨: 1%, 발효식초: 1%, 가루녹차: 1%, 정제소금: 1%, 구연산: 1%, 정제수: 5%\n",
      "무: 50%, 고추가루: 10%, 설탕: 10%, 젖산칼슘: 5%, 젖산: 5%, 과일야채발효당: 5%, 비타젠s: 2%, 정백당: 2%, 서양고추냉이분말: 2%, 와사비분: 2%, 효소처리스테비아: 1%, 농축레몬과즙: 1%, 고과당: 1%, 폴리인산나트륨: 1%, 발효식초: 1%, 가루녹차: 1%, 정제소금: 1%, 구연산: 1%, 정제수: 5%\n"
     ]
    },
    {
     "name": "stderr",
     "output_type": "stream",
     "text": [
      "/tmp/ipykernel_3229947/1013944166.py:20: DtypeWarning: Columns (25,26,27,28,29,30,31,32,33,34,35,36,37,38,39) have mixed types. Specify dtype option on import or set low_memory=False.\n",
      "  meta_df = pd.read_csv(metadata_file)\n",
      "Processing batches:   0%|          | 0/1 [00:00<?, ?it/s]huggingface/tokenizers: The current process just got forked, after parallelism has already been used. Disabling parallelism to avoid deadlocks...\n",
      "To disable this warning, you can either:\n",
      "\t- Avoid using `tokenizers` before the fork if possible\n",
      "\t- Explicitly set the environment variable TOKENIZERS_PARALLELISM=(true | false)\n",
      "huggingface/tokenizers: The current process just got forked, after parallelism has already been used. Disabling parallelism to avoid deadlocks...\n",
      "To disable this warning, you can either:\n",
      "\t- Avoid using `tokenizers` before the fork if possible\n",
      "\t- Explicitly set the environment variable TOKENIZERS_PARALLELISM=(true | false)\n",
      "huggingface/tokenizers: The current process just got forked, after parallelism has already been used. Disabling parallelism to avoid deadlocks...\n",
      "To disable this warning, you can either:\n",
      "\t- Avoid using `tokenizers` before the fork if possible\n",
      "\t- Explicitly set the environment variable TOKENIZERS_PARALLELISM=(true | false)\n",
      "huggingface/tokenizers: The current process just got forked, after parallelism has already been used. Disabling parallelism to avoid deadlocks...\n",
      "To disable this warning, you can either:\n",
      "\t- Avoid using `tokenizers` before the fork if possible\n",
      "\t- Explicitly set the environment variable TOKENIZERS_PARALLELISM=(true | false)\n",
      "/tmp/ipykernel_3229947/3384497375.py:41: FutureWarning: `torch.cuda.amp.autocast(args...)` is deprecated. Please use `torch.amp.autocast('cuda', args...)` instead.\n",
      "  with torch.cuda.amp.autocast():  # FP16에서 실행 후 추출\n",
      "Processing batches: 100%|██████████| 1/1 [00:00<00:00,  1.85it/s]\n"
     ]
    },
    {
     "name": "stdout",
     "output_type": "stream",
     "text": [
      "두부 요리용 배합비: 두부: 50%, 대두유1: 20%, 간장: 10%, 파: 10%, 고춧가루: 5%, 볶음참깨: 5%\n",
      "두부 요리용 배합비: 두부: 50%, 대두유1: 20%, 간장: 10%, 파: 10%, 고춧가루: 5%, 볶음참깨: 5%\n"
     ]
    },
    {
     "name": "stderr",
     "output_type": "stream",
     "text": [
      "/tmp/ipykernel_3229947/1013944166.py:20: DtypeWarning: Columns (25,26,27,28,29,30,31,32,33,34,35,36,37,38,39) have mixed types. Specify dtype option on import or set low_memory=False.\n",
      "  meta_df = pd.read_csv(metadata_file)\n",
      "Processing batches:   0%|          | 0/1 [00:00<?, ?it/s]huggingface/tokenizers: The current process just got forked, after parallelism has already been used. Disabling parallelism to avoid deadlocks...\n",
      "To disable this warning, you can either:\n",
      "\t- Avoid using `tokenizers` before the fork if possible\n",
      "\t- Explicitly set the environment variable TOKENIZERS_PARALLELISM=(true | false)\n",
      "huggingface/tokenizers: The current process just got forked, after parallelism has already been used. Disabling parallelism to avoid deadlocks...\n",
      "To disable this warning, you can either:\n",
      "\t- Avoid using `tokenizers` before the fork if possible\n",
      "\t- Explicitly set the environment variable TOKENIZERS_PARALLELISM=(true | false)\n",
      "huggingface/tokenizers: The current process just got forked, after parallelism has already been used. Disabling parallelism to avoid deadlocks...\n",
      "To disable this warning, you can either:\n",
      "\t- Avoid using `tokenizers` before the fork if possible\n",
      "\t- Explicitly set the environment variable TOKENIZERS_PARALLELISM=(true | false)\n",
      "huggingface/tokenizers: The current process just got forked, after parallelism has already been used. Disabling parallelism to avoid deadlocks...\n",
      "To disable this warning, you can either:\n",
      "\t- Avoid using `tokenizers` before the fork if possible\n",
      "\t- Explicitly set the environment variable TOKENIZERS_PARALLELISM=(true | false)\n",
      "/tmp/ipykernel_3229947/3384497375.py:41: FutureWarning: `torch.cuda.amp.autocast(args...)` is deprecated. Please use `torch.amp.autocast('cuda', args...)` instead.\n",
      "  with torch.cuda.amp.autocast():  # FP16에서 실행 후 추출\n",
      "Processing batches: 100%|██████████| 1/1 [00:00<00:00,  1.99it/s]\n"
     ]
    },
    {
     "name": "stdout",
     "output_type": "stream",
     "text": [
      "두부 요리용 배합비:\n",
      "\n",
      "1. 메인 재료: 두부 50%, 김치 20%, 돼지고기 10%\n",
      "2. 추가 재료: 고단백두부 10%, 대두유 5%, 정제소금 3%, 두부크럼블 2%, 쌀 2%, 대두단백 2%, 백설탕 1%, 고춧가루 1%, 볶음참깨 1%, 남도식맛김치 1%, 표고무밑국물 1%, 5리보뉴클레오티드이나트륨 0.5%, 옥수수전분 0.5%, 당근 2%, 마늘쫑 1%, 절임무 1%, 조미김 1%, 절임우엉 1%, 참기름 1%, 대두유 1%, 두부곤약쌀 1%, 양조간장 1%\n",
      "\n",
      "참고: 나머지 재료들은 이미 메인 재료나 추가 재료에 포함되어 있습니다.\n",
      "두부: 5%, 김치: 10%, 돼지고기: 10%.\n"
     ]
    },
    {
     "name": "stderr",
     "output_type": "stream",
     "text": [
      "/tmp/ipykernel_3229947/1013944166.py:20: DtypeWarning: Columns (25,26,27,28,29,30,31,32,33,34,35,36,37,38,39) have mixed types. Specify dtype option on import or set low_memory=False.\n",
      "  meta_df = pd.read_csv(metadata_file)\n",
      "Processing batches:   0%|          | 0/1 [00:00<?, ?it/s]huggingface/tokenizers: The current process just got forked, after parallelism has already been used. Disabling parallelism to avoid deadlocks...\n",
      "To disable this warning, you can either:\n",
      "\t- Avoid using `tokenizers` before the fork if possible\n",
      "\t- Explicitly set the environment variable TOKENIZERS_PARALLELISM=(true | false)\n",
      "huggingface/tokenizers: The current process just got forked, after parallelism has already been used. Disabling parallelism to avoid deadlocks...\n",
      "To disable this warning, you can either:\n",
      "\t- Avoid using `tokenizers` before the fork if possible\n",
      "\t- Explicitly set the environment variable TOKENIZERS_PARALLELISM=(true | false)\n",
      "huggingface/tokenizers: The current process just got forked, after parallelism has already been used. Disabling parallelism to avoid deadlocks...\n",
      "To disable this warning, you can either:\n",
      "\t- Avoid using `tokenizers` before the fork if possible\n",
      "\t- Explicitly set the environment variable TOKENIZERS_PARALLELISM=(true | false)\n",
      "huggingface/tokenizers: The current process just got forked, after parallelism has already been used. Disabling parallelism to avoid deadlocks...\n",
      "To disable this warning, you can either:\n",
      "\t- Avoid using `tokenizers` before the fork if possible\n",
      "\t- Explicitly set the environment variable TOKENIZERS_PARALLELISM=(true | false)\n",
      "/tmp/ipykernel_3229947/3384497375.py:41: FutureWarning: `torch.cuda.amp.autocast(args...)` is deprecated. Please use `torch.amp.autocast('cuda', args...)` instead.\n",
      "  with torch.cuda.amp.autocast():  # FP16에서 실행 후 추출\n",
      "Processing batches: 100%|██████████| 1/1 [00:00<00:00,  2.38it/s]TOKENIZERS_PARALLELISM=(true | false)\n",
      "Processing batches: 100%|██████████| 1/1 [00:00<00:00,  1.93it/s]\n"
     ]
    },
    {
     "name": "stdout",
     "output_type": "stream",
     "text": [
      "두부 요리용 배합비: 두부: 50%, 전분두부: 20%, 아몬드분태: 10%, 참기름: 10%, 깨: 5%, 대두유: 5%\n",
      "두부 요리용 배합비: 두부: 50%, 전분두부: 20%, 아몬드분태: 10%, 참기름: 10%, 깨: 5%, 대두유: 5%\n"
     ]
    },
    {
     "name": "stderr",
     "output_type": "stream",
     "text": [
      "/tmp/ipykernel_3229947/1013944166.py:20: DtypeWarning: Columns (25,26,27,28,29,30,31,32,33,34,35,36,37,38,39) have mixed types. Specify dtype option on import or set low_memory=False.\n",
      "  meta_df = pd.read_csv(metadata_file)\n",
      "Processing batches:   0%|          | 0/1 [00:00<?, ?it/s]huggingface/tokenizers: The current process just got forked, after parallelism has already been used. Disabling parallelism to avoid deadlocks...\n",
      "To disable this warning, you can either:\n",
      "\t- Avoid using `tokenizers` before the fork if possible\n",
      "\t- Explicitly set the environment variable TOKENIZERS_PARALLELISM=(true | false)\n",
      "huggingface/tokenizers: The current process just got forked, after parallelism has already been used. Disabling parallelism to avoid deadlocks...\n",
      "To disable this warning, you can either:\n",
      "\t- Avoid using `tokenizers` before the fork if possible\n",
      "\t- Explicitly set the environment variable TOKENIZERS_PARALLELISM=(true | false)\n",
      "huggingface/tokenizers: The current process just got forked, after parallelism has already been used. Disabling parallelism to avoid deadlocks...\n",
      "To disable this warning, you can either:\n",
      "\t- Avoid using `tokenizers` before the fork if possible\n",
      "\t- Explicitly set the environment variable TOKENIZERS_PARALLELISM=(true | false)\n",
      "huggingface/tokenizers: The current process just got forked, after parallelism has already been used. Disabling parallelism to avoid deadlocks...\n",
      "To disable this warning, you can either:\n",
      "\t- Avoid using `tokenizers` before the fork if possible\n",
      "\t- Explicitly set the environment variable TOKENIZERS_PARALLELISM=(true | false)\n",
      "/tmp/ipykernel_3229947/3384497375.py:41: FutureWarning: `torch.cuda.amp.autocast(args...)` is deprecated. Please use `torch.amp.autocast('cuda', args...)` instead.\n",
      "  with torch.cuda.amp.autocast():  # FP16에서 실행 후 추출\n",
      "Processing batches: 100%|██████████| 1/1 [00:00<00:00,  1.99it/s]\n"
     ]
    },
    {
     "name": "stdout",
     "output_type": "stream",
     "text": [
      "두부 요리용 배합비:\n",
      "\n",
      "1. 메인 재료: 두부 50%, 된장 20%\n",
      "2. 추가 재료: 고단백두부 10%, 대두유 5%, 정제소금 5%, 두부크럼블 5%, 쌀 5%, 대두단백 5%, 백설탕 3%, 고춧가루 2%, 볶음참깨 2%, 남도식맛김치 2%, 표고무밑국물 1%, 5리보뉴클레오티드이나트륨 1%, 옥수수전분 1%, 당근 1%, 마늘쫑 1%, 절임무 1%, 조미김 1%, 절임우엉 1%, 참기름 1%, 대두유 1%, 두부곤약쌀 1%, 양조간장 0.5%\n",
      "\n",
      "참고: 나머지 재료들은 언급되지 않았으므로, 이 배합비에는 포함되지 않았습니다.\n",
      "두부: 5%, 된장: 3%, 버섯: 2%.\n"
     ]
    },
    {
     "name": "stderr",
     "output_type": "stream",
     "text": [
      "/tmp/ipykernel_3229947/1013944166.py:20: DtypeWarning: Columns (25,26,27,28,29,30,31,32,33,34,35,36,37,38,39) have mixed types. Specify dtype option on import or set low_memory=False.\n",
      "  meta_df = pd.read_csv(metadata_file)\n",
      "Processing batches:   0%|          | 0/1 [00:00<?, ?it/s]huggingface/tokenizers: The current process just got forked, after parallelism has already been used. Disabling parallelism to avoid deadlocks...\n",
      "To disable this warning, you can either:\n",
      "\t- Avoid using `tokenizers` before the fork if possible\n",
      "\t- Explicitly set the environment variable TOKENIZERS_PARALLELISM=(true | false)\n",
      "huggingface/tokenizers: The current process just got forked, after parallelism has already been used. Disabling parallelism to avoid deadlocks...\n",
      "To disable this warning, you can either:\n",
      "\t- Avoid using `tokenizers` before the fork if possible\n",
      "\t- Explicitly set the environment variable TOKENIZERS_PARALLELISM=(true | false)\n",
      "huggingface/tokenizers: The current process just got forked, after parallelism has already been used. Disabling parallelism to avoid deadlocks...\n",
      "To disable this warning, you can either:\n",
      "\t- Avoid using `tokenizers` before the fork if possible\n",
      "\t- Explicitly set the environment variable TOKENIZERS_PARALLELISM=(true | false)\n",
      "huggingface/tokenizers: The current process just got forked, after parallelism has already been used. Disabling parallelism to avoid deadlocks...\n",
      "To disable this warning, you can either:\n",
      "\t- Avoid using `tokenizers` before the fork if possible\n",
      "\t- Explicitly set the environment variable TOKENIZERS_PARALLELISM=(true | false)\n",
      "/tmp/ipykernel_3229947/3384497375.py:41: FutureWarning: `torch.cuda.amp.autocast(args...)` is deprecated. Please use `torch.amp.autocast('cuda', args...)` instead.\n",
      "  with torch.cuda.amp.autocast():  # FP16에서 실행 후 추출\n",
      "Processing batches: 100%|██████████| 1/1 [00:00<00:00,  1.93it/s]\n"
     ]
    },
    {
     "name": "stdout",
     "output_type": "stream",
     "text": [
      "두부 요리용 배합비: 두부: 50%, 달걀: 10%, 파: 5%, 숯불갈비맛베이스: 10%, 정백당: 5%, 카라멜: 2%, 흑후추분말: 2%, 소맥전분: 3%, 파인애플슬라이스: 5%, 고소한빵가루: 2%, 그린핫스파이스: 2%, 아미노베이스p: 1%, 폴리인산나트륨: 0.5%, 밀분해추출물: 1%, 생강: 1%, 조직대두단백: 3%, 대파: 2%, 두부: 10%, 참기름: 2%, 돼지고기갈비살: 10%, 마늘: 2%, 돼지고기돈지방: 5%, 비프앰알파우더: 2%, 정제염: 2%\n",
      "두부 요리용 배합비: 두부: 50%, 달걀: 10%, 파: 5%, 숯불갈비맛베이스: 10%, 정백당: 5%, 카라멜: 2%, 흑후추분말: 2%, 소맥전분: 3%, 파인애플슬라이스: 5%, 고소한빵가루: 2%, 그린핫스파이스: 2%, 아미노베이스p: 1%, 폴리인산나트륨: 0.5%, 밀분해추출물: 1%, 생강: 1%, 조직대두단백: 3%, 대파: 2%, 두부: 10%, 참기름: 2%, 돼지고기갈비살: 10%, 마늘: 2%, 돼지고기돈지방: 5%, 비프앰알파우더: 2%, 정제염: 2%\n"
     ]
    },
    {
     "name": "stderr",
     "output_type": "stream",
     "text": [
      "/tmp/ipykernel_3229947/1013944166.py:46: DtypeWarning: Columns (24,25,26,27,28,29,30,31) have mixed types. Specify dtype option on import or set low_memory=False.\n",
      "  meta_df = pd.read_csv(metadata_file)\n",
      "Processing batches:   0%|          | 0/1 [00:00<?, ?it/s]huggingface/tokenizers: The current process just got forked, after parallelism has already been used. Disabling parallelism to avoid deadlocks...\n",
      "To disable this warning, you can either:\n",
      "\t- Avoid using `tokenizers` before the fork if possible\n",
      "\t- Explicitly set the environment variable TOKENIZERS_PARALLELISM=(true | false)\n",
      "huggingface/tokenizers: The current process just got forked, after parallelism has already been used. Disabling parallelism to avoid deadlocks...\n",
      "To disable this warning, you can either:\n",
      "\t- Avoid using `tokenizers` before the fork if possible\n",
      "\t- Explicitly set the environment variable TOKENIZERS_PARALLELISM=(true | false)\n",
      "huggingface/tokenizers: The current process just got forked, after parallelism has already been used. Disabling parallelism to avoid deadlocks...\n",
      "To disable this warning, you can either:\n",
      "\t- Avoid using `tokenizers` before the fork if possible\n",
      "\t- Explicitly set the environment variable TOKENIZERS_PARALLELISM=(true | false)\n",
      "huggingface/tokenizers: The current process just got forked, after parallelism has already been used. Disabling parallelism to avoid deadlocks...\n",
      "To disable this warning, you can either:\n",
      "\t- Avoid using `tokenizers` before the fork if possible\n",
      "\t- Explicitly set the environment variable TOKENIZERS_PARALLELISM=(true | false)\n",
      "/tmp/ipykernel_3229947/3384497375.py:41: FutureWarning: `torch.cuda.amp.autocast(args...)` is deprecated. Please use `torch.amp.autocast('cuda', args...)` instead.\n",
      "  with torch.cuda.amp.autocast():  # FP16에서 실행 후 추출\n",
      "Processing batches: 100%|██████████| 1/1 [00:00<00:00,  1.64it/s]\n"
     ]
    },
    {
     "name": "stdout",
     "output_type": "stream",
     "text": [
      "A: 초콜릿: 50%, 우유: 20%, 설탕: 15%, 당면: 10%, 메밀가루: 5%\n",
      "초콜릿: 50%, 우유: 20%, 설탕: 15%, 당면: 10%, 메밀가루: 5%\n"
     ]
    },
    {
     "name": "stderr",
     "output_type": "stream",
     "text": [
      "/tmp/ipykernel_3229947/1013944166.py:46: DtypeWarning: Columns (24,25,26,27,28,29,30,31) have mixed types. Specify dtype option on import or set low_memory=False.\n",
      "  meta_df = pd.read_csv(metadata_file)\n",
      "Processing batches:   0%|          | 0/1 [00:00<?, ?it/s]huggingface/tokenizers: The current process just got forked, after parallelism has already been used. Disabling parallelism to avoid deadlocks...\n",
      "To disable this warning, you can either:\n",
      "\t- Avoid using `tokenizers` before the fork if possible\n",
      "\t- Explicitly set the environment variable TOKENIZERS_PARALLELISM=(true | false)\n",
      "huggingface/tokenizers: The current process just got forked, after parallelism has already been used. Disabling parallelism to avoid deadlocks...\n",
      "To disable this warning, you can either:\n",
      "\t- Avoid using `tokenizers` before the fork if possible\n",
      "\t- Explicitly set the environment variable TOKENIZERS_PARALLELISM=(true | false)\n",
      "huggingface/tokenizers: The current process just got forked, after parallelism has already been used. Disabling parallelism to avoid deadlocks...\n",
      "To disable this warning, you can either:\n",
      "\t- Avoid using `tokenizers` before the fork if possible\n",
      "\t- Explicitly set the environment variable TOKENIZERS_PARALLELISM=(true | false)\n",
      "huggingface/tokenizers: The current process just got forked, after parallelism has already been used. Disabling parallelism to avoid deadlocks...\n",
      "To disable this warning, you can either:\n",
      "\t- Avoid using `tokenizers` before the fork if possible\n",
      "\t- Explicitly set the environment variable TOKENIZERS_PARALLELISM=(true | false)\n",
      "/tmp/ipykernel_3229947/3384497375.py:41: FutureWarning: `torch.cuda.amp.autocast(args...)` is deprecated. Please use `torch.amp.autocast('cuda', args...)` instead.\n",
      "  with torch.cuda.amp.autocast():  # FP16에서 실행 후 추출\n",
      "Processing batches: 100%|██████████| 1/1 [00:00<00:00,  2.13it/s]TOKENIZERS_PARALLELISM=(true | false)\n",
      "Processing batches: 100%|██████████| 1/1 [00:00<00:00,  1.58it/s]\n"
     ]
    },
    {
     "name": "stdout",
     "output_type": "stream",
     "text": [
      "A: 버터: 20%, 설탕: 30%, 밀가루: 40%, 당면: 5%, 메밀가루: 5%\n",
      "버터: 20%, 설탕: 30%, 밀가루: 40%, 당면: 5%, 메밀가루: 5%\n"
     ]
    },
    {
     "name": "stderr",
     "output_type": "stream",
     "text": [
      "/tmp/ipykernel_3229947/1013944166.py:46: DtypeWarning: Columns (24,25,26,27,28,29,30,31) have mixed types. Specify dtype option on import or set low_memory=False.\n",
      "  meta_df = pd.read_csv(metadata_file)\n",
      "Processing batches:   0%|          | 0/1 [00:00<?, ?it/s]huggingface/tokenizers: The current process just got forked, after parallelism has already been used. Disabling parallelism to avoid deadlocks...\n",
      "To disable this warning, you can either:\n",
      "\t- Avoid using `tokenizers` before the fork if possible\n",
      "\t- Explicitly set the environment variable TOKENIZERS_PARALLELISM=(true | false)\n",
      "huggingface/tokenizers: The current process just got forked, after parallelism has already been used. Disabling parallelism to avoid deadlocks...\n",
      "To disable this warning, you can either:\n",
      "\t- Avoid using `tokenizers` before the fork if possible\n",
      "\t- Explicitly set the environment variable TOKENIZERS_PARALLELISM=(true | false)\n",
      "huggingface/tokenizers: The current process just got forked, after parallelism has already been used. Disabling parallelism to avoid deadlocks...\n",
      "To disable this warning, you can either:\n",
      "\t- Avoid using `tokenizers` before the fork if possible\n",
      "\t- Explicitly set the environment variable TOKENIZERS_PARALLELISM=(true | false)\n",
      "huggingface/tokenizers: The current process just got forked, after parallelism has already been used. Disabling parallelism to avoid deadlocks...\n",
      "To disable this warning, you can either:\n",
      "\t- Avoid using `tokenizers` before the fork if possible\n",
      "\t- Explicitly set the environment variable TOKENIZERS_PARALLELISM=(true | false)\n",
      "/tmp/ipykernel_3229947/3384497375.py:41: FutureWarning: `torch.cuda.amp.autocast(args...)` is deprecated. Please use `torch.amp.autocast('cuda', args...)` instead.\n",
      "  with torch.cuda.amp.autocast():  # FP16에서 실행 후 추출\n",
      "Processing batches: 100%|██████████| 1/1 [00:00<00:00,  2.11it/s]huggingface/tokenizers: The current process just got forked, after parallelism has already been used. Disabling parallelism to avoid deadlocks...\n",
      "To disable this warning, you can either:\n",
      "\t- Avoid using `tokenizers` before the fork if possible\n",
      "\t- Explicitly set the environment variable TOKENIZERS_PARALLELISM=(true | false)\n",
      "Processing batches: 100%|██████████| 1/1 [00:00<00:00,  1.53it/s]\n"
     ]
    },
    {
     "name": "stdout",
     "output_type": "stream",
     "text": [
      "A: 계란: 20%, 우유: 15%, 당면: 10%, 굴소스p: 10%, 밀가루: 10%, 정제소금: 5%, 부추: 5%, 생마늘: 5%, 대두단백: 5%, 깻잎: 5%, 발아현미분말: 5%, 밀식이섬유: 5%, 양배추: 5%, 콩발효맛내기진: 5%, 양파: 5%, 맛내기양념: 5%, 애호박: 5%, 유화유지피: 5%, 생대파: 5%, 볶음메밀가루: 5%, 아베베nl2: 5%, 우리콩유부슬라이스: 5%, 후추가루: 5%, 당근: 5%, 숙주나물: 5%, 밀글루텐: 5%, 야채조미오일피: 5%, 두부: 5%, 참기름: 5%, 고추씨맛기름: 5%, 절임배추: 5%, 스테비텐리치: 5%, 양조간장: 5%, 난백: 5%\n",
      "계란: 18%, 우유: 13%, 당면: 9%, 굴소스p: 9%, 밀가루: 9%, 정제소금: 4%, 부추: 4%, 생마늘: 4%, 대두단백: 4%, 깻잎: 4%, 발아현미분말: 4%, 밀식이섬유: 4%, 양배추: 4%, 콩발효맛내기진: 4%, 양파: 4%, 맛내기양념: 4%, 애호박: 4%, 유화유지피: 4%, 생대파: 4%, 볶음메밀가루: 4%, 아베베nl2: 4%, 우리콩유부슬라이스: 4%, 후추가루: 4%, 당근: 4%, 숙주나물: 4%, 밀글루텐: 4%, 야채조미오일피: 4%, 두부: 4%, 참기름: 4%, 고추씨맛기름: 4%, 절임배추: 4%, 스테비텐리치: 4%, 양조간장: 4%, 난백: 4%, 딸기: 2%.\n"
     ]
    },
    {
     "name": "stderr",
     "output_type": "stream",
     "text": [
      "/tmp/ipykernel_3229947/1013944166.py:46: DtypeWarning: Columns (24,25,26,27,28,29,30,31) have mixed types. Specify dtype option on import or set low_memory=False.\n",
      "  meta_df = pd.read_csv(metadata_file)\n",
      "Processing batches:   0%|          | 0/1 [00:00<?, ?it/s]huggingface/tokenizers: The current process just got forked, after parallelism has already been used. Disabling parallelism to avoid deadlocks...\n",
      "To disable this warning, you can either:\n",
      "\t- Avoid using `tokenizers` before the fork if possible\n",
      "\t- Explicitly set the environment variable TOKENIZERS_PARALLELISM=(true | false)\n",
      "huggingface/tokenizers: The current process just got forked, after parallelism has already been used. Disabling parallelism to avoid deadlocks...\n",
      "To disable this warning, you can either:\n",
      "\t- Avoid using `tokenizers` before the fork if possible\n",
      "\t- Explicitly set the environment variable TOKENIZERS_PARALLELISM=(true | false)\n",
      "huggingface/tokenizers: The current process just got forked, after parallelism has already been used. Disabling parallelism to avoid deadlocks...\n",
      "To disable this warning, you can either:\n",
      "\t- Avoid using `tokenizers` before the fork if possible\n",
      "\t- Explicitly set the environment variable TOKENIZERS_PARALLELISM=(true | false)\n",
      "huggingface/tokenizers: The current process just got forked, after parallelism has already been used. Disabling parallelism to avoid deadlocks...\n",
      "To disable this warning, you can either:\n",
      "\t- Avoid using `tokenizers` before the fork if possible\n",
      "\t- Explicitly set the environment variable TOKENIZERS_PARALLELISM=(true | false)\n",
      "/tmp/ipykernel_3229947/3384497375.py:41: FutureWarning: `torch.cuda.amp.autocast(args...)` is deprecated. Please use `torch.amp.autocast('cuda', args...)` instead.\n",
      "  with torch.cuda.amp.autocast():  # FP16에서 실행 후 추출\n",
      "Processing batches: 100%|██████████| 1/1 [00:00<00:00,  1.55it/s]\n"
     ]
    },
    {
     "name": "stdout",
     "output_type": "stream",
     "text": [
      "A: 밀가루: 50%, 바나나: 20%, 계란: 10%, 당면: 10%, 굴소스p: 5%, 부추: 5%\n",
      "밀가루: 50%, 바나나: 20%, 계란: 10%, 당면: 10%, 굴소스p: 5%, 부추: 5%\n"
     ]
    },
    {
     "name": "stderr",
     "output_type": "stream",
     "text": [
      "/tmp/ipykernel_3229947/1013944166.py:46: DtypeWarning: Columns (24,25,26,27,28,29,30,31) have mixed types. Specify dtype option on import or set low_memory=False.\n",
      "  meta_df = pd.read_csv(metadata_file)\n",
      "Processing batches:   0%|          | 0/1 [00:00<?, ?it/s]huggingface/tokenizers: The current process just got forked, after parallelism has already been used. Disabling parallelism to avoid deadlocks...\n",
      "To disable this warning, you can either:\n",
      "\t- Avoid using `tokenizers` before the fork if possible\n",
      "\t- Explicitly set the environment variable TOKENIZERS_PARALLELISM=(true | false)\n",
      "huggingface/tokenizers: The current process just got forked, after parallelism has already been used. Disabling parallelism to avoid deadlocks...\n",
      "To disable this warning, you can either:\n",
      "\t- Avoid using `tokenizers` before the fork if possible\n",
      "\t- Explicitly set the environment variable TOKENIZERS_PARALLELISM=(true | false)\n",
      "huggingface/tokenizers: The current process just got forked, after parallelism has already been used. Disabling parallelism to avoid deadlocks...\n",
      "To disable this warning, you can either:\n",
      "\t- Avoid using `tokenizers` before the fork if possible\n",
      "\t- Explicitly set the environment variable TOKENIZERS_PARALLELISM=(true | false)\n",
      "huggingface/tokenizers: The current process just got forked, after parallelism has already been used. Disabling parallelism to avoid deadlocks...\n",
      "To disable this warning, you can either:\n",
      "\t- Avoid using `tokenizers` before the fork if possible\n",
      "\t- Explicitly set the environment variable TOKENIZERS_PARALLELISM=(true | false)\n",
      "/tmp/ipykernel_3229947/3384497375.py:41: FutureWarning: `torch.cuda.amp.autocast(args...)` is deprecated. Please use `torch.amp.autocast('cuda', args...)` instead.\n",
      "  with torch.cuda.amp.autocast():  # FP16에서 실행 후 추출\n",
      "Processing batches: 100%|██████████| 1/1 [00:00<00:00,  1.63it/s]\n"
     ]
    },
    {
     "name": "stdout",
     "output_type": "stream",
     "text": [
      "A: 생크림: 50%, 설탕: 20%, 과일: 15%, 당면: 10%, 정백당: 3%, 건조무: 2%\n",
      "생크림: 50%, 설탕: 20%, 과일: 15%, 당면: 10%, 정백당: 3%, 건조무: 2%\n"
     ]
    },
    {
     "name": "stderr",
     "output_type": "stream",
     "text": [
      "/tmp/ipykernel_3229947/1013944166.py:20: DtypeWarning: Columns (24,25,26,27,28,29,30,31) have mixed types. Specify dtype option on import or set low_memory=False.\n",
      "  meta_df = pd.read_csv(metadata_file)\n",
      "Processing batches:   0%|          | 0/1 [00:00<?, ?it/s]huggingface/tokenizers: The current process just got forked, after parallelism has already been used. Disabling parallelism to avoid deadlocks...\n",
      "To disable this warning, you can either:\n",
      "\t- Avoid using `tokenizers` before the fork if possible\n",
      "\t- Explicitly set the environment variable TOKENIZERS_PARALLELISM=(true | false)\n",
      "huggingface/tokenizers: The current process just got forked, after parallelism has already been used. Disabling parallelism to avoid deadlocks...\n",
      "To disable this warning, you can either:\n",
      "\t- Avoid using `tokenizers` before the fork if possible\n",
      "\t- Explicitly set the environment variable TOKENIZERS_PARALLELISM=(true | false)\n",
      "huggingface/tokenizers: The current process just got forked, after parallelism has already been used. Disabling parallelism to avoid deadlocks...\n",
      "To disable this warning, you can either:\n",
      "\t- Avoid using `tokenizers` before the fork if possible\n",
      "\t- Explicitly set the environment variable TOKENIZERS_PARALLELISM=(true | false)\n",
      "huggingface/tokenizers: The current process just got forked, after parallelism has already been used. Disabling parallelism to avoid deadlocks...\n",
      "To disable this warning, you can either:\n",
      "\t- Avoid using `tokenizers` before the fork if possible\n",
      "\t- Explicitly set the environment variable TOKENIZERS_PARALLELISM=(true | false)\n",
      "/tmp/ipykernel_3229947/3384497375.py:41: FutureWarning: `torch.cuda.amp.autocast(args...)` is deprecated. Please use `torch.amp.autocast('cuda', args...)` instead.\n",
      "  with torch.cuda.amp.autocast():  # FP16에서 실행 후 추출\n",
      "Processing batches: 100%|██████████| 1/1 [00:00<00:00,  1.63it/s]\n"
     ]
    },
    {
     "name": "stdout",
     "output_type": "stream",
     "text": [
      "A: 돼지고기: 30%, 부추: 15%, 유화유지p: 10%, 대두단백: 10%, 건무: 10%, 백설탕: 10%, 파인소프트t: 10%, 숙주: 5%, 양배추: 5%, 양파: 5%, 맛내기양념: 5%, 찹쌀가루: 5%, 볶음메밀가루: 5%, 밀글루텐: 5%, 후춧가루: 2.5%, 대파: 2.5%, 들깨가루: 2.5%, 절임배추: 2.5%, 마늘: 2.5%, 쇠고기추출분말: 2.5%, 양조간장: 2.5%, 난백: 2.5%\n",
      "돼지고기: 30%, 부추: 15%, 유화유지p: 10%, 대두단백: 10%, 건무: 10%, 백설탕: 10%, 파인소프트t: 10%, 숙주: 5%, 양배추: 5%, 양파: 5%, 맛내기양념: 5%, 찹쌀가루: 5%, 볶음메밀가루: 5%, 밀글루텐: 5%, 후춧가루: 2.5%, 대파: 2.5%, 들깨가루: 2.5%, 절임배추: 2.5%, 마늘: 2.5%, 쇠고기추출분말: 2.5%, 양조간장: 2.5%, 난백: 2.5%\n"
     ]
    },
    {
     "name": "stderr",
     "output_type": "stream",
     "text": [
      "/tmp/ipykernel_3229947/1013944166.py:20: DtypeWarning: Columns (24,25,26,27,28,29,30,31) have mixed types. Specify dtype option on import or set low_memory=False.\n",
      "  meta_df = pd.read_csv(metadata_file)\n",
      "Processing batches:   0%|          | 0/1 [00:00<?, ?it/s]huggingface/tokenizers: The current process just got forked, after parallelism has already been used. Disabling parallelism to avoid deadlocks...\n",
      "To disable this warning, you can either:\n",
      "\t- Avoid using `tokenizers` before the fork if possible\n",
      "\t- Explicitly set the environment variable TOKENIZERS_PARALLELISM=(true | false)\n",
      "huggingface/tokenizers: The current process just got forked, after parallelism has already been used. Disabling parallelism to avoid deadlocks...\n",
      "To disable this warning, you can either:\n",
      "\t- Avoid using `tokenizers` before the fork if possible\n",
      "\t- Explicitly set the environment variable TOKENIZERS_PARALLELISM=(true | false)\n",
      "huggingface/tokenizers: The current process just got forked, after parallelism has already been used. Disabling parallelism to avoid deadlocks...\n",
      "To disable this warning, you can either:\n",
      "\t- Avoid using `tokenizers` before the fork if possible\n",
      "\t- Explicitly set the environment variable TOKENIZERS_PARALLELISM=(true | false)\n",
      "huggingface/tokenizers: The current process just got forked, after parallelism has already been used. Disabling parallelism to avoid deadlocks...\n",
      "To disable this warning, you can either:\n",
      "\t- Avoid using `tokenizers` before the fork if possible\n",
      "\t- Explicitly set the environment variable TOKENIZERS_PARALLELISM=(true | false)\n",
      "/tmp/ipykernel_3229947/3384497375.py:41: FutureWarning: `torch.cuda.amp.autocast(args...)` is deprecated. Please use `torch.amp.autocast('cuda', args...)` instead.\n",
      "  with torch.cuda.amp.autocast():  # FP16에서 실행 후 추출\n",
      "Processing batches: 100%|██████████| 1/1 [00:00<00:00,  1.50it/s]\n"
     ]
    },
    {
     "name": "stdout",
     "output_type": "stream",
     "text": [
      "두부: 20%, 부추: 15%, 당면: 30%, 대두단백: 10%, 활성글루텐: 10%, 돼지고기: 10%, 소고기밑국물분말: 5%\n",
      "두부: 20%, 부추: 15%, 당면: 30%, 대두단백: 10%, 활성글루텐: 10%, 돼지고기: 10%, 소고기밑국물분말: 5%\n"
     ]
    },
    {
     "name": "stderr",
     "output_type": "stream",
     "text": [
      "/tmp/ipykernel_3229947/1013944166.py:20: DtypeWarning: Columns (24,25,26,27,28,29,30,31) have mixed types. Specify dtype option on import or set low_memory=False.\n",
      "  meta_df = pd.read_csv(metadata_file)\n",
      "Processing batches:   0%|          | 0/1 [00:00<?, ?it/s]huggingface/tokenizers: The current process just got forked, after parallelism has already been used. Disabling parallelism to avoid deadlocks...\n",
      "To disable this warning, you can either:\n",
      "\t- Avoid using `tokenizers` before the fork if possible\n",
      "\t- Explicitly set the environment variable TOKENIZERS_PARALLELISM=(true | false)\n",
      "huggingface/tokenizers: The current process just got forked, after parallelism has already been used. Disabling parallelism to avoid deadlocks...\n",
      "To disable this warning, you can either:\n",
      "\t- Avoid using `tokenizers` before the fork if possible\n",
      "\t- Explicitly set the environment variable TOKENIZERS_PARALLELISM=(true | false)\n",
      "huggingface/tokenizers: The current process just got forked, after parallelism has already been used. Disabling parallelism to avoid deadlocks...\n",
      "To disable this warning, you can either:\n",
      "\t- Avoid using `tokenizers` before the fork if possible\n",
      "\t- Explicitly set the environment variable TOKENIZERS_PARALLELISM=(true | false)\n",
      "huggingface/tokenizers: The current process just got forked, after parallelism has already been used. Disabling parallelism to avoid deadlocks...\n",
      "To disable this warning, you can either:\n",
      "\t- Avoid using `tokenizers` before the fork if possible\n",
      "\t- Explicitly set the environment variable TOKENIZERS_PARALLELISM=(true | false)\n",
      "/tmp/ipykernel_3229947/3384497375.py:41: FutureWarning: `torch.cuda.amp.autocast(args...)` is deprecated. Please use `torch.amp.autocast('cuda', args...)` instead.\n",
      "  with torch.cuda.amp.autocast():  # FP16에서 실행 후 추출\n",
      "Processing batches: 100%|██████████| 1/1 [00:00<00:00,  1.51it/s]\n"
     ]
    },
    {
     "name": "stdout",
     "output_type": "stream",
     "text": [
      "A: 김치: 20%, 돼지고기: 30%, 양파: 15%, 당면: 10%, 쇠고기베이스: 5%, 곡류가공품: 5%, 밀가루: 5%, 정제소금: 5%, 찹쌀분말: 2%, 부추: 2%, 대두단백: 2%, 건무: 2%, 백설탕: 1%, 아베베sp2: 1%, 돼지고기: 10%, 양배추: 10%, 양파: 5%, 맛내기양념: 5%, 유화유지피: 3%, 후추가루: 2%, 대파: 2%, 두부: 2%, 참기름: 1%, 절임배추: 1%, 마늘: 1%, 양조간장: 1%, 난백: 1%\n",
      "김치: 20%, 돼지고기: 30%, 양파: 15%, 당면: 10%, 쇠고기베이스: 5%, 곡류가공품: 5%, 밀가루: 5%, 정제소금: 5%, 찹쌀분말: 2%, 부추: 2%, 대두단백: 2%, 건무: 2%, 백설탕: 1%, 아베베sp2: 1%, 돼지고기: 10%, 양배추: 10%, 양파: 5%, 맛내기양념: 5%, 유화유지피: 3%, 후추가루: 2%, 대파: 2%, 두부: 2%, 참기름: 1%, 절임배추: 1%, 마늘: 1%, 양조간장: 1%, 난백: 1%\n"
     ]
    },
    {
     "name": "stderr",
     "output_type": "stream",
     "text": [
      "/tmp/ipykernel_3229947/1013944166.py:20: DtypeWarning: Columns (24,25,26,27,28,29,30,31) have mixed types. Specify dtype option on import or set low_memory=False.\n",
      "  meta_df = pd.read_csv(metadata_file)\n",
      "Processing batches:   0%|          | 0/1 [00:00<?, ?it/s]huggingface/tokenizers: The current process just got forked, after parallelism has already been used. Disabling parallelism to avoid deadlocks...\n",
      "To disable this warning, you can either:\n",
      "\t- Avoid using `tokenizers` before the fork if possible\n",
      "\t- Explicitly set the environment variable TOKENIZERS_PARALLELISM=(true | false)\n",
      "huggingface/tokenizers: The current process just got forked, after parallelism has already been used. Disabling parallelism to avoid deadlocks...\n",
      "To disable this warning, you can either:\n",
      "\t- Avoid using `tokenizers` before the fork if possible\n",
      "\t- Explicitly set the environment variable TOKENIZERS_PARALLELISM=(true | false)\n",
      "huggingface/tokenizers: The current process just got forked, after parallelism has already been used. Disabling parallelism to avoid deadlocks...\n",
      "To disable this warning, you can either:\n",
      "\t- Avoid using `tokenizers` before the fork if possible\n",
      "\t- Explicitly set the environment variable TOKENIZERS_PARALLELISM=(true | false)\n",
      "huggingface/tokenizers: The current process just got forked, after parallelism has already been used. Disabling parallelism to avoid deadlocks...\n",
      "To disable this warning, you can either:\n",
      "\t- Avoid using `tokenizers` before the fork if possible\n",
      "\t- Explicitly set the environment variable TOKENIZERS_PARALLELISM=(true | false)\n",
      "/tmp/ipykernel_3229947/3384497375.py:41: FutureWarning: `torch.cuda.amp.autocast(args...)` is deprecated. Please use `torch.amp.autocast('cuda', args...)` instead.\n",
      "  with torch.cuda.amp.autocast():  # FP16에서 실행 후 추출\n",
      "Processing batches: 100%|██████████| 1/1 [00:00<00:00,  1.50it/s]\n"
     ]
    },
    {
     "name": "stdout",
     "output_type": "stream",
     "text": [
      "A: 새우: 30%, 돼지고기: 40%, 마늘: 10%, 밀가루: 10%, 정제소금: 5%, 부추: 2%, 유화유지p: 2%, 대두단백: 1%\n",
      "새우: 30%, 돼지고기: 40%, 마늘: 10%, 밀가루: 10%, 정제소금: 5%, 부추: 2%, 유화유지p: 2%, 대두단백: 1%\n"
     ]
    },
    {
     "name": "stderr",
     "output_type": "stream",
     "text": [
      "/tmp/ipykernel_3229947/1013944166.py:20: DtypeWarning: Columns (24,25,26,27,28,29,30,31) have mixed types. Specify dtype option on import or set low_memory=False.\n",
      "  meta_df = pd.read_csv(metadata_file)\n",
      "Processing batches:   0%|          | 0/1 [00:00<?, ?it/s]huggingface/tokenizers: The current process just got forked, after parallelism has already been used. Disabling parallelism to avoid deadlocks...\n",
      "To disable this warning, you can either:\n",
      "\t- Avoid using `tokenizers` before the fork if possible\n",
      "\t- Explicitly set the environment variable TOKENIZERS_PARALLELISM=(true | false)\n",
      "huggingface/tokenizers: The current process just got forked, after parallelism has already been used. Disabling parallelism to avoid deadlocks...\n",
      "To disable this warning, you can either:\n",
      "\t- Avoid using `tokenizers` before the fork if possible\n",
      "\t- Explicitly set the environment variable TOKENIZERS_PARALLELISM=(true | false)\n",
      "huggingface/tokenizers: The current process just got forked, after parallelism has already been used. Disabling parallelism to avoid deadlocks...\n",
      "To disable this warning, you can either:\n",
      "\t- Avoid using `tokenizers` before the fork if possible\n",
      "\t- Explicitly set the environment variable TOKENIZERS_PARALLELISM=(true | false)\n",
      "huggingface/tokenizers: The current process just got forked, after parallelism has already been used. Disabling parallelism to avoid deadlocks...\n",
      "To disable this warning, you can either:\n",
      "\t- Avoid using `tokenizers` before the fork if possible\n",
      "\t- Explicitly set the environment variable TOKENIZERS_PARALLELISM=(true | false)\n",
      "/tmp/ipykernel_3229947/3384497375.py:41: FutureWarning: `torch.cuda.amp.autocast(args...)` is deprecated. Please use `torch.amp.autocast('cuda', args...)` instead.\n",
      "  with torch.cuda.amp.autocast():  # FP16에서 실행 후 추출\n",
      "Processing batches: 100%|██████████| 1/1 [00:00<00:00,  1.59it/s]\n"
     ]
    },
    {
     "name": "stdout",
     "output_type": "stream",
     "text": [
      "A: 소고기: 30%, 당면: 25%, 대파: 10%, 양송이슬라이스: 10%, 쇠고기베이스: 5%, 화권믹스: 5%, 굴소스p: 5%, 흑후추분말: 2%, 향이고소한참기름: 2%, 난백액: 2%, 정제소금: 2%, 부추: 1%, 설탕: 1%, 돼지고기: 1%, 청피망: 1%, 생강: 1%, 정제수: 5%, 건조파: 3%, 양배추: 3%, 고추맛기름: 2%, 생이스트골드: 1%, 건당근: 1%, 대파: 1%, 마늘: 1%, 양조간장: 1%, 핵산아이지: 0.5%\n",
      "소고기: 30%, 당면: 25%, 대파: 10%, 양송이슬라이스: 10%, 쇠고기베이스: 5%, 화권믹스: 5%, 굴소스p: 5%, 흑후추분말: 2%, 향이고소한참기름: 2%, 난백액: 2%, 정제소금: 2%, 부추: 1%, 설탕: 1%, 돼지고기: 1%, 청피망: 1%, 생강: 1%, 정제수: 5%, 건조파: 3%, 양배추: 3%, 고추맛기름: 2%, 생이스트골드: 1%, 건당근: 1%, 대파: 1%, 마늘: 1%, 양조간장: 1%, 핵산아이지: 0.5%\n"
     ]
    },
    {
     "name": "stderr",
     "output_type": "stream",
     "text": [
      "/tmp/ipykernel_3229947/1013944166.py:20: DtypeWarning: Columns (32,33,34,35,36,37,38,39,40,41,42,43,44,45,46) have mixed types. Specify dtype option on import or set low_memory=False.\n",
      "  meta_df = pd.read_csv(metadata_file)\n",
      "Processing batches:   0%|          | 0/1 [00:00<?, ?it/s]huggingface/tokenizers: The current process just got forked, after parallelism has already been used. Disabling parallelism to avoid deadlocks...\n",
      "To disable this warning, you can either:\n",
      "\t- Avoid using `tokenizers` before the fork if possible\n",
      "\t- Explicitly set the environment variable TOKENIZERS_PARALLELISM=(true | false)\n",
      "huggingface/tokenizers: The current process just got forked, after parallelism has already been used. Disabling parallelism to avoid deadlocks...\n",
      "To disable this warning, you can either:\n",
      "\t- Avoid using `tokenizers` before the fork if possible\n",
      "\t- Explicitly set the environment variable TOKENIZERS_PARALLELISM=(true | false)\n",
      "huggingface/tokenizers: The current process just got forked, after parallelism has already been used. Disabling parallelism to avoid deadlocks...\n",
      "To disable this warning, you can either:\n",
      "\t- Avoid using `tokenizers` before the fork if possible\n",
      "\t- Explicitly set the environment variable TOKENIZERS_PARALLELISM=(true | false)\n",
      "huggingface/tokenizers: The current process just got forked, after parallelism has already been used. Disabling parallelism to avoid deadlocks...\n",
      "To disable this warning, you can either:\n",
      "\t- Avoid using `tokenizers` before the fork if possible\n",
      "\t- Explicitly set the environment variable TOKENIZERS_PARALLELISM=(true | false)\n",
      "/tmp/ipykernel_3229947/3384497375.py:41: FutureWarning: `torch.cuda.amp.autocast(args...)` is deprecated. Please use `torch.amp.autocast('cuda', args...)` instead.\n",
      "  with torch.cuda.amp.autocast():  # FP16에서 실행 후 추출\n",
      "Processing batches: 100%|██████████| 1/1 [00:00<00:00,  1.59it/s]\n"
     ]
    },
    {
     "name": "stdout",
     "output_type": "stream",
     "text": [
      "A: 돼지고기: 30%, 면: 25%, 쌀: 15%, 혼합제제: 10%, 감자전분: 10%, 옥수수유: 5%, 해물야채맛현미유: 5%, 파슬리: 5%\n",
      "    참고: 이 배합비는 면 요리의 일반적인 비율이며, 구체적인 레시피에 따라 달라질 수 있습니다. 또한, 3가지 야채 고명은 재료의 질감과 맛을 향상시키기 위해 추가될 수 있으며, 그 양은 취향에 맞게 조절할 수 있습니다.\n",
      "돼지고기: 28%, 면: 23%, 혼합제제: 9%, 감자전분: 9%, 옥수수유: 4%, 해물야채맛현미유: 4%, 파슬리: 4%, 된장: 6%.\n"
     ]
    },
    {
     "name": "stderr",
     "output_type": "stream",
     "text": [
      "/tmp/ipykernel_3229947/1013944166.py:20: DtypeWarning: Columns (32,33,34,35,36,37,38,39,40,41,42,43,44,45,46) have mixed types. Specify dtype option on import or set low_memory=False.\n",
      "  meta_df = pd.read_csv(metadata_file)\n",
      "Processing batches:   0%|          | 0/1 [00:00<?, ?it/s]huggingface/tokenizers: The current process just got forked, after parallelism has already been used. Disabling parallelism to avoid deadlocks...\n",
      "To disable this warning, you can either:\n",
      "\t- Avoid using `tokenizers` before the fork if possible\n",
      "\t- Explicitly set the environment variable TOKENIZERS_PARALLELISM=(true | false)\n",
      "huggingface/tokenizers: The current process just got forked, after parallelism has already been used. Disabling parallelism to avoid deadlocks...\n",
      "To disable this warning, you can either:\n",
      "\t- Avoid using `tokenizers` before the fork if possible\n",
      "\t- Explicitly set the environment variable TOKENIZERS_PARALLELISM=(true | false)\n",
      "huggingface/tokenizers: The current process just got forked, after parallelism has already been used. Disabling parallelism to avoid deadlocks...\n",
      "To disable this warning, you can either:\n",
      "\t- Avoid using `tokenizers` before the fork if possible\n",
      "\t- Explicitly set the environment variable TOKENIZERS_PARALLELISM=(true | false)\n",
      "huggingface/tokenizers: The current process just got forked, after parallelism has already been used. Disabling parallelism to avoid deadlocks...\n",
      "To disable this warning, you can either:\n",
      "\t- Avoid using `tokenizers` before the fork if possible\n",
      "\t- Explicitly set the environment variable TOKENIZERS_PARALLELISM=(true | false)\n",
      "/tmp/ipykernel_3229947/3384497375.py:41: FutureWarning: `torch.cuda.amp.autocast(args...)` is deprecated. Please use `torch.amp.autocast('cuda', args...)` instead.\n",
      "  with torch.cuda.amp.autocast():  # FP16에서 실행 후 추출\n",
      "Processing batches: 100%|██████████| 1/1 [00:00<00:00,  1.55it/s]\n"
     ]
    },
    {
     "name": "stdout",
     "output_type": "stream",
     "text": [
      "A: 고추장: 20%, 참기름: 15%, 소면: 30%, 알파메밀분: 10%, 표고버섯베이스: 10%, 자맛메밀막국수액상스프: 10%, 볶음메밀가루: 5%, 해바라기혼합유: 5%, 허브추출물: 2%, 변성전분: 2%, 정제소금: 2%, 건면용소맥분: 2%, 자맛메밀막국수건더기: 1%, 글루텐: 0.5%\n",
      "고추장: 20%, 참기름: 15%, 소면: 30%, 알파메밀분: 10%, 표고버섯베이스: 10%, 자맛메밀막국수액상스프: 10%, 볶음메밀가루: 5%, 해바라기혼합유: 5%, 허브추출물: 2%, 변성전분: 2%, 정제소금: 2%, 건면용소맥분: 2%, 자맛메밀막국수건더기: 1%, 글루텐: 0.5%\n"
     ]
    },
    {
     "name": "stderr",
     "output_type": "stream",
     "text": [
      "/tmp/ipykernel_3229947/1013944166.py:20: DtypeWarning: Columns (32,33,34,35,36,37,38,39,40,41,42,43,44,45,46) have mixed types. Specify dtype option on import or set low_memory=False.\n",
      "  meta_df = pd.read_csv(metadata_file)\n",
      "Processing batches:   0%|          | 0/1 [00:00<?, ?it/s]huggingface/tokenizers: The current process just got forked, after parallelism has already been used. Disabling parallelism to avoid deadlocks...\n",
      "To disable this warning, you can either:\n",
      "\t- Avoid using `tokenizers` before the fork if possible\n",
      "\t- Explicitly set the environment variable TOKENIZERS_PARALLELISM=(true | false)\n",
      "huggingface/tokenizers: The current process just got forked, after parallelism has already been used. Disabling parallelism to avoid deadlocks...\n",
      "To disable this warning, you can either:\n",
      "\t- Avoid using `tokenizers` before the fork if possible\n",
      "\t- Explicitly set the environment variable TOKENIZERS_PARALLELISM=(true | false)\n",
      "huggingface/tokenizers: The current process just got forked, after parallelism has already been used. Disabling parallelism to avoid deadlocks...\n",
      "To disable this warning, you can either:\n",
      "\t- Avoid using `tokenizers` before the fork if possible\n",
      "\t- Explicitly set the environment variable TOKENIZERS_PARALLELISM=(true | false)\n",
      "huggingface/tokenizers: The current process just got forked, after parallelism has already been used. Disabling parallelism to avoid deadlocks...\n",
      "To disable this warning, you can either:\n",
      "\t- Avoid using `tokenizers` before the fork if possible\n",
      "\t- Explicitly set the environment variable TOKENIZERS_PARALLELISM=(true | false)\n",
      "/tmp/ipykernel_3229947/3384497375.py:41: FutureWarning: `torch.cuda.amp.autocast(args...)` is deprecated. Please use `torch.amp.autocast('cuda', args...)` instead.\n",
      "  with torch.cuda.amp.autocast():  # FP16에서 실행 후 추출\n",
      "Processing batches: 100%|██████████| 1/1 [00:00<00:00,  1.55it/s]\n"
     ]
    },
    {
     "name": "stdout",
     "output_type": "stream",
     "text": [
      "A: 해물: 30%, 파: 15%, 칼국수 면: 25%, 고사리: 10%, 육개장소스: 10%, 대파: 10%\n",
      "A: 해물: 28%, 파: 14%, 칼국수면: 5%, 면: 23%, 고사리: 9%, 육개장소스: 9%, 대파: 9%.\n"
     ]
    },
    {
     "name": "stderr",
     "output_type": "stream",
     "text": [
      "/tmp/ipykernel_3229947/1013944166.py:20: DtypeWarning: Columns (32,33,34,35,36,37,38,39,40,41,42,43,44,45,46) have mixed types. Specify dtype option on import or set low_memory=False.\n",
      "  meta_df = pd.read_csv(metadata_file)\n",
      "Processing batches:   0%|          | 0/1 [00:00<?, ?it/s]huggingface/tokenizers: The current process just got forked, after parallelism has already been used. Disabling parallelism to avoid deadlocks...\n",
      "To disable this warning, you can either:\n",
      "\t- Avoid using `tokenizers` before the fork if possible\n",
      "\t- Explicitly set the environment variable TOKENIZERS_PARALLELISM=(true | false)\n",
      "huggingface/tokenizers: The current process just got forked, after parallelism has already been used. Disabling parallelism to avoid deadlocks...\n",
      "To disable this warning, you can either:\n",
      "\t- Avoid using `tokenizers` before the fork if possible\n",
      "\t- Explicitly set the environment variable TOKENIZERS_PARALLELISM=(true | false)\n",
      "huggingface/tokenizers: The current process just got forked, after parallelism has already been used. Disabling parallelism to avoid deadlocks...\n",
      "To disable this warning, you can either:\n",
      "\t- Avoid using `tokenizers` before the fork if possible\n",
      "\t- Explicitly set the environment variable TOKENIZERS_PARALLELISM=(true | false)\n",
      "huggingface/tokenizers: The current process just got forked, after parallelism has already been used. Disabling parallelism to avoid deadlocks...\n",
      "To disable this warning, you can either:\n",
      "\t- Avoid using `tokenizers` before the fork if possible\n",
      "\t- Explicitly set the environment variable TOKENIZERS_PARALLELISM=(true | false)\n",
      "/tmp/ipykernel_3229947/3384497375.py:41: FutureWarning: `torch.cuda.amp.autocast(args...)` is deprecated. Please use `torch.amp.autocast('cuda', args...)` instead.\n",
      "  with torch.cuda.amp.autocast():  # FP16에서 실행 후 추출\n",
      "Processing batches: 100%|██████████| 1/1 [00:00<00:00,  1.55it/s]\n"
     ]
    },
    {
     "name": "stdout",
     "output_type": "stream",
     "text": [
      "A: 우동면: 50%, 간장: 20%, 마늘: 10%, 표고버섯베이스: 10%, 치자황색소: 5%, 건면용 소맥분: 3%, 혼합제제: 2%\n",
      "우동면: 50%, 간장: 20%, 마늘: 10%, 표고버섯베이스: 10%, 치자황색소: 5%, 건면용 소맥분: 3%, 혼합제제: 2%\n"
     ]
    },
    {
     "name": "stderr",
     "output_type": "stream",
     "text": [
      "/tmp/ipykernel_3229947/1013944166.py:20: DtypeWarning: Columns (32,33,34,35,36,37,38,39,40,41,42,43,44,45,46) have mixed types. Specify dtype option on import or set low_memory=False.\n",
      "  meta_df = pd.read_csv(metadata_file)\n",
      "Processing batches:   0%|          | 0/1 [00:00<?, ?it/s]huggingface/tokenizers: The current process just got forked, after parallelism has already been used. Disabling parallelism to avoid deadlocks...\n",
      "To disable this warning, you can either:\n",
      "\t- Avoid using `tokenizers` before the fork if possible\n",
      "\t- Explicitly set the environment variable TOKENIZERS_PARALLELISM=(true | false)\n",
      "huggingface/tokenizers: The current process just got forked, after parallelism has already been used. Disabling parallelism to avoid deadlocks...\n",
      "To disable this warning, you can either:\n",
      "\t- Avoid using `tokenizers` before the fork if possible\n",
      "\t- Explicitly set the environment variable TOKENIZERS_PARALLELISM=(true | false)\n",
      "huggingface/tokenizers: The current process just got forked, after parallelism has already been used. Disabling parallelism to avoid deadlocks...\n",
      "To disable this warning, you can either:\n",
      "\t- Avoid using `tokenizers` before the fork if possible\n",
      "\t- Explicitly set the environment variable TOKENIZERS_PARALLELISM=(true | false)\n",
      "huggingface/tokenizers: The current process just got forked, after parallelism has already been used. Disabling parallelism to avoid deadlocks...\n",
      "To disable this warning, you can either:\n",
      "\t- Avoid using `tokenizers` before the fork if possible\n",
      "\t- Explicitly set the environment variable TOKENIZERS_PARALLELISM=(true | false)\n",
      "/tmp/ipykernel_3229947/3384497375.py:41: FutureWarning: `torch.cuda.amp.autocast(args...)` is deprecated. Please use `torch.amp.autocast('cuda', args...)` instead.\n",
      "  with torch.cuda.amp.autocast():  # FP16에서 실행 후 추출\n",
      "Processing batches: 100%|██████████| 1/1 [00:00<00:00,  1.55it/s]\n"
     ]
    },
    {
     "name": "stdout",
     "output_type": "stream",
     "text": [
      "새우: 20%, 고추: 15%, 표고버섯베이스: 10%, 치자황색소: 5%, 건면용 소맥분: 30%, 혼합제제: 5%, 자맛볶음면건더기: 10%, 해바라기혼합유: 5%, 면류첨가알칼리제: 2%, 변성전분: 5%, 감자전분: 5%, 정제소금: 3%, 허브추출물WP: 2%, 양파농축액P: 1%, 밀글루텐: 2%, 자맛핫칠리크랩액상스프: 2%\n",
      "새우: 18%, 고추: 14%, 표고버섯베이스: 9%, 치자황색소: 5%, 라면: 6%, 소맥분: 27%, 혼합제제: 5%, 자맛볶음면건더기: 9%, 해바라기혼합유: 4%, 면류첨가알칼리제: 1.8%, 변성전분: 4.5%, 감자전분: 4.5%, 정제소금: 2.7%, 허브추출물WP: 1.8%, 양파농축액P: 0.9%, 밀글루텐: 1.8%, 자맛핫칠리크랩액상스프: 1.8%.\n"
     ]
    },
    {
     "name": "stderr",
     "output_type": "stream",
     "text": [
      "/tmp/ipykernel_3229947/1013944166.py:20: DtypeWarning: Columns (20,21,22,23,24,25,26,27,28,29,30,31,32,33,34,35,36,37,38,39,40) have mixed types. Specify dtype option on import or set low_memory=False.\n",
      "  meta_df = pd.read_csv(metadata_file)\n",
      "Processing batches:   0%|          | 0/1 [00:00<?, ?it/s]huggingface/tokenizers: The current process just got forked, after parallelism has already been used. Disabling parallelism to avoid deadlocks...\n",
      "To disable this warning, you can either:\n",
      "\t- Avoid using `tokenizers` before the fork if possible\n",
      "\t- Explicitly set the environment variable TOKENIZERS_PARALLELISM=(true | false)\n",
      "huggingface/tokenizers: The current process just got forked, after parallelism has already been used. Disabling parallelism to avoid deadlocks...\n",
      "To disable this warning, you can either:\n",
      "\t- Avoid using `tokenizers` before the fork if possible\n",
      "\t- Explicitly set the environment variable TOKENIZERS_PARALLELISM=(true | false)\n",
      "huggingface/tokenizers: The current process just got forked, after parallelism has already been used. Disabling parallelism to avoid deadlocks...\n",
      "To disable this warning, you can either:\n",
      "\t- Avoid using `tokenizers` before the fork if possible\n",
      "\t- Explicitly set the environment variable TOKENIZERS_PARALLELISM=(true | false)\n",
      "huggingface/tokenizers: The current process just got forked, after parallelism has already been used. Disabling parallelism to avoid deadlocks...\n",
      "To disable this warning, you can either:\n",
      "\t- Avoid using `tokenizers` before the fork if possible\n",
      "\t- Explicitly set the environment variable TOKENIZERS_PARALLELISM=(true | false)\n",
      "/tmp/ipykernel_3229947/3384497375.py:41: FutureWarning: `torch.cuda.amp.autocast(args...)` is deprecated. Please use `torch.amp.autocast('cuda', args...)` instead.\n",
      "  with torch.cuda.amp.autocast():  # FP16에서 실행 후 추출\n",
      "Processing batches: 100%|██████████| 1/1 [00:00<00:00,  1.19it/s]\n"
     ]
    },
    {
     "name": "stdout",
     "output_type": "stream",
     "text": [
      "A: 간장: 30%, 고춧가루: 25%, 마늘: 10%, hvphr: 10%, 호박산나트륨: 5%, 정백당: 5%, 흑후추분말: 5%, 국산채소밑국물: 5%, 정제소금: 3%, 다시마엑기스1호: 2%, 아로마일드: 2%, 고추장: 2%, 바지락농축액p: 2%, 정제수: 2%, 볶음양념분: 1%, 양파: 1%, 감칠맛인헨서: 1%, 5리보뉴클레오티딘나트륨: 1%, 잔탄검: 1%, 발효농축액: 1%, 파프리카추출색소: 1%, 찰옥수수전분: 1%, 멸치추출농축액: 1%, 발효맛내기: 1%, 레시틴: 1%, 바지락밑국물p: 1%, 마늘: 1%, 매운맛분말: 1%, 포크엑기스p: 1%\n",
      "간장: 30%, 고춧가루: 25%, 마늘: 10%, hvphr: 10%, 호박산나트륨: 5%, 정백당: 5%, 흑후추분말: 5%, 국산채소밑국물: 5%, 정제소금: 3%, 다시마엑기스1호: 2%, 아로마일드: 2%, 고추장: 2%, 바지락농축액p: 2%, 정제수: 2%, 볶음양념분: 1%, 양파: 1%, 감칠맛인헨서: 1%, 5리보뉴클레오티딘나트륨: 1%, 잔탄검: 1%, 발효농축액: 1%, 파프리카추출색소: 1%, 찰옥수수전분: 1%, 멸치추출농축액: 1%, 발효맛내기: 1%, 레시틴: 1%, 바지락밑국물p: 1%, 마늘: 1%, 매운맛분말: 1%, 포크엑기스p: 1%\n"
     ]
    },
    {
     "name": "stderr",
     "output_type": "stream",
     "text": [
      "/tmp/ipykernel_3229947/1013944166.py:20: DtypeWarning: Columns (20,21,22,23,24,25,26,27,28,29,30,31,32,33,34,35,36,37,38,39,40) have mixed types. Specify dtype option on import or set low_memory=False.\n",
      "  meta_df = pd.read_csv(metadata_file)\n",
      "Processing batches:   0%|          | 0/1 [00:00<?, ?it/s]huggingface/tokenizers: The current process just got forked, after parallelism has already been used. Disabling parallelism to avoid deadlocks...\n",
      "To disable this warning, you can either:\n",
      "\t- Avoid using `tokenizers` before the fork if possible\n",
      "\t- Explicitly set the environment variable TOKENIZERS_PARALLELISM=(true | false)\n",
      "huggingface/tokenizers: The current process just got forked, after parallelism has already been used. Disabling parallelism to avoid deadlocks...\n",
      "To disable this warning, you can either:\n",
      "\t- Avoid using `tokenizers` before the fork if possible\n",
      "\t- Explicitly set the environment variable TOKENIZERS_PARALLELISM=(true | false)\n",
      "huggingface/tokenizers: The current process just got forked, after parallelism has already been used. Disabling parallelism to avoid deadlocks...\n",
      "To disable this warning, you can either:\n",
      "\t- Avoid using `tokenizers` before the fork if possible\n",
      "\t- Explicitly set the environment variable TOKENIZERS_PARALLELISM=(true | false)\n",
      "huggingface/tokenizers: The current process just got forked, after parallelism has already been used. Disabling parallelism to avoid deadlocks...\n",
      "To disable this warning, you can either:\n",
      "\t- Avoid using `tokenizers` before the fork if possible\n",
      "\t- Explicitly set the environment variable TOKENIZERS_PARALLELISM=(true | false)\n",
      "/tmp/ipykernel_3229947/3384497375.py:41: FutureWarning: `torch.cuda.amp.autocast(args...)` is deprecated. Please use `torch.amp.autocast('cuda', args...)` instead.\n",
      "  with torch.cuda.amp.autocast():  # FP16에서 실행 후 추출\n",
      "Processing batches: 100%|██████████| 1/1 [00:00<00:00,  1.17it/s]\n"
     ]
    },
    {
     "name": "stdout",
     "output_type": "stream",
     "text": [
      "A: 된장: 30%, 참기름: 15%, 깨: 10%, 정백당: 10%, 흑후추분말: 5%, 막사보와이비페이스트: 5%, 정제소금: 5%, 고추장: 5%, 볶음참깨: 3%, 고과당: 2%, 소고기엑기스페이스트p: 2%, 저감미당: 2%, 정제수: 10%, 양파: 5%, 잔탄검: 2%, 맑은옥수수유: 2%, 양념소스: 2%, 파프리카추출색소: 1%, 옥수수유: 1%, 사과농축액: 1%, 대구뼈추출물: 1%, 파인애플농축액: 1%, 마늘: 1%, 양조간장: 1%, 사과농축과즙액: 1%\n",
      "된장: 30%, 참기름: 15%, 깨: 10%, 정백당: 10%, 흑후추분말: 5%, 막사보와이비페이스트: 5%, 정제소금: 5%, 고추장: 5%, 볶음참깨: 3%, 고과당: 2%, 소고기엑기스페이스트p: 2%, 저감미당: 2%, 정제수: 10%, 양파: 5%, 잔탄검: 2%, 맑은옥수수유: 2%, 양념소스: 2%, 파프리카추출색소: 1%, 옥수수유: 1%, 사과농축액: 1%, 대구뼈추출물: 1%, 파인애플농축액: 1%, 마늘: 1%, 양조간장: 1%, 사과농축과즙액: 1%\n"
     ]
    },
    {
     "name": "stderr",
     "output_type": "stream",
     "text": [
      "/tmp/ipykernel_3229947/1013944166.py:20: DtypeWarning: Columns (20,21,22,23,24,25,26,27,28,29,30,31,32,33,34,35,36,37,38,39,40) have mixed types. Specify dtype option on import or set low_memory=False.\n",
      "  meta_df = pd.read_csv(metadata_file)\n",
      "Processing batches:   0%|          | 0/1 [00:00<?, ?it/s]huggingface/tokenizers: The current process just got forked, after parallelism has already been used. Disabling parallelism to avoid deadlocks...\n",
      "To disable this warning, you can either:\n",
      "\t- Avoid using `tokenizers` before the fork if possible\n",
      "\t- Explicitly set the environment variable TOKENIZERS_PARALLELISM=(true | false)\n",
      "huggingface/tokenizers: The current process just got forked, after parallelism has already been used. Disabling parallelism to avoid deadlocks...\n",
      "To disable this warning, you can either:\n",
      "\t- Avoid using `tokenizers` before the fork if possible\n",
      "\t- Explicitly set the environment variable TOKENIZERS_PARALLELISM=(true | false)\n",
      "huggingface/tokenizers: The current process just got forked, after parallelism has already been used. Disabling parallelism to avoid deadlocks...\n",
      "To disable this warning, you can either:\n",
      "\t- Avoid using `tokenizers` before the fork if possible\n",
      "\t- Explicitly set the environment variable TOKENIZERS_PARALLELISM=(true | false)\n",
      "huggingface/tokenizers: The current process just got forked, after parallelism has already been used. Disabling parallelism to avoid deadlocks...\n",
      "To disable this warning, you can either:\n",
      "\t- Avoid using `tokenizers` before the fork if possible\n",
      "\t- Explicitly set the environment variable TOKENIZERS_PARALLELISM=(true | false)\n",
      "/tmp/ipykernel_3229947/3384497375.py:41: FutureWarning: `torch.cuda.amp.autocast(args...)` is deprecated. Please use `torch.amp.autocast('cuda', args...)` instead.\n",
      "  with torch.cuda.amp.autocast():  # FP16에서 실행 후 추출\n",
      "Processing batches: 100%|██████████| 1/1 [00:00<00:00,  1.18it/s]\n"
     ]
    },
    {
     "name": "stdout",
     "output_type": "stream",
     "text": [
      "A: 고추장: 40%, 설탕: 25%, 식초: 10%, 아미노베이스p: 5%, 볶음검정깨: 5%, 액상과당: 5%, 잔탄검: 3%, 참기름: 2%, 흑후추분말: 2%, 마요네즈: 2%, 밀분해추출물: 1%, 후추조미분: 1%, 발효식초: 1%, 정제소금: 1%, 향긋한사과식초: 1%, 양조간장: 1%, 볶음참깨분: 0.5%, 구연산: 0.5%, 정제수: 2%, 기타과당: 0.5%, 볶음참깨분말: 0.3%, nan, nan, nan, nan, nan, nan, nan, nan, nan, nan, nan, nan, nan, nan, nan, nan, nan, nan, nan, nan, nan, nan\n",
      "고추장: 40%, 설탕: 25%, 식초: 10%, 아미노베이스p: 5%, 볶음검정깨: 5%, 액상과당: 5%, 잔탄검: 3%, 참기름: 2%, 흑후추분말: 2%, 마요네즈: 2%, 밀분해추출물: 1%, 후추조미분: 1%, 발효식초: 1%, 정제소금: 1%, 향긋한사과식초: 1%, 양조간장: 1%, 볶음참깨분: 0.5%, 구연산: 0.5%, 정제수: 2%, 기타과당: 0.5%, 볶음참깨분말: 0.3%, nan, nan, nan, nan, nan, nan, nan, nan, nan, nan, nan, nan, nan, nan, nan, nan, nan, nan, nan, nan, nan, nan\n"
     ]
    },
    {
     "name": "stderr",
     "output_type": "stream",
     "text": [
      "/tmp/ipykernel_3229947/1013944166.py:20: DtypeWarning: Columns (20,21,22,23,24,25,26,27,28,29,30,31,32,33,34,35,36,37,38,39,40) have mixed types. Specify dtype option on import or set low_memory=False.\n",
      "  meta_df = pd.read_csv(metadata_file)\n",
      "Processing batches:   0%|          | 0/1 [00:00<?, ?it/s]huggingface/tokenizers: The current process just got forked, after parallelism has already been used. Disabling parallelism to avoid deadlocks...\n",
      "To disable this warning, you can either:\n",
      "\t- Avoid using `tokenizers` before the fork if possible\n",
      "\t- Explicitly set the environment variable TOKENIZERS_PARALLELISM=(true | false)\n",
      "huggingface/tokenizers: The current process just got forked, after parallelism has already been used. Disabling parallelism to avoid deadlocks...\n",
      "To disable this warning, you can either:\n",
      "\t- Avoid using `tokenizers` before the fork if possible\n",
      "\t- Explicitly set the environment variable TOKENIZERS_PARALLELISM=(true | false)\n",
      "huggingface/tokenizers: The current process just got forked, after parallelism has already been used. Disabling parallelism to avoid deadlocks...\n",
      "To disable this warning, you can either:\n",
      "\t- Avoid using `tokenizers` before the fork if possible\n",
      "\t- Explicitly set the environment variable TOKENIZERS_PARALLELISM=(true | false)\n",
      "huggingface/tokenizers: The current process just got forked, after parallelism has already been used. Disabling parallelism to avoid deadlocks...\n",
      "To disable this warning, you can either:\n",
      "\t- Avoid using `tokenizers` before the fork if possible\n",
      "\t- Explicitly set the environment variable TOKENIZERS_PARALLELISM=(true | false)\n",
      "/tmp/ipykernel_3229947/3384497375.py:41: FutureWarning: `torch.cuda.amp.autocast(args...)` is deprecated. Please use `torch.amp.autocast('cuda', args...)` instead.\n",
      "  with torch.cuda.amp.autocast():  # FP16에서 실행 후 추출\n",
      "Processing batches: 100%|██████████| 1/1 [00:00<00:00,  1.16it/s]\n"
     ]
    },
    {
     "name": "stdout",
     "output_type": "stream",
     "text": [
      "A: 마요네즈: 40%, 케첩: 30%, 레몬즙: 15%, 맛뜨락참기름: 5%, 중찬명가춘장: 5%, 정제소금: 2%, 대두단백: 2%, 밀분해추출물: 2%, 양배추: 2%, 건표고버섯: 2%, 양파: 2%, 5리보뉴클레오티드이나트륨: 1%, 갈색설탕: 1%, 디하이드로냉동감자: 1%, 찰옥수수전분: 1%, 옥수수유: 1%, 대파: 1%, 마늘: 1%, 아지파루스비에프: 1%, 양조간장: 1%\n",
      "마요네즈: 40%, 케첩: 30%, 레몬즙: 15%, 맛뜨락참기름: 5%, 중찬명가춘장: 5%, 정제소금: 2%, 대두단백: 2%, 밀분해추출물: 2%, 양배추: 2%, 건표고버섯: 2%, 양파: 2%, 5리보뉴클레오티드이나트륨: 1%, 갈색설탕: 1%, 디하이드로냉동감자: 1%, 찰옥수수전분: 1%, 옥수수유: 1%, 대파: 1%, 마늘: 1%, 아지파루스비에프: 1%, 양조간장: 1%\n"
     ]
    },
    {
     "name": "stderr",
     "output_type": "stream",
     "text": [
      "/tmp/ipykernel_3229947/1013944166.py:20: DtypeWarning: Columns (20,21,22,23,24,25,26,27,28,29,30,31,32,33,34,35,36,37,38,39,40) have mixed types. Specify dtype option on import or set low_memory=False.\n",
      "  meta_df = pd.read_csv(metadata_file)\n",
      "Processing batches:   0%|          | 0/1 [00:00<?, ?it/s]huggingface/tokenizers: The current process just got forked, after parallelism has already been used. Disabling parallelism to avoid deadlocks...\n",
      "To disable this warning, you can either:\n",
      "\t- Avoid using `tokenizers` before the fork if possible\n",
      "\t- Explicitly set the environment variable TOKENIZERS_PARALLELISM=(true | false)\n",
      "huggingface/tokenizers: The current process just got forked, after parallelism has already been used. Disabling parallelism to avoid deadlocks...\n",
      "To disable this warning, you can either:\n",
      "\t- Avoid using `tokenizers` before the fork if possible\n",
      "\t- Explicitly set the environment variable TOKENIZERS_PARALLELISM=(true | false)\n",
      "huggingface/tokenizers: The current process just got forked, after parallelism has already been used. Disabling parallelism to avoid deadlocks...\n",
      "To disable this warning, you can either:\n",
      "\t- Avoid using `tokenizers` before the fork if possible\n",
      "\t- Explicitly set the environment variable TOKENIZERS_PARALLELISM=(true | false)\n",
      "huggingface/tokenizers: The current process just got forked, after parallelism has already been used. Disabling parallelism to avoid deadlocks...\n",
      "To disable this warning, you can either:\n",
      "\t- Avoid using `tokenizers` before the fork if possible\n",
      "\t- Explicitly set the environment variable TOKENIZERS_PARALLELISM=(true | false)\n",
      "/tmp/ipykernel_3229947/3384497375.py:41: FutureWarning: `torch.cuda.amp.autocast(args...)` is deprecated. Please use `torch.amp.autocast('cuda', args...)` instead.\n",
      "  with torch.cuda.amp.autocast():  # FP16에서 실행 후 추출\n",
      "Processing batches: 100%|██████████| 1/1 [00:00<00:00,  1.18it/s]\n"
     ]
    },
    {
     "name": "stdout",
     "output_type": "stream",
     "text": [
      "A: 간장: 30%, 설탕: 25%, 생강: 10%, 올레오레진파프리카: 10%, 흑후추분말: 5%, 정제소금: 5%, 고과당: 5%, 볶음참깨: 5%, 소고기엑기스페이스트p: 2.5%, 저감미당: 2.5%, 정제수: 10%, 양파: 5%, 잔탄검: 2.5%, 맑은옥수수유: 2.5%, 참맛고추장골드: 2.5%, 막사버와이비페이스트: 2.5%, 사과농축액: 2.5%, 발효맛내기: 1.5%, 대구뼈추출물: 1.5%, 파인애플농축액: 1.5%, 마늘: 1.5%, 양조간장: 1.5%, 버텍스ig: 0.5%, 난: 0.5%\n",
      "간장: 30%, 설탕: 25%, 생강: 10%, 올레오레진파프리카: 10%, 흑후추분말: 5%, 정제소금: 5%, 고과당: 5%, 볶음참깨: 5%, 소고기엑기스페이스트p: 2.5%, 저감미당: 2.5%, 정제수: 10%, 양파: 5%, 잔탄검: 2.5%, 맑은옥수수유: 2.5%, 참맛고추장골드: 2.5%, 막사버와이비페이스트: 2.5%, 사과농축액: 2.5%, 발효맛내기: 1.5%, 대구뼈추출물: 1.5%, 파인애플농축액: 1.5%, 마늘: 1.5%, 양조간장: 1.5%, 버텍스ig: 0.5%, 난: 0.5%\n"
     ]
    },
    {
     "name": "stderr",
     "output_type": "stream",
     "text": [
      "/tmp/ipykernel_3229947/1013944166.py:20: DtypeWarning: Columns (19,20,21,22,23,24,25,26,27) have mixed types. Specify dtype option on import or set low_memory=False.\n",
      "  meta_df = pd.read_csv(metadata_file)\n",
      "Processing batches:   0%|          | 0/1 [00:00<?, ?it/s]huggingface/tokenizers: The current process just got forked, after parallelism has already been used. Disabling parallelism to avoid deadlocks...\n",
      "To disable this warning, you can either:\n",
      "\t- Avoid using `tokenizers` before the fork if possible\n",
      "\t- Explicitly set the environment variable TOKENIZERS_PARALLELISM=(true | false)\n",
      "huggingface/tokenizers: The current process just got forked, after parallelism has already been used. Disabling parallelism to avoid deadlocks...\n",
      "To disable this warning, you can either:\n",
      "\t- Avoid using `tokenizers` before the fork if possible\n",
      "\t- Explicitly set the environment variable TOKENIZERS_PARALLELISM=(true | false)\n",
      "huggingface/tokenizers: The current process just got forked, after parallelism has already been used. Disabling parallelism to avoid deadlocks...\n",
      "To disable this warning, you can either:\n",
      "\t- Avoid using `tokenizers` before the fork if possible\n",
      "\t- Explicitly set the environment variable TOKENIZERS_PARALLELISM=(true | false)\n",
      "huggingface/tokenizers: The current process just got forked, after parallelism has already been used. Disabling parallelism to avoid deadlocks...\n",
      "To disable this warning, you can either:\n",
      "\t- Avoid using `tokenizers` before the fork if possible\n",
      "\t- Explicitly set the environment variable TOKENIZERS_PARALLELISM=(true | false)\n",
      "/tmp/ipykernel_3229947/3384497375.py:41: FutureWarning: `torch.cuda.amp.autocast(args...)` is deprecated. Please use `torch.amp.autocast('cuda', args...)` instead.\n",
      "  with torch.cuda.amp.autocast():  # FP16에서 실행 후 추출\n",
      "Processing batches: 100%|██████████| 1/1 [00:00<00:00,  1.80it/s]=(true | false)\n",
      "Processing batches: 100%|██████████| 1/1 [00:00<00:00,  1.41it/s]\n"
     ]
    },
    {
     "name": "stdout",
     "output_type": "stream",
     "text": [
      "A: 새우: 50%, 광어살: 20%, 마늘분말: 10%, 옥수수전분: 10%, 대두유: 5%, 정제소금: 5%, 생강분말: 3%, 동원고소한빵가루: 2%\n",
      "새우: 48%, 광어살: 19%, 버터: 3%, 마늘분말: 10%, 옥수수전분: 10%, 대두유: 5%, 정제소금: 5%, 생강분말: 3%, 동원고소한빵가루: 2%.\n"
     ]
    },
    {
     "name": "stderr",
     "output_type": "stream",
     "text": [
      "/tmp/ipykernel_3229947/1013944166.py:20: DtypeWarning: Columns (19,20,21,22,23,24,25,26,27) have mixed types. Specify dtype option on import or set low_memory=False.\n",
      "  meta_df = pd.read_csv(metadata_file)\n",
      "Processing batches:   0%|          | 0/1 [00:00<?, ?it/s]huggingface/tokenizers: The current process just got forked, after parallelism has already been used. Disabling parallelism to avoid deadlocks...\n",
      "To disable this warning, you can either:\n",
      "\t- Avoid using `tokenizers` before the fork if possible\n",
      "\t- Explicitly set the environment variable TOKENIZERS_PARALLELISM=(true | false)\n",
      "huggingface/tokenizers: The current process just got forked, after parallelism has already been used. Disabling parallelism to avoid deadlocks...\n",
      "To disable this warning, you can either:\n",
      "\t- Avoid using `tokenizers` before the fork if possible\n",
      "\t- Explicitly set the environment variable TOKENIZERS_PARALLELISM=(true | false)\n",
      "huggingface/tokenizers: The current process just got forked, after parallelism has already been used. Disabling parallelism to avoid deadlocks...\n",
      "To disable this warning, you can either:\n",
      "\t- Avoid using `tokenizers` before the fork if possible\n",
      "\t- Explicitly set the environment variable TOKENIZERS_PARALLELISM=(true | false)\n",
      "huggingface/tokenizers: The current process just got forked, after parallelism has already been used. Disabling parallelism to avoid deadlocks...\n",
      "To disable this warning, you can either:\n",
      "\t- Avoid using `tokenizers` before the fork if possible\n",
      "\t- Explicitly set the environment variable TOKENIZERS_PARALLELISM=(true | false)\n",
      "/tmp/ipykernel_3229947/3384497375.py:41: FutureWarning: `torch.cuda.amp.autocast(args...)` is deprecated. Please use `torch.amp.autocast('cuda', args...)` instead.\n",
      "  with torch.cuda.amp.autocast():  # FP16에서 실행 후 추출\n",
      "Processing batches: 100%|██████████| 1/1 [00:00<00:00,  1.45it/s]\n"
     ]
    },
    {
     "name": "stdout",
     "output_type": "stream",
     "text": [
      "A: 고등어: 40%, 간장: 20%, 무: 15%, 고추씨기름: 10%, 정백당: 5%, 건조새우: 5%, 김: 5%, 참기름: 3%, 볶음참깨: 2%, 계란난황립: 2%, 천일염: 2%, 칼슘소금: 2%, 건새우: 1%, 건조멸치: 1%, 건멸치: 1%, 들기름: 1%, 파래김: 1%, 현미유: 1%\n",
      "고등어: 40%, 간장: 20%, 무: 15%, 고추씨기름: 10%, 정백당: 5%, 건조새우: 5%, 김: 5%, 참기름: 3%, 볶음참깨: 2%, 계란난황립: 2%, 천일염: 2%, 칼슘소금: 2%, 건새우: 1%, 건조멸치: 1%, 건멸치: 1%, 들기름: 1%, 파래김: 1%, 현미유: 1%\n"
     ]
    },
    {
     "name": "stderr",
     "output_type": "stream",
     "text": [
      "/tmp/ipykernel_3229947/1013944166.py:20: DtypeWarning: Columns (19,20,21,22,23,24,25,26,27) have mixed types. Specify dtype option on import or set low_memory=False.\n",
      "  meta_df = pd.read_csv(metadata_file)\n",
      "Processing batches:   0%|          | 0/1 [00:00<?, ?it/s]huggingface/tokenizers: The current process just got forked, after parallelism has already been used. Disabling parallelism to avoid deadlocks...\n",
      "To disable this warning, you can either:\n",
      "\t- Avoid using `tokenizers` before the fork if possible\n",
      "\t- Explicitly set the environment variable TOKENIZERS_PARALLELISM=(true | false)\n",
      "huggingface/tokenizers: The current process just got forked, after parallelism has already been used. Disabling parallelism to avoid deadlocks...\n",
      "To disable this warning, you can either:\n",
      "\t- Avoid using `tokenizers` before the fork if possible\n",
      "\t- Explicitly set the environment variable TOKENIZERS_PARALLELISM=(true | false)\n",
      "huggingface/tokenizers: The current process just got forked, after parallelism has already been used. Disabling parallelism to avoid deadlocks...\n",
      "To disable this warning, you can either:\n",
      "\t- Avoid using `tokenizers` before the fork if possible\n",
      "\t- Explicitly set the environment variable TOKENIZERS_PARALLELISM=(true | false)\n",
      "huggingface/tokenizers: The current process just got forked, after parallelism has already been used. Disabling parallelism to avoid deadlocks...\n",
      "To disable this warning, you can either:\n",
      "\t- Avoid using `tokenizers` before the fork if possible\n",
      "\t- Explicitly set the environment variable TOKENIZERS_PARALLELISM=(true | false)\n",
      "/tmp/ipykernel_3229947/3384497375.py:41: FutureWarning: `torch.cuda.amp.autocast(args...)` is deprecated. Please use `torch.amp.autocast('cuda', args...)` instead.\n",
      "  with torch.cuda.amp.autocast():  # FP16에서 실행 후 추출\n",
      "Processing batches: 100%|██████████| 1/1 [00:00<00:00,  1.46it/s]\n"
     ]
    },
    {
     "name": "stdout",
     "output_type": "stream",
     "text": [
      "A: 명태: 50%, 소맥전분: 15%, 건조빵가루: 10%, 연육: 10%, 난백액: 5%, 정제소금: 5%, 쌀떡볶이: 3%, 백설탕: 2%, 폴리인산나트륨: 2%, 양배추: 2%, 양파: 2%, Vege860: 1%, 5'-리보뉴클레오티딘이나트륨: 1%, 당근: 1%, 새우농축액: 1%, 마스킹시즈닝: 1%, 대파: 1%, 흑후추: 1%, 두부: 1%, 참기름: 1%, 마늘: 1%, 대두유: 1%, 조개추출물분말: 0.5%, nan, nan, nan, nan\n",
      "A: 명태: 48%, 소맥전분: 13%, 건조빵가루: 9%, 연육: 9%, 난백액: 5%, 정제소금: 5%, 쌀떡볶이: 2%, 백설탕: 2%, 폴리인산나트륨: 2%, 양배추: 1%, 양파: 1%, Vege860: 1%, 리보뉴클레오티딘이나트륨: 1%, 당근: 1%, 새우농축액: 1%, 마스킹시즈닝: 1%, 대파: 1%, 흑후추: 1%, 두부: 1%, 참기름: 1%, 마늘: 1%, 대두유: 1%, 고춧가루: 2%.\n"
     ]
    },
    {
     "name": "stderr",
     "output_type": "stream",
     "text": [
      "/tmp/ipykernel_3229947/1013944166.py:20: DtypeWarning: Columns (19,20,21,22,23,24,25,26,27) have mixed types. Specify dtype option on import or set low_memory=False.\n",
      "  meta_df = pd.read_csv(metadata_file)\n",
      "Processing batches:   0%|          | 0/1 [00:00<?, ?it/s]huggingface/tokenizers: The current process just got forked, after parallelism has already been used. Disabling parallelism to avoid deadlocks...\n",
      "To disable this warning, you can either:\n",
      "\t- Avoid using `tokenizers` before the fork if possible\n",
      "\t- Explicitly set the environment variable TOKENIZERS_PARALLELISM=(true | false)\n",
      "huggingface/tokenizers: The current process just got forked, after parallelism has already been used. Disabling parallelism to avoid deadlocks...\n",
      "To disable this warning, you can either:\n",
      "\t- Avoid using `tokenizers` before the fork if possible\n",
      "\t- Explicitly set the environment variable TOKENIZERS_PARALLELISM=(true | false)\n",
      "huggingface/tokenizers: The current process just got forked, after parallelism has already been used. Disabling parallelism to avoid deadlocks...\n",
      "To disable this warning, you can either:\n",
      "\t- Avoid using `tokenizers` before the fork if possible\n",
      "\t- Explicitly set the environment variable TOKENIZERS_PARALLELISM=(true | false)\n",
      "huggingface/tokenizers: The current process just got forked, after parallelism has already been used. Disabling parallelism to avoid deadlocks...\n",
      "To disable this warning, you can either:\n",
      "\t- Avoid using `tokenizers` before the fork if possible\n",
      "\t- Explicitly set the environment variable TOKENIZERS_PARALLELISM=(true | false)\n",
      "/tmp/ipykernel_3229947/3384497375.py:41: FutureWarning: `torch.cuda.amp.autocast(args...)` is deprecated. Please use `torch.amp.autocast('cuda', args...)` instead.\n",
      "  with torch.cuda.amp.autocast():  # FP16에서 실행 후 추출\n",
      "Processing batches: 100%|██████████| 1/1 [00:00<00:00,  1.49it/s]\n"
     ]
    },
    {
     "name": "stdout",
     "output_type": "stream",
     "text": [
      "A: 조개: 50%, 된장: 10%, 다시마: 5%, 흑후추분말: 2%, 소맥전분: 5%, 건조빵가루: 3%, 연육: 5%, 난백액: 5%, 마스킹시즈닝분말: 2%, 밀가루: 10%, 정제소금: 2%, 카레분약간매운맛: 1%, 아미노베이스p: 2%, 설탕: 3%, 폴리인산나트륨: 1%, 생강: 1%, 해물엑기스: 5%, 양배추: 5%, 양파: 5%, 5리보뉴클레오티드이나트륨: 1%, 게맛살: 2%, 복합씨즈닝분말: 3%, 당근: 5%, 대파: 3%, 크랩엑기스: 2%, 마늘: 2%, 대두유: 2%, 연근: 2%, 전란액: 2%\n",
      "조개: 50%, 된장: 10%, 다시마: 5%, 흑후추분말: 2%, 소맥전분: 5%, 건조빵가루: 3%, 연육: 5%, 난백액: 5%, 마스킹시즈닝분말: 2%, 밀가루: 10%, 정제소금: 2%, 카레분약간매운맛: 1%, 아미노베이스p: 2%, 설탕: 3%, 폴리인산나트륨: 1%, 생강: 1%, 해물엑기스: 5%, 양배추: 5%, 양파: 5%, 5리보뉴클레오티드이나트륨: 1%, 게맛살: 2%, 복합씨즈닝분말: 3%, 당근: 5%, 대파: 3%, 크랩엑기스: 2%, 마늘: 2%, 대두유: 2%, 연근: 2%, 전란액: 2%\n"
     ]
    },
    {
     "name": "stderr",
     "output_type": "stream",
     "text": [
      "/tmp/ipykernel_3229947/1013944166.py:20: DtypeWarning: Columns (19,20,21,22,23,24,25,26,27) have mixed types. Specify dtype option on import or set low_memory=False.\n",
      "  meta_df = pd.read_csv(metadata_file)\n",
      "Processing batches:   0%|          | 0/1 [00:00<?, ?it/s]huggingface/tokenizers: The current process just got forked, after parallelism has already been used. Disabling parallelism to avoid deadlocks...\n",
      "To disable this warning, you can either:\n",
      "\t- Avoid using `tokenizers` before the fork if possible\n",
      "\t- Explicitly set the environment variable TOKENIZERS_PARALLELISM=(true | false)\n",
      "huggingface/tokenizers: The current process just got forked, after parallelism has already been used. Disabling parallelism to avoid deadlocks...\n",
      "To disable this warning, you can either:\n",
      "\t- Avoid using `tokenizers` before the fork if possible\n",
      "\t- Explicitly set the environment variable TOKENIZERS_PARALLELISM=(true | false)\n",
      "huggingface/tokenizers: The current process just got forked, after parallelism has already been used. Disabling parallelism to avoid deadlocks...\n",
      "To disable this warning, you can either:\n",
      "\t- Avoid using `tokenizers` before the fork if possible\n",
      "\t- Explicitly set the environment variable TOKENIZERS_PARALLELISM=(true | false)\n",
      "huggingface/tokenizers: The current process just got forked, after parallelism has already been used. Disabling parallelism to avoid deadlocks...\n",
      "To disable this warning, you can either:\n",
      "\t- Avoid using `tokenizers` before the fork if possible\n",
      "\t- Explicitly set the environment variable TOKENIZERS_PARALLELISM=(true | false)\n",
      "/tmp/ipykernel_3229947/3384497375.py:41: FutureWarning: `torch.cuda.amp.autocast(args...)` is deprecated. Please use `torch.amp.autocast('cuda', args...)` instead.\n",
      "  with torch.cuda.amp.autocast():  # FP16에서 실행 후 추출\n",
      "Processing batches: 100%|██████████| 1/1 [00:00<00:00,  1.44it/s]\n"
     ]
    },
    {
     "name": "stdout",
     "output_type": "stream",
     "text": [
      "A: 오징어: 40%, 양배추: 25%, 타이미: 10%, 효모추출물혼합분말: 10%, 정백당: 5%, 연육명태aa: 5%, 유산균배양액혼합분말: 3%, 쇠고기추출분말p: 2%, 소맥전분: 2%, 마늘: 2%, 대두유: 2%, 폴리인산나트륨: 1%, 감자: 1%, 냉동대파: 1%, 정제염: 1%, 당근: 1%, 고추: 1%\n",
      "오징어: 38%, 양배추: 24%, 타이미: 9%, 효모추출물혼합분말: 9%, 정백당: 5%, 연육명태aa: 5%, 유산균배양액혼합분말: 3%, 쇠고기추출분말p: 2%, 소맥전분: 2%, 마늘: 2%, 대두유: 2%, 폴리인산나트륨: 1%, 감자: 1%, 냉동대파: 1%, 정제염: 1%, 당근: 1%, 고추: 1%, 고추장: 3%, 양파: 3%.\n"
     ]
    },
    {
     "name": "stderr",
     "output_type": "stream",
     "text": [
      "/tmp/ipykernel_3229947/1013944166.py:20: DtypeWarning: Columns (17,18,19,20,21) have mixed types. Specify dtype option on import or set low_memory=False.\n",
      "  meta_df = pd.read_csv(metadata_file)\n",
      "Processing batches:   0%|          | 0/1 [00:00<?, ?it/s]huggingface/tokenizers: The current process just got forked, after parallelism has already been used. Disabling parallelism to avoid deadlocks...\n",
      "To disable this warning, you can either:\n",
      "\t- Avoid using `tokenizers` before the fork if possible\n",
      "\t- Explicitly set the environment variable TOKENIZERS_PARALLELISM=(true | false)\n",
      "huggingface/tokenizers: The current process just got forked, after parallelism has already been used. Disabling parallelism to avoid deadlocks...\n",
      "To disable this warning, you can either:\n",
      "\t- Avoid using `tokenizers` before the fork if possible\n",
      "\t- Explicitly set the environment variable TOKENIZERS_PARALLELISM=(true | false)\n",
      "huggingface/tokenizers: The current process just got forked, after parallelism has already been used. Disabling parallelism to avoid deadlocks...\n",
      "To disable this warning, you can either:\n",
      "\t- Avoid using `tokenizers` before the fork if possible\n",
      "\t- Explicitly set the environment variable TOKENIZERS_PARALLELISM=(true | false)\n",
      "huggingface/tokenizers: The current process just got forked, after parallelism has already been used. Disabling parallelism to avoid deadlocks...\n",
      "To disable this warning, you can either:\n",
      "\t- Avoid using `tokenizers` before the fork if possible\n",
      "\t- Explicitly set the environment variable TOKENIZERS_PARALLELISM=(true | false)\n",
      "/tmp/ipykernel_3229947/3384497375.py:41: FutureWarning: `torch.cuda.amp.autocast(args...)` is deprecated. Please use `torch.amp.autocast('cuda', args...)` instead.\n",
      "  with torch.cuda.amp.autocast():  # FP16에서 실행 후 추출\n",
      "Processing batches: 100%|██████████| 1/1 [00:00<00:00,  1.49it/s]\n"
     ]
    },
    {
     "name": "stdout",
     "output_type": "stream",
     "text": [
      "A: 커피: 30%, 우유: 25%, 설탕: 15%, 정제염: 10%, 볶음쌀가루: 5%, 볶음귀리분말: 5%, 내츄락스: 5%, 참깨페이스트: 5%, 볶음통밀분말: 5%, 가는정백당: 5%, 볶은콩가루: 5%, 생크림: 5%, 볶음현미분말: 5%, 볶은퀴노아분말: 5%, 렌틸콩볶음분말: 5%\n",
      "커피: 30%, 우유: 25%, 설탕: 15%, 정제염: 10%, 볶음쌀가루: 5%, 볶음귀리분말: 5%, 내츄락스: 5%, 참깨페이스트: 5%, 볶음통밀분말: 5%, 가는정백당: 5%, 볶은콩가루: 5%, 생크림: 5%, 볶음현미분말: 5%, 볶은퀴노아분말: 5%, 렌틸콩볶음분말: 5%\n"
     ]
    },
    {
     "name": "stderr",
     "output_type": "stream",
     "text": [
      "/tmp/ipykernel_3229947/1013944166.py:20: DtypeWarning: Columns (17,18,19,20,21) have mixed types. Specify dtype option on import or set low_memory=False.\n",
      "  meta_df = pd.read_csv(metadata_file)\n",
      "Processing batches:   0%|          | 0/1 [00:00<?, ?it/s]huggingface/tokenizers: The current process just got forked, after parallelism has already been used. Disabling parallelism to avoid deadlocks...\n",
      "To disable this warning, you can either:\n",
      "\t- Avoid using `tokenizers` before the fork if possible\n",
      "\t- Explicitly set the environment variable TOKENIZERS_PARALLELISM=(true | false)\n",
      "huggingface/tokenizers: The current process just got forked, after parallelism has already been used. Disabling parallelism to avoid deadlocks...\n",
      "To disable this warning, you can either:\n",
      "\t- Avoid using `tokenizers` before the fork if possible\n",
      "\t- Explicitly set the environment variable TOKENIZERS_PARALLELISM=(true | false)\n",
      "huggingface/tokenizers: The current process just got forked, after parallelism has already been used. Disabling parallelism to avoid deadlocks...\n",
      "To disable this warning, you can either:\n",
      "\t- Avoid using `tokenizers` before the fork if possible\n",
      "\t- Explicitly set the environment variable TOKENIZERS_PARALLELISM=(true | false)\n",
      "huggingface/tokenizers: The current process just got forked, after parallelism has already been used. Disabling parallelism to avoid deadlocks...\n",
      "To disable this warning, you can either:\n",
      "\t- Avoid using `tokenizers` before the fork if possible\n",
      "\t- Explicitly set the environment variable TOKENIZERS_PARALLELISM=(true | false)\n",
      "/tmp/ipykernel_3229947/3384497375.py:41: FutureWarning: `torch.cuda.amp.autocast(args...)` is deprecated. Please use `torch.amp.autocast('cuda', args...)` instead.\n",
      "  with torch.cuda.amp.autocast():  # FP16에서 실행 후 추출\n",
      "Processing batches: 100%|██████████| 1/1 [00:00<00:00,  1.47it/s]\n"
     ]
    },
    {
     "name": "stdout",
     "output_type": "stream",
     "text": [
      "A: 홍차: 30%, 우유: 25%, 화이바솔2l난소화성말토덱스트린: 10%, 백설탕: 10%, 잡화꿀: 10%, 비타민b1염산염: 5%, 천연유자향: 5%, 레몬농축액: 5%, 제주감귤주스농축: 5%, 유자와배: 5%, 천연레몬향: 3%, 유자과즙: 2%, 정제수: 2%, 구연산: 1%\n",
      "홍차: 30%, 우유: 25%, 화이바솔2l난소화성말토덱스트린: 10%, 백설탕: 10%, 잡화꿀: 10%, 비타민b1염산염: 5%, 천연유자향: 5%, 레몬농축액: 5%, 제주감귤주스농축: 5%, 유자와배: 5%, 천연레몬향: 3%, 유자과즙: 2%, 정제수: 2%, 구연산: 1%\n"
     ]
    },
    {
     "name": "stderr",
     "output_type": "stream",
     "text": [
      "/tmp/ipykernel_3229947/1013944166.py:20: DtypeWarning: Columns (17,18,19,20,21) have mixed types. Specify dtype option on import or set low_memory=False.\n",
      "  meta_df = pd.read_csv(metadata_file)\n",
      "Processing batches:   0%|          | 0/1 [00:00<?, ?it/s]huggingface/tokenizers: The current process just got forked, after parallelism has already been used. Disabling parallelism to avoid deadlocks...\n",
      "To disable this warning, you can either:\n",
      "\t- Avoid using `tokenizers` before the fork if possible\n",
      "\t- Explicitly set the environment variable TOKENIZERS_PARALLELISM=(true | false)\n",
      "huggingface/tokenizers: The current process just got forked, after parallelism has already been used. Disabling parallelism to avoid deadlocks...\n",
      "To disable this warning, you can either:\n",
      "\t- Avoid using `tokenizers` before the fork if possible\n",
      "\t- Explicitly set the environment variable TOKENIZERS_PARALLELISM=(true | false)\n",
      "huggingface/tokenizers: The current process just got forked, after parallelism has already been used. Disabling parallelism to avoid deadlocks...\n",
      "To disable this warning, you can either:\n",
      "\t- Avoid using `tokenizers` before the fork if possible\n",
      "\t- Explicitly set the environment variable TOKENIZERS_PARALLELISM=(true | false)\n",
      "huggingface/tokenizers: The current process just got forked, after parallelism has already been used. Disabling parallelism to avoid deadlocks...\n",
      "To disable this warning, you can either:\n",
      "\t- Avoid using `tokenizers` before the fork if possible\n",
      "\t- Explicitly set the environment variable TOKENIZERS_PARALLELISM=(true | false)\n",
      "/tmp/ipykernel_3229947/3384497375.py:41: FutureWarning: `torch.cuda.amp.autocast(args...)` is deprecated. Please use `torch.amp.autocast('cuda', args...)` instead.\n",
      "  with torch.cuda.amp.autocast():  # FP16에서 실행 후 추출\n",
      "Processing batches: 100%|██████████| 1/1 [00:00<00:00,  1.50it/s]\n"
     ]
    },
    {
     "name": "stdout",
     "output_type": "stream",
     "text": [
      "A: 과일: 40%, 파인애플다이스: 25%, 액상과당: 10%, 정제수: 10%, 시럽: 5%, 백설탕: 5%, 구연산: 3%, 비타민C: 2%, 젤란검: 2%, 천연오렌지향: 1%, 파인애플농축액: 1%, 파인애플향: 1%, 블러드오렌지농축액: 1%\n",
      "과일: 36%, 파인애플다이스: 24%, 액상과당: 9%, 정제수: 8%, 시럽: 5%, 백설탕: 5%, 구연산: 3%, 비타민C: 2%, 젤란검: 2%, 천연오렌지향: 1%, 파인애플농축액: 1%, 파인애플향: 1%, 블러드오렌지농축액: 1%, 얼음: 4%.\n"
     ]
    },
    {
     "name": "stderr",
     "output_type": "stream",
     "text": [
      "/tmp/ipykernel_3229947/1013944166.py:20: DtypeWarning: Columns (17,18,19,20,21) have mixed types. Specify dtype option on import or set low_memory=False.\n",
      "  meta_df = pd.read_csv(metadata_file)\n",
      "Processing batches:   0%|          | 0/1 [00:00<?, ?it/s]huggingface/tokenizers: The current process just got forked, after parallelism has already been used. Disabling parallelism to avoid deadlocks...\n",
      "To disable this warning, you can either:\n",
      "\t- Avoid using `tokenizers` before the fork if possible\n",
      "\t- Explicitly set the environment variable TOKENIZERS_PARALLELISM=(true | false)\n",
      "huggingface/tokenizers: The current process just got forked, after parallelism has already been used. Disabling parallelism to avoid deadlocks...\n",
      "To disable this warning, you can either:\n",
      "\t- Avoid using `tokenizers` before the fork if possible\n",
      "\t- Explicitly set the environment variable TOKENIZERS_PARALLELISM=(true | false)\n",
      "huggingface/tokenizers: The current process just got forked, after parallelism has already been used. Disabling parallelism to avoid deadlocks...\n",
      "To disable this warning, you can either:\n",
      "\t- Avoid using `tokenizers` before the fork if possible\n",
      "\t- Explicitly set the environment variable TOKENIZERS_PARALLELISM=(true | false)\n",
      "huggingface/tokenizers: The current process just got forked, after parallelism has already been used. Disabling parallelism to avoid deadlocks...\n",
      "To disable this warning, you can either:\n",
      "\t- Avoid using `tokenizers` before the fork if possible\n",
      "\t- Explicitly set the environment variable TOKENIZERS_PARALLELISM=(true | false)\n",
      "/tmp/ipykernel_3229947/3384497375.py:41: FutureWarning: `torch.cuda.amp.autocast(args...)` is deprecated. Please use `torch.amp.autocast('cuda', args...)` instead.\n",
      "  with torch.cuda.amp.autocast():  # FP16에서 실행 후 추출\n",
      "Processing batches: 100%|██████████| 1/1 [00:00<00:00,  1.53it/s]\n"
     ]
    },
    {
     "name": "stdout",
     "output_type": "stream",
     "text": [
      "A: 레몬: 20%, 설탕: 15%, 탄산수: 30%, 액상과당: 10%, 효소처리스테비아: 5%, 레몬농축액: 10%, 함수구연산: 5%, 라임주스농축액: 5%, 정제수: 15%\n",
      "레몬: 20%, 설탕: 15%, 탄산수: 30%, 액상과당: 10%, 효소처리스테비아: 5%, 레몬농축액: 10%, 함수구연산: 5%, 라임주스농축액: 5%, 정제수: 15%\n"
     ]
    },
    {
     "name": "stderr",
     "output_type": "stream",
     "text": [
      "/tmp/ipykernel_3229947/1013944166.py:20: DtypeWarning: Columns (17,18,19,20,21) have mixed types. Specify dtype option on import or set low_memory=False.\n",
      "  meta_df = pd.read_csv(metadata_file)\n",
      "Processing batches:   0%|          | 0/1 [00:00<?, ?it/s]huggingface/tokenizers: The current process just got forked, after parallelism has already been used. Disabling parallelism to avoid deadlocks...\n",
      "To disable this warning, you can either:\n",
      "\t- Avoid using `tokenizers` before the fork if possible\n",
      "\t- Explicitly set the environment variable TOKENIZERS_PARALLELISM=(true | false)\n",
      "huggingface/tokenizers: The current process just got forked, after parallelism has already been used. Disabling parallelism to avoid deadlocks...\n",
      "To disable this warning, you can either:\n",
      "\t- Avoid using `tokenizers` before the fork if possible\n",
      "\t- Explicitly set the environment variable TOKENIZERS_PARALLELISM=(true | false)\n",
      "huggingface/tokenizers: The current process just got forked, after parallelism has already been used. Disabling parallelism to avoid deadlocks...\n",
      "To disable this warning, you can either:\n",
      "\t- Avoid using `tokenizers` before the fork if possible\n",
      "\t- Explicitly set the environment variable TOKENIZERS_PARALLELISM=(true | false)\n",
      "huggingface/tokenizers: The current process just got forked, after parallelism has already been used. Disabling parallelism to avoid deadlocks...\n",
      "To disable this warning, you can either:\n",
      "\t- Avoid using `tokenizers` before the fork if possible\n",
      "\t- Explicitly set the environment variable TOKENIZERS_PARALLELISM=(true | false)\n",
      "/tmp/ipykernel_3229947/3384497375.py:41: FutureWarning: `torch.cuda.amp.autocast(args...)` is deprecated. Please use `torch.amp.autocast('cuda', args...)` instead.\n",
      "  with torch.cuda.amp.autocast():  # FP16에서 실행 후 추출\n",
      "Processing batches: 100%|██████████| 1/1 [00:00<00:00,  1.49it/s]\n"
     ]
    },
    {
     "name": "stdout",
     "output_type": "stream",
     "text": [
      "A: 녹차: 20%, 글리세린지방산에스테르: 15%, 오렌지주스: 15%, 정백당: 15%, 잡화꿀: 10%, 플레인요거트: 10%, 오렌지농축주스: 5%, 천연오렌지향: 5%, 파인애플다이스: 5%, 레몬농축주스: 5%, 정제수: 20%\n",
      "녹차: 20%, 글리세린지방산에스테르: 15%, 오렌지주스: 15%, 정백당: 15%, 잡화꿀: 10%, 플레인요거트: 10%, 오렌지농축주스: 5%, 천연오렌지향: 5%, 파인애플다이스: 5%, 레몬농축주스: 5%, 정제수: 20%\n"
     ]
    },
    {
     "name": "stderr",
     "output_type": "stream",
     "text": [
      "/tmp/ipykernel_3229947/1013944166.py:20: DtypeWarning: Columns (17,18,19,20,21,22,23,24,25,26,27) have mixed types. Specify dtype option on import or set low_memory=False.\n",
      "  meta_df = pd.read_csv(metadata_file)\n",
      "Processing batches:   0%|          | 0/1 [00:00<?, ?it/s]huggingface/tokenizers: The current process just got forked, after parallelism has already been used. Disabling parallelism to avoid deadlocks...\n",
      "To disable this warning, you can either:\n",
      "\t- Avoid using `tokenizers` before the fork if possible\n",
      "\t- Explicitly set the environment variable TOKENIZERS_PARALLELISM=(true | false)\n",
      "huggingface/tokenizers: The current process just got forked, after parallelism has already been used. Disabling parallelism to avoid deadlocks...\n",
      "To disable this warning, you can either:\n",
      "\t- Avoid using `tokenizers` before the fork if possible\n",
      "\t- Explicitly set the environment variable TOKENIZERS_PARALLELISM=(true | false)\n",
      "huggingface/tokenizers: The current process just got forked, after parallelism has already been used. Disabling parallelism to avoid deadlocks...\n",
      "To disable this warning, you can either:\n",
      "\t- Avoid using `tokenizers` before the fork if possible\n",
      "\t- Explicitly set the environment variable TOKENIZERS_PARALLELISM=(true | false)\n",
      "huggingface/tokenizers: The current process just got forked, after parallelism has already been used. Disabling parallelism to avoid deadlocks...\n",
      "To disable this warning, you can either:\n",
      "\t- Avoid using `tokenizers` before the fork if possible\n",
      "\t- Explicitly set the environment variable TOKENIZERS_PARALLELISM=(true | false)\n",
      "/tmp/ipykernel_3229947/3384497375.py:41: FutureWarning: `torch.cuda.amp.autocast(args...)` is deprecated. Please use `torch.amp.autocast('cuda', args...)` instead.\n",
      "  with torch.cuda.amp.autocast():  # FP16에서 실행 후 추출\n",
      "Processing batches: 100%|██████████| 1/1 [00:00<00:00,  1.47it/s]\n"
     ]
    },
    {
     "name": "stdout",
     "output_type": "stream",
     "text": [
      "A: 밀가루: 50%, 버터: 20%, 설탕: 15%, 중력분: 10%, 고다골드스트링: 5%, 대두유: 5%, 파슬리후레이크: 3%, 빵가루: 2%\n",
      "밀가루: 50%, 버터: 20%, 설탕: 15%, 중력분: 10%, 고다골드스트링: 5%, 대두유: 5%, 파슬리후레이크: 3%, 빵가루: 2%\n"
     ]
    },
    {
     "name": "stderr",
     "output_type": "stream",
     "text": [
      "/tmp/ipykernel_3229947/1013944166.py:20: DtypeWarning: Columns (17,18,19,20,21,22,23,24,25,26,27) have mixed types. Specify dtype option on import or set low_memory=False.\n",
      "  meta_df = pd.read_csv(metadata_file)\n",
      "Processing batches:   0%|          | 0/1 [00:00<?, ?it/s]huggingface/tokenizers: The current process just got forked, after parallelism has already been used. Disabling parallelism to avoid deadlocks...\n",
      "To disable this warning, you can either:\n",
      "\t- Avoid using `tokenizers` before the fork if possible\n",
      "\t- Explicitly set the environment variable TOKENIZERS_PARALLELISM=(true | false)\n",
      "huggingface/tokenizers: The current process just got forked, after parallelism has already been used. Disabling parallelism to avoid deadlocks...\n",
      "To disable this warning, you can either:\n",
      "\t- Avoid using `tokenizers` before the fork if possible\n",
      "\t- Explicitly set the environment variable TOKENIZERS_PARALLELISM=(true | false)\n",
      "huggingface/tokenizers: The current process just got forked, after parallelism has already been used. Disabling parallelism to avoid deadlocks...\n",
      "To disable this warning, you can either:\n",
      "\t- Avoid using `tokenizers` before the fork if possible\n",
      "\t- Explicitly set the environment variable TOKENIZERS_PARALLELISM=(true | false)\n",
      "huggingface/tokenizers: The current process just got forked, after parallelism has already been used. Disabling parallelism to avoid deadlocks...\n",
      "To disable this warning, you can either:\n",
      "\t- Avoid using `tokenizers` before the fork if possible\n",
      "\t- Explicitly set the environment variable TOKENIZERS_PARALLELISM=(true | false)\n",
      "/tmp/ipykernel_3229947/3384497375.py:41: FutureWarning: `torch.cuda.amp.autocast(args...)` is deprecated. Please use `torch.amp.autocast('cuda', args...)` instead.\n",
      "  with torch.cuda.amp.autocast():  # FP16에서 실행 후 추출\n",
      "Processing batches: 100%|██████████| 1/1 [00:00<00:00,  1.54it/s]\n"
     ]
    },
    {
     "name": "stdout",
     "output_type": "stream",
     "text": [
      "A: 계란: 20%, 밀가루: 40%, 우유: 15%, 수수: 10%, 유기농전지분유: 5%, 백태: 5%, 볶은소금: 3%, 유기농코코아분말: 2%, 유기농찹쌀: 2%, 우리밀: 2%, 유기농현미: 2%, 유기농흑미: 2%, 유기농설탕: 1%\n",
      "계란: 20%, 밀가루: 40%, 우유: 15%, 수수: 10%, 유기농전지분유: 5%, 백태: 5%, 볶은소금: 3%, 유기농코코아분말: 2%, 유기농찹쌀: 2%, 우리밀: 2%, 유기농현미: 2%, 유기농흑미: 2%, 유기농설탕: 1%\n"
     ]
    },
    {
     "name": "stderr",
     "output_type": "stream",
     "text": [
      "/tmp/ipykernel_3229947/1013944166.py:20: DtypeWarning: Columns (17,18,19,20,21,22,23,24,25,26,27) have mixed types. Specify dtype option on import or set low_memory=False.\n",
      "  meta_df = pd.read_csv(metadata_file)\n",
      "Processing batches:   0%|          | 0/1 [00:00<?, ?it/s]huggingface/tokenizers: The current process just got forked, after parallelism has already been used. Disabling parallelism to avoid deadlocks...\n",
      "To disable this warning, you can either:\n",
      "\t- Avoid using `tokenizers` before the fork if possible\n",
      "\t- Explicitly set the environment variable TOKENIZERS_PARALLELISM=(true | false)\n",
      "huggingface/tokenizers: The current process just got forked, after parallelism has already been used. Disabling parallelism to avoid deadlocks...\n",
      "To disable this warning, you can either:\n",
      "\t- Avoid using `tokenizers` before the fork if possible\n",
      "\t- Explicitly set the environment variable TOKENIZERS_PARALLELISM=(true | false)\n",
      "huggingface/tokenizers: The current process just got forked, after parallelism has already been used. Disabling parallelism to avoid deadlocks...\n",
      "To disable this warning, you can either:\n",
      "\t- Avoid using `tokenizers` before the fork if possible\n",
      "\t- Explicitly set the environment variable TOKENIZERS_PARALLELISM=(true | false)\n",
      "huggingface/tokenizers: The current process just got forked, after parallelism has already been used. Disabling parallelism to avoid deadlocks...\n",
      "To disable this warning, you can either:\n",
      "\t- Avoid using `tokenizers` before the fork if possible\n",
      "\t- Explicitly set the environment variable TOKENIZERS_PARALLELISM=(true | false)\n",
      "/tmp/ipykernel_3229947/3384497375.py:41: FutureWarning: `torch.cuda.amp.autocast(args...)` is deprecated. Please use `torch.amp.autocast('cuda', args...)` instead.\n",
      "  with torch.cuda.amp.autocast():  # FP16에서 실행 후 추출\n",
      "Processing batches: 100%|██████████| 1/1 [00:00<00:00,  1.54it/s]\n"
     ]
    },
    {
     "name": "stdout",
     "output_type": "stream",
     "text": [
      "A: 초콜릿: 40%, 생크림: 30%, 딸기: 15%, 정백당: 10%, 생이스트: 5%\n",
      "초콜릿: 40%, 생크림: 30%, 딸기: 15%, 정백당: 10%, 생이스트: 5%\n"
     ]
    },
    {
     "name": "stderr",
     "output_type": "stream",
     "text": [
      "/tmp/ipykernel_3229947/1013944166.py:20: DtypeWarning: Columns (17,18,19,20,21,22,23,24,25,26,27) have mixed types. Specify dtype option on import or set low_memory=False.\n",
      "  meta_df = pd.read_csv(metadata_file)\n",
      "Processing batches:   0%|          | 0/1 [00:00<?, ?it/s]huggingface/tokenizers: The current process just got forked, after parallelism has already been used. Disabling parallelism to avoid deadlocks...\n",
      "To disable this warning, you can either:\n",
      "\t- Avoid using `tokenizers` before the fork if possible\n",
      "\t- Explicitly set the environment variable TOKENIZERS_PARALLELISM=(true | false)\n",
      "huggingface/tokenizers: The current process just got forked, after parallelism has already been used. Disabling parallelism to avoid deadlocks...\n",
      "To disable this warning, you can either:\n",
      "\t- Avoid using `tokenizers` before the fork if possible\n",
      "\t- Explicitly set the environment variable TOKENIZERS_PARALLELISM=(true | false)\n",
      "huggingface/tokenizers: The current process just got forked, after parallelism has already been used. Disabling parallelism to avoid deadlocks...\n",
      "To disable this warning, you can either:\n",
      "\t- Avoid using `tokenizers` before the fork if possible\n",
      "\t- Explicitly set the environment variable TOKENIZERS_PARALLELISM=(true | false)\n",
      "huggingface/tokenizers: The current process just got forked, after parallelism has already been used. Disabling parallelism to avoid deadlocks...\n",
      "To disable this warning, you can either:\n",
      "\t- Avoid using `tokenizers` before the fork if possible\n",
      "\t- Explicitly set the environment variable TOKENIZERS_PARALLELISM=(true | false)\n",
      "/tmp/ipykernel_3229947/3384497375.py:41: FutureWarning: `torch.cuda.amp.autocast(args...)` is deprecated. Please use `torch.amp.autocast('cuda', args...)` instead.\n",
      "  with torch.cuda.amp.autocast():  # FP16에서 실행 후 추출\n",
      "Processing batches: 100%|██████████| 1/1 [00:00<00:00,  1.51it/s]\n"
     ]
    },
    {
     "name": "stdout",
     "output_type": "stream",
     "text": [
      "A: 바나나: 30%, 계란: 25%, 설탕: 15%, 단호박분말: 10%, 당근분말: 10%, 밀가루: 10%, 정제소금: 5%, 멸균우유: 5%, 저당: 5%, 난황액: 3%, 코코아분말(블랙): 2%, 백설탕: 2%, 해조칼슘: 2%, 토마토분말: 1%, 땅콩분태: 1%, 비트분말: 1%, 버터블랜드: 1%, 분당: 1%, 아이싱프리믹스: 1%, 시금치분말: 1%, 전란액: 1%, 자색고구마분말: 1%\n",
      "바나나: 30%, 계란: 25%, 설탕: 15%, 단호박분말: 10%, 당근분말: 10%, 밀가루: 10%, 정제소금: 5%, 멸균우유: 5%, 저당: 5%, 난황액: 3%, 코코아분말(블랙): 2%, 백설탕: 2%, 해조칼슘: 2%, 토마토분말: 1%, 땅콩분태: 1%, 비트분말: 1%, 버터블랜드: 1%, 분당: 1%, 아이싱프리믹스: 1%, 시금치분말: 1%, 전란액: 1%, 자색고구마분말: 1%\n"
     ]
    },
    {
     "name": "stderr",
     "output_type": "stream",
     "text": [
      "/tmp/ipykernel_3229947/1013944166.py:20: DtypeWarning: Columns (17,18,19,20,21,22,23,24,25,26,27) have mixed types. Specify dtype option on import or set low_memory=False.\n",
      "  meta_df = pd.read_csv(metadata_file)\n",
      "Processing batches:   0%|          | 0/1 [00:00<?, ?it/s]huggingface/tokenizers: The current process just got forked, after parallelism has already been used. Disabling parallelism to avoid deadlocks...\n",
      "To disable this warning, you can either:\n",
      "\t- Avoid using `tokenizers` before the fork if possible\n",
      "\t- Explicitly set the environment variable TOKENIZERS_PARALLELISM=(true | false)\n",
      "huggingface/tokenizers: The current process just got forked, after parallelism has already been used. Disabling parallelism to avoid deadlocks...\n",
      "To disable this warning, you can either:\n",
      "\t- Avoid using `tokenizers` before the fork if possible\n",
      "\t- Explicitly set the environment variable TOKENIZERS_PARALLELISM=(true | false)\n",
      "huggingface/tokenizers: The current process just got forked, after parallelism has already been used. Disabling parallelism to avoid deadlocks...\n",
      "To disable this warning, you can either:\n",
      "\t- Avoid using `tokenizers` before the fork if possible\n",
      "\t- Explicitly set the environment variable TOKENIZERS_PARALLELISM=(true | false)\n",
      "huggingface/tokenizers: The current process just got forked, after parallelism has already been used. Disabling parallelism to avoid deadlocks...\n",
      "To disable this warning, you can either:\n",
      "\t- Avoid using `tokenizers` before the fork if possible\n",
      "\t- Explicitly set the environment variable TOKENIZERS_PARALLELISM=(true | false)\n",
      "/tmp/ipykernel_3229947/3384497375.py:41: FutureWarning: `torch.cuda.amp.autocast(args...)` is deprecated. Please use `torch.amp.autocast('cuda', args...)` instead.\n",
      "  with torch.cuda.amp.autocast():  # FP16에서 실행 후 추출\n",
      "Processing batches: 100%|██████████| 1/1 [00:00<00:00,  1.54it/s]\n"
     ]
    },
    {
     "name": "stdout",
     "output_type": "stream",
     "text": [
      "A: 아몬드: 30%, 설탕: 25%, 버터: 15%, 생이스트: 10%, 강력밀가루: 10%, 밀크칼슘: 5%, 파파콘: 5%\n",
      "아몬드: 30%, 설탕: 25%, 버터: 15%, 생이스트: 10%, 강력밀가루: 10%, 밀크칼슘: 5%, 파파콘: 5%\n"
     ]
    },
    {
     "name": "stderr",
     "output_type": "stream",
     "text": [
      "/tmp/ipykernel_3229947/1013944166.py:46: DtypeWarning: Columns (24,25,26,27,28,29,30,31) have mixed types. Specify dtype option on import or set low_memory=False.\n",
      "  meta_df = pd.read_csv(metadata_file)\n",
      "Processing batches:   0%|          | 0/1 [00:00<?, ?it/s]huggingface/tokenizers: The current process just got forked, after parallelism has already been used. Disabling parallelism to avoid deadlocks...\n",
      "To disable this warning, you can either:\n",
      "\t- Avoid using `tokenizers` before the fork if possible\n",
      "\t- Explicitly set the environment variable TOKENIZERS_PARALLELISM=(true | false)\n",
      "huggingface/tokenizers: The current process just got forked, after parallelism has already been used. Disabling parallelism to avoid deadlocks...\n",
      "To disable this warning, you can either:\n",
      "\t- Avoid using `tokenizers` before the fork if possible\n",
      "\t- Explicitly set the environment variable TOKENIZERS_PARALLELISM=(true | false)\n",
      "huggingface/tokenizers: The current process just got forked, after parallelism has already been used. Disabling parallelism to avoid deadlocks...\n",
      "To disable this warning, you can either:\n",
      "\t- Avoid using `tokenizers` before the fork if possible\n",
      "\t- Explicitly set the environment variable TOKENIZERS_PARALLELISM=(true | false)\n",
      "huggingface/tokenizers: The current process just got forked, after parallelism has already been used. Disabling parallelism to avoid deadlocks...\n",
      "To disable this warning, you can either:\n",
      "\t- Avoid using `tokenizers` before the fork if possible\n",
      "\t- Explicitly set the environment variable TOKENIZERS_PARALLELISM=(true | false)\n",
      "/tmp/ipykernel_3229947/3384497375.py:41: FutureWarning: `torch.cuda.amp.autocast(args...)` is deprecated. Please use `torch.amp.autocast('cuda', args...)` instead.\n",
      "  with torch.cuda.amp.autocast():  # FP16에서 실행 후 추출\n",
      "Processing batches: 100%|██████████| 1/1 [00:00<00:00,  1.33it/s]\n"
     ]
    },
    {
     "name": "stdout",
     "output_type": "stream",
     "text": [
      "A: 수프: 20%, 쌀: 40%, 닭고기: 15%, 참기름: 10%, 부추: 5%\n",
      "수프: 20%, 쌀: 40%, 닭고기: 15%, 참기름: 10%, 부추: 5%\n"
     ]
    },
    {
     "name": "stderr",
     "output_type": "stream",
     "text": [
      "/tmp/ipykernel_3229947/1013944166.py:46: DtypeWarning: Columns (24,25,26,27,28,29,30,31) have mixed types. Specify dtype option on import or set low_memory=False.\n",
      "  meta_df = pd.read_csv(metadata_file)\n",
      "Processing batches:   0%|          | 0/1 [00:00<?, ?it/s]huggingface/tokenizers: The current process just got forked, after parallelism has already been used. Disabling parallelism to avoid deadlocks...\n",
      "To disable this warning, you can either:\n",
      "\t- Avoid using `tokenizers` before the fork if possible\n",
      "\t- Explicitly set the environment variable TOKENIZERS_PARALLELISM=(true | false)\n",
      "huggingface/tokenizers: The current process just got forked, after parallelism has already been used. Disabling parallelism to avoid deadlocks...\n",
      "To disable this warning, you can either:\n",
      "\t- Avoid using `tokenizers` before the fork if possible\n",
      "\t- Explicitly set the environment variable TOKENIZERS_PARALLELISM=(true | false)\n",
      "huggingface/tokenizers: The current process just got forked, after parallelism has already been used. Disabling parallelism to avoid deadlocks...\n",
      "To disable this warning, you can either:\n",
      "\t- Avoid using `tokenizers` before the fork if possible\n",
      "\t- Explicitly set the environment variable TOKENIZERS_PARALLELISM=(true | false)\n",
      "huggingface/tokenizers: The current process just got forked, after parallelism has already been used. Disabling parallelism to avoid deadlocks...\n",
      "To disable this warning, you can either:\n",
      "\t- Avoid using `tokenizers` before the fork if possible\n",
      "\t- Explicitly set the environment variable TOKENIZERS_PARALLELISM=(true | false)\n",
      "/tmp/ipykernel_3229947/3384497375.py:41: FutureWarning: `torch.cuda.amp.autocast(args...)` is deprecated. Please use `torch.amp.autocast('cuda', args...)` instead.\n",
      "  with torch.cuda.amp.autocast():  # FP16에서 실행 후 추출\n",
      "Processing batches: 100%|██████████| 1/1 [00:00<00:00,  1.32it/s]\n"
     ]
    },
    {
     "name": "stdout",
     "output_type": "stream",
     "text": [
      "A: 수프: 30%, 감자: 25%, 버터: 10%, 우유: 10%, 당면: 10%, 메밀가루: 5%, 참나물: 5%, 밀가루: 5%, 정제소금: 5%, 부추: 3%, 생마늘: 3%, 유화유지p: 2%, 대두단백: 2%, 취나물: 2%, 백설탕: 1%, yk2x: 1%, 돼지고기: 1%, 양배추: 1%, 양파: 1%, 맛내기양념: 1%, 유화유지피: 1%, 생대파: 1%, 볶음메밀가루: 1%, 찹쌀가루: 1%, 후춧가루: 1%, 밀글루텐: 1%, 참기름: 1%, 절임배추: 1%, 마늘: 1%, 가루찹살: 1%, 쇠고기추출분말: 1%, 양조간장: 1%, 난백: 1%, nan: 1%, nan: 1%\n",
      "수프: 30%, 감자: 25%, 버터: 10%, 우유: 10%, 당면: 10%, 메밀가루: 5%, 참나물: 5%, 밀가루: 5%, 정제소금: 5%, 부추: 3%, 생마늘: 3%, 유화유지p: 2%, 대두단백: 2%, 취나물: 2%, 백설탕: 1%, yk2x: 1%, 돼지고기: 1%, 양배추: 1%, 양파: 1%, 맛내기양념: 1%, 유화유지피: 1%, 생대파: 1%, 볶음메밀가루: 1%, 찹쌀가루: 1%, 후춧가루: 1%, 밀글루텐: 1%, 참기름: 1%, 절임배추: 1%, 마늘: 1%, 가루찹살: 1%, 쇠고기추출분말: 1%, 양조간장: 1%, 난백: 1%, nan: 1%, nan: 1%\n"
     ]
    },
    {
     "name": "stderr",
     "output_type": "stream",
     "text": [
      "/tmp/ipykernel_3229947/1013944166.py:46: DtypeWarning: Columns (24,25,26,27,28,29,30,31) have mixed types. Specify dtype option on import or set low_memory=False.\n",
      "  meta_df = pd.read_csv(metadata_file)\n",
      "Processing batches:   0%|          | 0/1 [00:00<?, ?it/s]huggingface/tokenizers: The current process just got forked, after parallelism has already been used. Disabling parallelism to avoid deadlocks...\n",
      "To disable this warning, you can either:\n",
      "\t- Avoid using `tokenizers` before the fork if possible\n",
      "\t- Explicitly set the environment variable TOKENIZERS_PARALLELISM=(true | false)\n",
      "huggingface/tokenizers: The current process just got forked, after parallelism has already been used. Disabling parallelism to avoid deadlocks...\n",
      "To disable this warning, you can either:\n",
      "\t- Avoid using `tokenizers` before the fork if possible\n",
      "\t- Explicitly set the environment variable TOKENIZERS_PARALLELISM=(true | false)\n",
      "huggingface/tokenizers: The current process just got forked, after parallelism has already been used. Disabling parallelism to avoid deadlocks...\n",
      "To disable this warning, you can either:\n",
      "\t- Avoid using `tokenizers` before the fork if possible\n",
      "\t- Explicitly set the environment variable TOKENIZERS_PARALLELISM=(true | false)\n",
      "huggingface/tokenizers: The current process just got forked, after parallelism has already been used. Disabling parallelism to avoid deadlocks...\n",
      "To disable this warning, you can either:\n",
      "\t- Avoid using `tokenizers` before the fork if possible\n",
      "\t- Explicitly set the environment variable TOKENIZERS_PARALLELISM=(true | false)\n",
      "/tmp/ipykernel_3229947/3384497375.py:41: FutureWarning: `torch.cuda.amp.autocast(args...)` is deprecated. Please use `torch.amp.autocast('cuda', args...)` instead.\n",
      "  with torch.cuda.amp.autocast():  # FP16에서 실행 후 추출\n",
      "Processing batches: 100%|██████████| 1/1 [00:00<00:00,  2.15it/s]huggingface/tokenizers: The current process just got forked, after parallelism has already been used. Disabling parallelism to avoid deadlocks...\n",
      "To disable this warning, you can either:\n",
      "\t- Avoid using `tokenizers` before the fork if possible\n",
      "\t- Explicitly set the environment variable TOKENIZERS_PARALLELISM=(true | false)\n",
      "Processing batches: 100%|██████████| 1/1 [00:00<00:00,  1.60it/s]\n"
     ]
    },
    {
     "name": "stdout",
     "output_type": "stream",
     "text": [
      "A: 수프: 30%, 호박: 25%, 생크림: 15%, 소금: 10%, 튜메릭분말: 5%, 당면: 5%, 새송이버섯: 5%, 정제소금: 5%, 생마늘: 5%, 아미노베이스p: 3%, 활성글루텐: 3%, 백설탕: 2%, yk2x: 2%, 양배추: 2%, 콩발효맛내기진: 2%, 양파: 2%, 맛내기양념: 2%, 애호박: 2%, 유화유지피: 1%, 생대파: 1%, 우리콩유부슬라이스: 1%, 후추가루: 1%, 당근: 1%, 야채조미오일피: 1%, 참기름: 1%, 우리밀: 1%, 가루찹살: 1%, 양조간장: 1%, 난백: 1%\n",
      "수프: 30%, 호박: 25%, 생크림: 15%, 소금: 10%, 튜메릭분말: 5%, 당면: 5%, 새송이버섯: 5%, 정제소금: 5%, 생마늘: 5%, 아미노베이스p: 3%, 활성글루텐: 3%, 백설탕: 2%, yk2x: 2%, 양배추: 2%, 콩발효맛내기진: 2%, 양파: 2%, 맛내기양념: 2%, 애호박: 2%, 유화유지피: 1%, 생대파: 1%, 우리콩유부슬라이스: 1%, 후추가루: 1%, 당근: 1%, 야채조미오일피: 1%, 참기름: 1%, 우리밀: 1%, 가루찹살: 1%, 양조간장: 1%, 난백: 1%\n"
     ]
    },
    {
     "name": "stderr",
     "output_type": "stream",
     "text": [
      "/tmp/ipykernel_3229947/1013944166.py:46: DtypeWarning: Columns (24,25,26,27,28,29,30,31) have mixed types. Specify dtype option on import or set low_memory=False.\n",
      "  meta_df = pd.read_csv(metadata_file)\n",
      "Processing batches:   0%|          | 0/1 [00:00<?, ?it/s]huggingface/tokenizers: The current process just got forked, after parallelism has already been used. Disabling parallelism to avoid deadlocks...\n",
      "To disable this warning, you can either:\n",
      "\t- Avoid using `tokenizers` before the fork if possible\n",
      "\t- Explicitly set the environment variable TOKENIZERS_PARALLELISM=(true | false)\n",
      "huggingface/tokenizers: The current process just got forked, after parallelism has already been used. Disabling parallelism to avoid deadlocks...\n",
      "To disable this warning, you can either:\n",
      "\t- Avoid using `tokenizers` before the fork if possible\n",
      "\t- Explicitly set the environment variable TOKENIZERS_PARALLELISM=(true | false)\n",
      "huggingface/tokenizers: The current process just got forked, after parallelism has already been used. Disabling parallelism to avoid deadlocks...\n",
      "To disable this warning, you can either:\n",
      "\t- Avoid using `tokenizers` before the fork if possible\n",
      "\t- Explicitly set the environment variable TOKENIZERS_PARALLELISM=(true | false)\n",
      "huggingface/tokenizers: The current process just got forked, after parallelism has already been used. Disabling parallelism to avoid deadlocks...\n",
      "To disable this warning, you can either:\n",
      "\t- Avoid using `tokenizers` before the fork if possible\n",
      "\t- Explicitly set the environment variable TOKENIZERS_PARALLELISM=(true | false)\n",
      "/tmp/ipykernel_3229947/3384497375.py:41: FutureWarning: `torch.cuda.amp.autocast(args...)` is deprecated. Please use `torch.amp.autocast('cuda', args...)` instead.\n",
      "  with torch.cuda.amp.autocast():  # FP16에서 실행 후 추출\n",
      "Processing batches: 100%|██████████| 1/1 [00:00<00:00,  1.65it/s]\n"
     ]
    },
    {
     "name": "stdout",
     "output_type": "stream",
     "text": [
      "A: 수프: 30%, 해물: 25%, 파: 10%, 마늘: 5%, 당면: 10%, 굴소스p: 5%, 밀가루: 5%, 부추: 5%, 생마늘: 5%, 대두단백: 5%, 깻잎: 3%, 발아현미분말: 2%, 밀식이섬유: 2%, 양배추: 2%, 콩발효맛내기진: 2%, 양파: 2%, 맛내기양념: 2%, 애호박: 2%, 유화유지피: 1%, 생대파: 1%, 볶음메밀가루: 1%, 아베베nl2: 1%, 우리콩유부슬라이스: 1%, 후추가루: 1%, 당근: 1%, 숙주나물: 1%, 밀글루텐: 1%, 야채조미오일피: 1%, 두부: 1%, 참기름: 1%, 고추씨맛기름: 1%, 절임배추: 1%, 스테비텐리치: 0.5%, 양조간장: 0.5%, 난백: 0.5%\n",
      "수프: 30%, 해물: 25%, 파: 10%, 마늘: 5%, 당면: 10%, 굴소스p: 5%, 밀가루: 5%, 부추: 5%, 생마늘: 5%, 대두단백: 5%, 깻잎: 3%, 발아현미분말: 2%, 밀식이섬유: 2%, 양배추: 2%, 콩발효맛내기진: 2%, 양파: 2%, 맛내기양념: 2%, 애호박: 2%, 유화유지피: 1%, 생대파: 1%, 볶음메밀가루: 1%, 아베베nl2: 1%, 우리콩유부슬라이스: 1%, 후추가루: 1%, 당근: 1%, 숙주나물: 1%, 밀글루텐: 1%, 야채조미오일피: 1%, 두부: 1%, 참기름: 1%, 고추씨맛기름: 1%, 절임배추: 1%, 스테비텐리치: 0.5%, 양조간장: 0.5%, 난백: 0.5%\n"
     ]
    },
    {
     "name": "stderr",
     "output_type": "stream",
     "text": [
      "/tmp/ipykernel_3229947/1013944166.py:46: DtypeWarning: Columns (24,25,26,27,28,29,30,31) have mixed types. Specify dtype option on import or set low_memory=False.\n",
      "  meta_df = pd.read_csv(metadata_file)\n",
      "Processing batches:   0%|          | 0/1 [00:00<?, ?it/s]huggingface/tokenizers: The current process just got forked, after parallelism has already been used. Disabling parallelism to avoid deadlocks...\n",
      "To disable this warning, you can either:\n",
      "\t- Avoid using `tokenizers` before the fork if possible\n",
      "\t- Explicitly set the environment variable TOKENIZERS_PARALLELISM=(true | false)\n",
      "huggingface/tokenizers: The current process just got forked, after parallelism has already been used. Disabling parallelism to avoid deadlocks...\n",
      "To disable this warning, you can either:\n",
      "\t- Avoid using `tokenizers` before the fork if possible\n",
      "\t- Explicitly set the environment variable TOKENIZERS_PARALLELISM=(true | false)\n",
      "huggingface/tokenizers: The current process just got forked, after parallelism has already been used. Disabling parallelism to avoid deadlocks...\n",
      "To disable this warning, you can either:\n",
      "\t- Avoid using `tokenizers` before the fork if possible\n",
      "\t- Explicitly set the environment variable TOKENIZERS_PARALLELISM=(true | false)\n",
      "huggingface/tokenizers: The current process just got forked, after parallelism has already been used. Disabling parallelism to avoid deadlocks...\n",
      "To disable this warning, you can either:\n",
      "\t- Avoid using `tokenizers` before the fork if possible\n",
      "\t- Explicitly set the environment variable TOKENIZERS_PARALLELISM=(true | false)\n",
      "/tmp/ipykernel_3229947/3384497375.py:41: FutureWarning: `torch.cuda.amp.autocast(args...)` is deprecated. Please use `torch.amp.autocast('cuda', args...)` instead.\n",
      "  with torch.cuda.amp.autocast():  # FP16에서 실행 후 추출\n",
      "Processing batches: 100%|██████████| 1/1 [00:00<00:00,  1.66it/s]\n"
     ]
    },
    {
     "name": "stdout",
     "output_type": "stream",
     "text": [
      "A: 수프: 30%, 버섯: 20%, 소고기: 15%, 우유: 10%, 당면: 10%, 부추: 5%, 대두단백: 5%, 정제소금: 5%, 돼지고기: 5%, 생강: 5%, 정제수: 5%, 콩발효맛내기진: 3%, 양파: 3%, 5리보뉴클레오티드이나트륨: 2%, 리치밀감자전분가공품: 2%, 유화유지피: 2%, 만두믹스: 2%, 볶음콩가루: 1%, 대파: 1%, 소고기밑국물분말: 1%, 두부: 1%, 들깨가루: 1%, 마늘: 1%, 양파시즈닝오일: 1%, 카카오색소: 0.5%, 양조간장: 0.5%\n",
      "수프: 30%, 버섯: 20%, 소고기: 15%, 우유: 10%, 당면: 10%, 부추: 5%, 대두단백: 5%, 정제소금: 5%, 돼지고기: 5%, 생강: 5%, 정제수: 5%, 콩발효맛내기진: 3%, 양파: 3%, 5리보뉴클레오티드이나트륨: 2%, 리치밀감자전분가공품: 2%, 유화유지피: 2%, 만두믹스: 2%, 볶음콩가루: 1%, 대파: 1%, 소고기밑국물분말: 1%, 두부: 1%, 들깨가루: 1%, 마늘: 1%, 양파시즈닝오일: 1%, 카카오색소: 0.5%, 양조간장: 0.5%\n"
     ]
    },
    {
     "name": "stderr",
     "output_type": "stream",
     "text": [
      "/tmp/ipykernel_3229947/1013944166.py:20: DtypeWarning: Columns (25) have mixed types. Specify dtype option on import or set low_memory=False.\n",
      "  meta_df = pd.read_csv(metadata_file)\n",
      "Processing batches:   0%|          | 0/1 [00:00<?, ?it/s]huggingface/tokenizers: The current process just got forked, after parallelism has already been used. Disabling parallelism to avoid deadlocks...\n",
      "To disable this warning, you can either:\n",
      "\t- Avoid using `tokenizers` before the fork if possible\n",
      "\t- Explicitly set the environment variable TOKENIZERS_PARALLELISM=(true | false)\n",
      "huggingface/tokenizers: The current process just got forked, after parallelism has already been used. Disabling parallelism to avoid deadlocks...\n",
      "To disable this warning, you can either:\n",
      "\t- Avoid using `tokenizers` before the fork if possible\n",
      "\t- Explicitly set the environment variable TOKENIZERS_PARALLELISM=(true | false)\n",
      "huggingface/tokenizers: The current process just got forked, after parallelism has already been used. Disabling parallelism to avoid deadlocks...\n",
      "To disable this warning, you can either:\n",
      "\t- Avoid using `tokenizers` before the fork if possible\n",
      "\t- Explicitly set the environment variable TOKENIZERS_PARALLELISM=(true | false)\n",
      "huggingface/tokenizers: The current process just got forked, after parallelism has already been used. Disabling parallelism to avoid deadlocks...\n",
      "To disable this warning, you can either:\n",
      "\t- Avoid using `tokenizers` before the fork if possible\n",
      "\t- Explicitly set the environment variable TOKENIZERS_PARALLELISM=(true | false)\n",
      "/tmp/ipykernel_3229947/3384497375.py:41: FutureWarning: `torch.cuda.amp.autocast(args...)` is deprecated. Please use `torch.amp.autocast('cuda', args...)` instead.\n",
      "  with torch.cuda.amp.autocast():  # FP16에서 실행 후 추출\n",
      "Processing batches: 100%|██████████| 1/1 [00:00<00:00,  2.34it/s]huggingface/tokenizers: The current process just got forked, after parallelism has already been used. Disabling parallelism to avoid deadlocks...\n",
      "To disable this warning, you can either:\n",
      "\t- Avoid using `tokenizers` before the fork if possible\n",
      "\t- Explicitly set the environment variable TOKENIZERS_PARALLELISM=(true | false)\n",
      "Processing batches: 100%|██████████| 1/1 [00:00<00:00,  1.69it/s]\n"
     ]
    },
    {
     "name": "stdout",
     "output_type": "stream",
     "text": [
      "A: 소고기: 50%, 부추: 20%, 대파: 10%, 양배추: 10%, 당근: 5%, 양파: 5%, 마늘: 5%\n",
      "소고기: 50%, 부추: 20%, 대파: 10%, 양배추: 10%, 당근: 5%, 양파: 5%, 마늘: 5%\n"
     ]
    },
    {
     "name": "stderr",
     "output_type": "stream",
     "text": [
      "/tmp/ipykernel_3229947/1013944166.py:20: DtypeWarning: Columns (25) have mixed types. Specify dtype option on import or set low_memory=False.\n",
      "  meta_df = pd.read_csv(metadata_file)\n",
      "Processing batches:   0%|          | 0/1 [00:00<?, ?it/s]huggingface/tokenizers: The current process just got forked, after parallelism has already been used. Disabling parallelism to avoid deadlocks...\n",
      "To disable this warning, you can either:\n",
      "\t- Avoid using `tokenizers` before the fork if possible\n",
      "\t- Explicitly set the environment variable TOKENIZERS_PARALLELISM=(true | false)\n",
      "huggingface/tokenizers: The current process just got forked, after parallelism has already been used. Disabling parallelism to avoid deadlocks...\n",
      "To disable this warning, you can either:\n",
      "\t- Avoid using `tokenizers` before the fork if possible\n",
      "\t- Explicitly set the environment variable TOKENIZERS_PARALLELISM=(true | false)\n",
      "huggingface/tokenizers: The current process just got forked, after parallelism has already been used. Disabling parallelism to avoid deadlocks...\n",
      "To disable this warning, you can either:\n",
      "\t- Avoid using `tokenizers` before the fork if possible\n",
      "\t- Explicitly set the environment variable TOKENIZERS_PARALLELISM=(true | false)\n",
      "huggingface/tokenizers: The current process just got forked, after parallelism has already been used. Disabling parallelism to avoid deadlocks...\n",
      "To disable this warning, you can either:\n",
      "\t- Avoid using `tokenizers` before the fork if possible\n",
      "\t- Explicitly set the environment variable TOKENIZERS_PARALLELISM=(true | false)\n",
      "/tmp/ipykernel_3229947/3384497375.py:41: FutureWarning: `torch.cuda.amp.autocast(args...)` is deprecated. Please use `torch.amp.autocast('cuda', args...)` instead.\n",
      "  with torch.cuda.amp.autocast():  # FP16에서 실행 후 추출\n",
      "Processing batches: 100%|██████████| 1/1 [00:00<00:00,  1.67it/s]\n"
     ]
    },
    {
     "name": "stdout",
     "output_type": "stream",
     "text": [
      "A: 돼지고기: 50%, 된장: 15%, 고추장: 10%, 대두단백: 5%, 양배추: 5%, 양파: 5%, 백설탕: 3%, 콩단백숯불직화구이: 2%, 쌀: 2%, 5리보뉴클레오티드이나트륨: 1%, 대파: 1%, 참기름: 1%, 옥수수전분: 1%, 대두유: 1%, 마늘: 1%, 직화구이맛소스h: 0.5%, 냉동당근: 0.5%, 정제염: 0.5%, 양조간장: 0.3%, 부추: 0.2%, nan, nan, nan, nan, nan, nan, nan, nan\n",
      "돼지고기: 50%, 된장: 15%, 고추장: 10%, 대두단백: 5%, 양배추: 5%, 양파: 5%, 백설탕: 3%, 콩단백숯불직화구이: 2%, 쌀: 2%, 5리보뉴클레오티드이나트륨: 1%, 대파: 1%, 참기름: 1%, 옥수수전분: 1%, 대두유: 1%, 마늘: 1%, 직화구이맛소스h: 0.5%, 냉동당근: 0.5%, 정제염: 0.5%, 양조간장: 0.3%, 부추: 0.2%, nan, nan, nan, nan, nan, nan, nan, nan\n"
     ]
    },
    {
     "name": "stderr",
     "output_type": "stream",
     "text": [
      "/tmp/ipykernel_3229947/1013944166.py:20: DtypeWarning: Columns (25) have mixed types. Specify dtype option on import or set low_memory=False.\n",
      "  meta_df = pd.read_csv(metadata_file)\n",
      "Processing batches:   0%|          | 0/1 [00:00<?, ?it/s]huggingface/tokenizers: The current process just got forked, after parallelism has already been used. Disabling parallelism to avoid deadlocks...\n",
      "To disable this warning, you can either:\n",
      "\t- Avoid using `tokenizers` before the fork if possible\n",
      "\t- Explicitly set the environment variable TOKENIZERS_PARALLELISM=(true | false)\n",
      "huggingface/tokenizers: The current process just got forked, after parallelism has already been used. Disabling parallelism to avoid deadlocks...\n",
      "To disable this warning, you can either:\n",
      "\t- Avoid using `tokenizers` before the fork if possible\n",
      "\t- Explicitly set the environment variable TOKENIZERS_PARALLELISM=(true | false)\n",
      "huggingface/tokenizers: The current process just got forked, after parallelism has already been used. Disabling parallelism to avoid deadlocks...\n",
      "To disable this warning, you can either:\n",
      "\t- Avoid using `tokenizers` before the fork if possible\n",
      "\t- Explicitly set the environment variable TOKENIZERS_PARALLELISM=(true | false)\n",
      "huggingface/tokenizers: The current process just got forked, after parallelism has already been used. Disabling parallelism to avoid deadlocks...\n",
      "To disable this warning, you can either:\n",
      "\t- Avoid using `tokenizers` before the fork if possible\n",
      "\t- Explicitly set the environment variable TOKENIZERS_PARALLELISM=(true | false)\n",
      "/tmp/ipykernel_3229947/3384497375.py:41: FutureWarning: `torch.cuda.amp.autocast(args...)` is deprecated. Please use `torch.amp.autocast('cuda', args...)` instead.\n",
      "  with torch.cuda.amp.autocast():  # FP16에서 실행 후 추출\n",
      "Processing batches: 100%|██████████| 1/1 [00:00<00:00,  1.81it/s]\n"
     ]
    },
    {
     "name": "stdout",
     "output_type": "stream",
     "text": [
      "A: 양고기: 50%, 프리믹스-SP: 20%, 카라멜당시럽: 10%, 빵가루: 10%, 올리브유: 5%, 허브: 5%\n",
      "양고기: 50%, 프리믹스-SP: 20%, 카라멜당시럽: 10%, 빵가루: 10%, 올리브유: 5%, 허브: 5%\n"
     ]
    },
    {
     "name": "stderr",
     "output_type": "stream",
     "text": [
      "/tmp/ipykernel_3229947/1013944166.py:20: DtypeWarning: Columns (25) have mixed types. Specify dtype option on import or set low_memory=False.\n",
      "  meta_df = pd.read_csv(metadata_file)\n",
      "Processing batches:   0%|          | 0/1 [00:00<?, ?it/s]huggingface/tokenizers: The current process just got forked, after parallelism has already been used. Disabling parallelism to avoid deadlocks...\n",
      "To disable this warning, you can either:\n",
      "\t- Avoid using `tokenizers` before the fork if possible\n",
      "\t- Explicitly set the environment variable TOKENIZERS_PARALLELISM=(true | false)\n",
      "huggingface/tokenizers: The current process just got forked, after parallelism has already been used. Disabling parallelism to avoid deadlocks...\n",
      "To disable this warning, you can either:\n",
      "\t- Avoid using `tokenizers` before the fork if possible\n",
      "\t- Explicitly set the environment variable TOKENIZERS_PARALLELISM=(true | false)\n",
      "huggingface/tokenizers: The current process just got forked, after parallelism has already been used. Disabling parallelism to avoid deadlocks...\n",
      "To disable this warning, you can either:\n",
      "\t- Avoid using `tokenizers` before the fork if possible\n",
      "\t- Explicitly set the environment variable TOKENIZERS_PARALLELISM=(true | false)\n",
      "huggingface/tokenizers: The current process just got forked, after parallelism has already been used. Disabling parallelism to avoid deadlocks...\n",
      "To disable this warning, you can either:\n",
      "\t- Avoid using `tokenizers` before the fork if possible\n",
      "\t- Explicitly set the environment variable TOKENIZERS_PARALLELISM=(true | false)\n",
      "/tmp/ipykernel_3229947/3384497375.py:41: FutureWarning: `torch.cuda.amp.autocast(args...)` is deprecated. Please use `torch.amp.autocast('cuda', args...)` instead.\n",
      "  with torch.cuda.amp.autocast():  # FP16에서 실행 후 추출\n",
      "Processing batches: 100%|██████████| 1/1 [00:00<00:00,  1.80it/s]\n"
     ]
    },
    {
     "name": "stdout",
     "output_type": "stream",
     "text": [
      "A: 닭고기: 50%, 간장: 10%, 마늘: 5%, 콩식용유: 10%, 닭가슴살: 10%, 폴리인산나트륨: 5%, 시즈닝dy: 5%, 정제소금: 5%, 난백분: 2%, 올리브유: 3%\n",
      "닭고기: 50%, 간장: 10%, 마늘: 5%, 콩식용유: 10%, 닭가슴살: 10%, 폴리인산나트륨: 5%, 시즈닝dy: 5%, 정제소금: 5%, 난백분: 2%, 올리브유: 3%\n"
     ]
    },
    {
     "name": "stderr",
     "output_type": "stream",
     "text": [
      "/tmp/ipykernel_3229947/1013944166.py:20: DtypeWarning: Columns (25) have mixed types. Specify dtype option on import or set low_memory=False.\n",
      "  meta_df = pd.read_csv(metadata_file)\n",
      "Processing batches:   0%|          | 0/1 [00:00<?, ?it/s]huggingface/tokenizers: The current process just got forked, after parallelism has already been used. Disabling parallelism to avoid deadlocks...\n",
      "To disable this warning, you can either:\n",
      "\t- Avoid using `tokenizers` before the fork if possible\n",
      "\t- Explicitly set the environment variable TOKENIZERS_PARALLELISM=(true | false)\n",
      "huggingface/tokenizers: The current process just got forked, after parallelism has already been used. Disabling parallelism to avoid deadlocks...\n",
      "To disable this warning, you can either:\n",
      "\t- Avoid using `tokenizers` before the fork if possible\n",
      "\t- Explicitly set the environment variable TOKENIZERS_PARALLELISM=(true | false)\n",
      "huggingface/tokenizers: The current process just got forked, after parallelism has already been used. Disabling parallelism to avoid deadlocks...\n",
      "To disable this warning, you can either:\n",
      "\t- Avoid using `tokenizers` before the fork if possible\n",
      "\t- Explicitly set the environment variable TOKENIZERS_PARALLELISM=(true | false)\n",
      "huggingface/tokenizers: The current process just got forked, after parallelism has already been used. Disabling parallelism to avoid deadlocks...\n",
      "To disable this warning, you can either:\n",
      "\t- Avoid using `tokenizers` before the fork if possible\n",
      "\t- Explicitly set the environment variable TOKENIZERS_PARALLELISM=(true | false)\n",
      "/tmp/ipykernel_3229947/3384497375.py:41: FutureWarning: `torch.cuda.amp.autocast(args...)` is deprecated. Please use `torch.amp.autocast('cuda', args...)` instead.\n",
      "  with torch.cuda.amp.autocast():  # FP16에서 실행 후 추출\n",
      "Processing batches: 100%|██████████| 1/1 [00:00<00:00,  1.77it/s]\n"
     ]
    },
    {
     "name": "stdout",
     "output_type": "stream",
     "text": [
      "A: 베이컨: 25%, 계란: 10%, 감자: 30%, 부추: 5%, 양배추: 10%, 당근: 5%, 대파: 5%, 참기름: 5%\n",
      "베이컨: 25%, 계란: 10%, 감자: 30%, 부추: 5%, 양배추: 10%, 당근: 5%, 대파: 5%, 참기름: 5%\n",
      "JSON 파일 저장이 완료되었습니다.\n"
     ]
    }
   ],
   "source": [
    "import json\n",
    "\n",
    "data_to_save = []\n",
    "\n",
    "for qu in query_li:\n",
    "    category = qu.split(', ')[0].strip()\n",
    "\n",
    "    most_similar = find_similar(qu)\n",
    "    # print(most_similar)\n",
    "\n",
    "    response = gen_response(qu, most_similar, category)\n",
    "    response = response.content\n",
    "    print(response)\n",
    "\n",
    "    response = response.split('A:')[-1].strip()\n",
    "    matches = re.findall(r'[가-힣a-zA-Z0-9]+:\\s*\\d+%', response)\n",
    "    A = ', '.join(matches)\n",
    "\n",
    "    missed_q = []\n",
    "    for q in qu.split(', ')[1:]:\n",
    "        if q.strip() not in A:\n",
    "            missed_q.append(q)\n",
    "\n",
    "    if len(missed_q) != 0:\n",
    "        response = gen_response_v2(A, missed_q)\n",
    "        response = response.content\n",
    "\n",
    "    print(response)\n",
    "\n",
    "    data_to_save.append({\n",
    "        \"query\": qu,\n",
    "        \"most_similar\": most_similar,\n",
    "        \"response\": response,\n",
    "    })\n",
    "\n",
    "with open('result_data.json', 'w', encoding='utf-8') as json_file:\n",
    "    json.dump(data_to_save, json_file, ensure_ascii=False, indent=4)\n",
    "\n",
    "print(\"JSON 파일 저장이 완료되었습니다.\")\n",
    "\n",
    "# 평균 생성 시간 - 12초"
   ]
  },
  {
   "cell_type": "code",
   "execution_count": null,
   "metadata": {},
   "outputs": [],
   "source": []
  }
 ],
 "metadata": {
  "kernelspec": {
   "display_name": "pm1_kernel",
   "language": "python",
   "name": "pm1"
  },
  "language_info": {
   "codemirror_mode": {
    "name": "ipython",
    "version": 3
   },
   "file_extension": ".py",
   "mimetype": "text/x-python",
   "name": "python",
   "nbconvert_exporter": "python",
   "pygments_lexer": "ipython3",
   "version": "3.12.4"
  }
 },
 "nbformat": 4,
 "nbformat_minor": 2
}
